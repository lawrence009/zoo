{
 "cells": [
  {
   "cell_type": "markdown",
   "id": "dc48b1d7-0d93-4ea9-82a4-7ce8e15b4256",
   "metadata": {
    "editable": true,
    "jp-MarkdownHeadingCollapsed": true,
    "slideshow": {
     "slide_type": ""
    },
    "tags": []
   },
   "source": [
    "# Analysis of Personal Finance Bookkeeping Activity\n",
    "Per Offical Account (OA) dashboard\n",
    "1/31/2025  \n",
    "628,181 Friends added  \n",
    "312,619 Target reach  \n",
    "288,289 Blocked count\n",
    "\n",
    "Transaction Database  \n",
    "651,793 users (acc_user)  \n",
    "317,726 blocked (acc_user)  \n",
    "399,125 unique users (acc_cashflow)\n",
    "\n",
    "What is the motivation for conducting this analysis?\n",
    "\n"
   ]
  },
  {
   "cell_type": "markdown",
   "id": "e69f848e-8054-4c44-b562-e66bffda67ef",
   "metadata": {
    "editable": true,
    "slideshow": {
     "slide_type": ""
    },
    "tags": []
   },
   "source": [
    "# Data Source\n",
    "\n",
    "- acc_user\n",
    "- acc_cashflow"
   ]
  },
  {
   "cell_type": "code",
   "execution_count": null,
   "id": "f28e84f6-f952-4670-9929-3b950510cc10",
   "metadata": {
    "editable": true,
    "slideshow": {
     "slide_type": ""
    },
    "tags": []
   },
   "outputs": [],
   "source": [
    "import os\n",
    "from sqlalchemy import create_engine\n",
    "import pandas as pd\n",
    "\n",
    "user = os.getenv(\"MYSQL_USER\")\n",
    "password = os.getenv(\"MYSQL_PASSWORD\")\n",
    "host = \"localhost\"\n",
    "database = \"zoo\"\n",
    "\n",
    "engine = create_engine(f\"mysql+pymysql://{user}:{password}@{host}/{database}\")"
   ]
  },
  {
   "cell_type": "markdown",
   "id": "2e536b9d-f39f-494c-b09f-af461d382409",
   "metadata": {},
   "source": [
    "## Users\n",
    "`user_id`  \n",
    "`is_bot`  \n",
    "`is_agree`: is communication from LINE OA blocked by the user\n",
    "`ts`: timestamp when the record was created but unclear when it is later updated"
   ]
  },
  {
   "cell_type": "code",
   "execution_count": null,
   "id": "28f182c4-cea9-4a5c-af26-489ddfe2c49b",
   "metadata": {},
   "outputs": [],
   "source": [
    "query = \"\"\"\n",
    "SELECT\n",
    "  user_id,\n",
    "  isBot is_bot,\n",
    "  isAgree is_agree,\n",
    "  min(CREDTM) ts\n",
    "FROM zoo_checkchick2.ACC_USER\n",
    "GROUP BY user_id, is_bot, is_agree\n",
    "\"\"\"\n",
    "\n",
    "users = pd.read_sql(query, con=engine,\n",
    "                    dtype=({'is_bot':'bool', 'is_agree':'bool', 'ts':'datetime64[ns]'}))\n",
    "users.info()"
   ]
  },
  {
   "cell_type": "code",
   "execution_count": null,
   "id": "aeeeca9e-37e6-453c-af8f-a634beec8b96",
   "metadata": {},
   "outputs": [],
   "source": [
    "# check for duplicates\n",
    "x = users.groupby('user_id').size()\n",
    "dups=x[x > 1].index\n",
    "len(dups)"
   ]
  },
  {
   "cell_type": "code",
   "execution_count": null,
   "id": "a875f110-fdb1-45fe-8846-1cb72c5e38b7",
   "metadata": {},
   "outputs": [],
   "source": [
    "users[users.user_id.isin(dups)].shape"
   ]
  },
  {
   "cell_type": "code",
   "execution_count": null,
   "id": "5c830be1-857b-46ba-b0e5-246650e63361",
   "metadata": {},
   "outputs": [],
   "source": [
    "# what is dup ratio?\n",
    "89192/44596"
   ]
  },
  {
   "cell_type": "code",
   "execution_count": null,
   "id": "bf5899e8-3726-4a96-abea-18a68e07455c",
   "metadata": {
    "editable": true,
    "slideshow": {
     "slide_type": ""
    },
    "tags": []
   },
   "outputs": [],
   "source": [
    "users[users.user_id.isin(dups)].sort_values(['user_id', 'ts']).tail(10)"
   ]
  },
  {
   "cell_type": "markdown",
   "id": "1c729d6a-5f3c-4bed-8aeb-c9d83b22fa23",
   "metadata": {},
   "source": [
    "Remove duplicates by keeping the last row (most recent) in each group.\n"
   ]
  },
  {
   "cell_type": "code",
   "execution_count": null,
   "id": "361dbdb5-edd9-4875-88d9-08e66d193cc9",
   "metadata": {},
   "outputs": [],
   "source": [
    "users.sort_values(['user_id','ts'], inplace=True)"
   ]
  },
  {
   "cell_type": "code",
   "execution_count": null,
   "id": "16a36001-0a3e-4860-83e9-f3baa222972b",
   "metadata": {},
   "outputs": [],
   "source": [
    "x = users.groupby('user_id', as_index=False).last()\n",
    "x[x.user_id.isin(dups)]"
   ]
  },
  {
   "cell_type": "code",
   "execution_count": null,
   "id": "adf3ab9b-aec3-44bc-ac8c-0e6097d25453",
   "metadata": {},
   "outputs": [],
   "source": [
    "x.shape"
   ]
  },
  {
   "cell_type": "code",
   "execution_count": null,
   "id": "82bf0d61-c40e-4764-a1dc-3c85965b4bf2",
   "metadata": {},
   "outputs": [],
   "source": [
    "users = x"
   ]
  },
  {
   "cell_type": "code",
   "execution_count": null,
   "id": "1161e1bf-b992-4dfb-9340-43ac23215f82",
   "metadata": {
    "scrolled": true
   },
   "outputs": [],
   "source": [
    "# how many Bots?\n",
    "print(users.is_bot.sum())"
   ]
  },
  {
   "cell_type": "code",
   "execution_count": null,
   "id": "8b9af708-9800-44d8-a2cd-35bcfff83ed2",
   "metadata": {},
   "outputs": [],
   "source": [
    "users.query(\"is_bot\")"
   ]
  },
  {
   "cell_type": "markdown",
   "id": "3632a57f-c338-425a-b7b1-896689e7a049",
   "metadata": {},
   "source": [
    "Impute `user_id`  \n",
    "Real user_id starts with captial 'U'"
   ]
  },
  {
   "cell_type": "code",
   "execution_count": null,
   "id": "23621290-db28-480d-b46e-2fa15601f689",
   "metadata": {},
   "outputs": [],
   "source": [
    "i = users.user_id.str.lower().str.startswith('u')\n",
    "users[i].shape\n",
    "users.loc[i, 'user_id'] = users[i]['user_id'].str.capitalize()"
   ]
  },
  {
   "cell_type": "markdown",
   "id": "80ffd933-2619-43be-b73c-8622402d8a8c",
   "metadata": {},
   "source": [
    "Cohorts by user timestamp\n",
    "_n.b._, this is not always the time user followed or added the OA"
   ]
  },
  {
   "cell_type": "code",
   "execution_count": null,
   "id": "c5778a45-cdc1-4a31-8800-212840739105",
   "metadata": {},
   "outputs": [],
   "source": [
    "cohorts = users.groupby(users.ts.dt.year).size()\n",
    "cohorts.name = 'n_new_user'\n",
    "_ = cohorts.plot.bar(rot=0, xlabel='cohort year', ylabel='users')"
   ]
  },
  {
   "cell_type": "code",
   "execution_count": null,
   "id": "df0340a7-d040-4283-94da-17ddc5416f00",
   "metadata": {},
   "outputs": [],
   "source": [
    "# user count & block count\n",
    "(users.user_id.str.startswith('U').sum(), (users.user_id.str.startswith('U') & ~users.is_agree).sum())"
   ]
  },
  {
   "cell_type": "markdown",
   "id": "69a8f63f-6646-4a84-b03a-b2d0d82dcb65",
   "metadata": {},
   "source": [
    "## Cashflow"
   ]
  },
  {
   "cell_type": "code",
   "execution_count": null,
   "id": "17065480-dce6-47cd-85e0-089afe8cabc1",
   "metadata": {},
   "outputs": [],
   "source": [
    "# acc_cashflow dataset\n",
    "# check number of records (expense and income entries) each month\n",
    "\n",
    "cashflow = pd.read_feather('../data/cashflow.feather')\n",
    "\n",
    "df = cashflow \\\n",
    "    .groupby(cashflow.ts.dt.to_period('M')) \\\n",
    "    .agg(total = ('ts', 'size'),\n",
    "         nbr_expense_entry = ('is_expense', 'sum'),\n",
    "         nbr_group_entry = ('is_group', 'sum')\n",
    "        )\n",
    "_ = df.plot.line(y=['total', 'nbr_expense_entry', 'nbr_group_entry'], xlabel='')\n",
    "print(df.describe())"
   ]
  },
  {
   "cell_type": "code",
   "execution_count": null,
   "id": "fa2c47f2-20f9-4556-a6c9-9c7e50a29bb8",
   "metadata": {},
   "outputs": [],
   "source": [
    "print(df[df.total > df.total.quantile(.51)])"
   ]
  },
  {
   "cell_type": "markdown",
   "id": "36acefb3-0337-430a-a430-3aeb8f28abcd",
   "metadata": {},
   "source": [
    "__*Observation:*__\n",
    "- errorenous timestamps\n",
    "- contrary to my expecation, personal entries makes up significally larger portions of records\n",
    "- expenses makes up larger portion of the records; this aligns with the norm for personal finance dataset"
   ]
  },
  {
   "cell_type": "markdown",
   "id": "4c6f0fb3-4e0e-4cb7-b2c7-270dfe16549e",
   "metadata": {},
   "source": [
    "Let `tsl` be the observation time period"
   ]
  },
  {
   "cell_type": "code",
   "execution_count": null,
   "id": "3ffe8430-fa40-4cfa-a089-ffd1a36b548a",
   "metadata": {},
   "outputs": [],
   "source": [
    "# select date range\n",
    "# between '2018-06-01' AND '2025-02-01'\n",
    "# to exclude erroneous rows\n",
    "\n",
    "tsl = pd.to_datetime(['2018-06-01', '2025-02-01'])\n",
    "cashflow = cashflow.query(\"@tsl[0] <= ts < @tsl[1]\").copy()\n",
    "cashflow.info()"
   ]
  },
  {
   "cell_type": "markdown",
   "id": "e0227847-dd58-427d-be1b-98a356f51adf",
   "metadata": {},
   "source": [
    "_**n.b.,**_ __amt__ is float64. _I expect this to be whole number._"
   ]
  },
  {
   "cell_type": "code",
   "execution_count": null,
   "id": "7139182e-fd3e-4d27-b77a-e39795b32312",
   "metadata": {},
   "outputs": [],
   "source": [
    "cashflow.isna().sum()"
   ]
  },
  {
   "cell_type": "code",
   "execution_count": null,
   "id": "cb8bbce2-78f2-4b14-abac-f864419069aa",
   "metadata": {},
   "outputs": [],
   "source": [
    "print(cashflow.group_id.count() / cashflow.shape[0])"
   ]
  },
  {
   "cell_type": "markdown",
   "id": "27b6fe21-f1df-4acf-b2c7-5a5164e3b06c",
   "metadata": {},
   "source": [
    "_**Observation:**_ group entries make up about 15% of the records."
   ]
  },
  {
   "cell_type": "markdown",
   "id": "d145f046-2b86-427a-a24c-2f7b3e16fbbf",
   "metadata": {},
   "source": [
    "_**Question:**_ Should factional amounts be rounded up?"
   ]
  },
  {
   "cell_type": "code",
   "execution_count": null,
   "id": "b7234f5b-808e-4358-b715-a796388e69eb",
   "metadata": {},
   "outputs": [],
   "source": [
    "# should amt be whole number?\n",
    "bad = cashflow.query(\"amt % 1 != 0\")\n",
    "bad.groupby('is_expense')['amt'].describe()"
   ]
  },
  {
   "cell_type": "code",
   "execution_count": null,
   "id": "68210558-49f9-4f32-a51b-39951f80244f",
   "metadata": {},
   "outputs": [],
   "source": [
    "bad['category'].unique()"
   ]
  },
  {
   "cell_type": "code",
   "execution_count": null,
   "id": "2aebef77-2100-4b61-b7ca-0d9c2f2746c7",
   "metadata": {},
   "outputs": [],
   "source": [
    "bad['note'].unique()"
   ]
  },
  {
   "cell_type": "code",
   "execution_count": null,
   "id": "30a87b2c-2f64-48f1-9e81-ee871d86e36b",
   "metadata": {},
   "outputs": [],
   "source": [
    "# impute fractional amounts by rounding up if amt > 0 and down if amt < 0\n",
    "\n",
    "cashflow['amt'] = cashflow['amt'].round().astype('Int64')"
   ]
  },
  {
   "cell_type": "code",
   "execution_count": null,
   "id": "0f18fdf1-7920-4a80-b08a-c8cbbd5e1737",
   "metadata": {},
   "outputs": [],
   "source": [
    "cashflow.info()"
   ]
  },
  {
   "cell_type": "code",
   "execution_count": null,
   "id": "2632b1bf-5c27-4dd5-ab9f-247845123d7a",
   "metadata": {},
   "outputs": [],
   "source": [
    "# Should amount equals 0 be excluded?\n",
    "\n",
    "cashflow[cashflow.amt == 0].count()"
   ]
  },
  {
   "cell_type": "code",
   "execution_count": null,
   "id": "aa129a34-aef3-4b2d-a897-b8591cb9ccf8",
   "metadata": {
    "editable": true,
    "scrolled": true,
    "slideshow": {
     "slide_type": ""
    },
    "tags": []
   },
   "outputs": [],
   "source": [
    "# check number of active users in each month, i.e. period\n",
    "\n",
    "cashflow['yyyy_mm'] = cashflow['ts'].dt.to_period('M')\n",
    "cashflow['yyyy'] = cashflow['ts'].dt.year\n",
    "cashflow['mm'] = cashflow['ts'].dt.month\n",
    "cashflow['wk'] = cashflow['ts'].dt.isocalendar().week\n",
    "\n",
    "#cashflow.groupby(['yyyy', 'mm']).agg({'user_id':'nunique'}).unstack(level=1)"
   ]
  },
  {
   "cell_type": "code",
   "execution_count": null,
   "id": "1311daea-bdeb-44e7-8834-4e49248523c2",
   "metadata": {
    "editable": true,
    "slideshow": {
     "slide_type": ""
    },
    "tags": []
   },
   "outputs": [],
   "source": [
    "_ = cashflow.groupby('yyyy_mm').agg({'user_id':'nunique'}) \\\n",
    "    .plot(y='user_id', kind='line', figsize=(12, 6), title=\"Probable User Churns Each Month\")"
   ]
  },
  {
   "cell_type": "markdown",
   "id": "882b213b-7347-4029-a950-03bd7a8bc91e",
   "metadata": {},
   "source": [
    "__*Observation:*__ number of active users gradually declined but not obvious"
   ]
  },
  {
   "cell_type": "code",
   "execution_count": null,
   "id": "78d30df7-410e-4ff3-9764-256a14828190",
   "metadata": {
    "editable": true,
    "slideshow": {
     "slide_type": ""
    },
    "tags": []
   },
   "outputs": [],
   "source": [
    "cashflow.describe()"
   ]
  },
  {
   "cell_type": "markdown",
   "id": "048ea49a-07fb-4414-a742-d17d4c8151f7",
   "metadata": {
    "editable": true,
    "slideshow": {
     "slide_type": ""
    },
    "tags": []
   },
   "source": [
    "_**Oberservation:**_ expense records out weight income records 3:1"
   ]
  },
  {
   "cell_type": "markdown",
   "id": "3b361b6f-3482-4d22-ac4f-e5c22600f389",
   "metadata": {
    "editable": true,
    "slideshow": {
     "slide_type": ""
    },
    "tags": []
   },
   "source": [
    "Impute `group_id` is blank but not `None`"
   ]
  },
  {
   "cell_type": "code",
   "execution_count": null,
   "id": "79fec616-47aa-476f-93c3-3e9e49d5a746",
   "metadata": {},
   "outputs": [],
   "source": [
    "bad = cashflow.group_id.str.strip().str.len() == 0  # group_id missing\n",
    "bad.value_counts()"
   ]
  },
  {
   "cell_type": "code",
   "execution_count": null,
   "id": "ea725e50-facb-47d7-9cf3-8b48f3242708",
   "metadata": {},
   "outputs": [],
   "source": [
    "cashflow.loc[bad, 'user_id'].nunique()"
   ]
  },
  {
   "cell_type": "code",
   "execution_count": null,
   "id": "687bde05-d185-4efd-ad1c-08afdaea372b",
   "metadata": {},
   "outputs": [],
   "source": [
    "# impute\n",
    "cashflow.loc[bad, ['group_id', 'is_group']] = [None, False]"
   ]
  },
  {
   "cell_type": "markdown",
   "id": "f46de7bd-c180-493f-a567-74d72a4b5642",
   "metadata": {},
   "source": [
    "Erroneous `user_id`\n",
    "Valid `user_id` must start with captial U"
   ]
  },
  {
   "cell_type": "code",
   "execution_count": null,
   "id": "d57b824c-a9e0-4853-9047-9b5ecc35f09d",
   "metadata": {},
   "outputs": [],
   "source": [
    "cashflow['isBad'] = ~cashflow.user_id.str.lower().str.startswith('u')"
   ]
  },
  {
   "cell_type": "code",
   "execution_count": null,
   "id": "abf2cdf8-8c9b-4df1-b5af-936139c22de5",
   "metadata": {},
   "outputs": [],
   "source": [
    "cashflow.groupby('isBad').size()"
   ]
  },
  {
   "cell_type": "code",
   "execution_count": null,
   "id": "2cce88a9-99b2-4e8d-860f-19b996b686eb",
   "metadata": {
    "scrolled": true
   },
   "outputs": [],
   "source": [
    "cashflow[bad].describe()"
   ]
  },
  {
   "cell_type": "markdown",
   "id": "71856f25-391e-48a5-a851-7b1a019e9de5",
   "metadata": {},
   "source": [
    "Impute valid `user_id`  \n",
    "Make sure they start with capital U"
   ]
  },
  {
   "cell_type": "code",
   "execution_count": null,
   "id": "81dd7534-6a43-421c-909f-18e076a87d3f",
   "metadata": {
    "jupyter": {
     "source_hidden": true
    }
   },
   "outputs": [],
   "source": [
    "cashflow.loc[~cashflow.isBad, 'user_id'] = cashflow[~cashflow.isBad]['user_id'].str.capitalize()"
   ]
  },
  {
   "cell_type": "code",
   "execution_count": null,
   "id": "15bf0b5b-dfb0-4282-8b24-87b4361b895f",
   "metadata": {},
   "outputs": [],
   "source": [
    "cashflow.user_id.nunique()"
   ]
  },
  {
   "cell_type": "markdown",
   "id": "bcbf7d4e-82f6-43e3-aebe-66b09d5e4ddc",
   "metadata": {},
   "source": [
    "# Tidy Dataset\n",
    "\n",
    "Let the final tidy dataset be `td`. Proceed with the data preparation as follow:"
   ]
  },
  {
   "cell_type": "markdown",
   "id": "ab4db14d-4d11-4b40-bdd7-8288299b4c49",
   "metadata": {
    "editable": true,
    "slideshow": {
     "slide_type": ""
    },
    "tags": []
   },
   "source": [
    "## Tenure\n",
    "\n",
    "Based on acc_cashflow,\n",
    "tenure is here is defined as to begin when user submits first entry,\n",
    "and does not consider when a user first follows or adds LINE OA\n",
    "(offical account).\n",
    "\n",
    "Transaction amount 0 (zero) are dismissed."
   ]
  },
  {
   "cell_type": "code",
   "execution_count": null,
   "id": "e2629762-5e73-4f57-90d6-b2abcc225e03",
   "metadata": {
    "editable": true,
    "slideshow": {
     "slide_type": ""
    },
    "tags": []
   },
   "outputs": [],
   "source": [
    "# user tenure, income and expense entry stats,\n",
    "# including group entries\n",
    "# excluding amount = 0\n",
    "\n",
    "tenure = cashflow[(cashflow.amt != 0) & ~cashflow.isBad] \\\n",
    "    .groupby('user_id') \\\n",
    "    .agg(user_tenure = ('ts', lambda x: x.max() - x.min()),\n",
    "         first_entry = ('ts', 'min'),\n",
    "         last_entry = ('ts', 'max'),\n",
    "         nbr_entry = ('user_id', 'count'),\n",
    "         total_exp = ('amt', lambda x: x[x < 0].sum()),\n",
    "         nbr_exp = ('amt', lambda x: x[x < 0].count()),\n",
    "         total_inc = ('amt', lambda x: x[x > 0].sum()),\n",
    "         nbr_inc = ('amt', lambda x: x[x > 0].count())\n",
    "        )\n",
    "# tenure.info()"
   ]
  },
  {
   "cell_type": "code",
   "execution_count": null,
   "id": "6ebbfcbf-a0d3-41bd-9ddb-d5e7c4bd741e",
   "metadata": {
    "scrolled": true
   },
   "outputs": [],
   "source": [
    "tenure.describe(percentiles=[.25, .5, .75, .9, .95, .97, .99])"
   ]
  },
  {
   "cell_type": "markdown",
   "id": "93860803-f8b5-496b-b581-2a9bd716b6d3",
   "metadata": {},
   "source": [
    "_**Initial observation:**_ Of the 397,208 users, 97% of which had **not** logged entries in the last 55 days "
   ]
  },
  {
   "cell_type": "markdown",
   "id": "50405aef-9031-45b6-9f1e-5b24f6054a28",
   "metadata": {},
   "source": [
    "### WIP Transaction Category "
   ]
  },
  {
   "cell_type": "code",
   "execution_count": null,
   "id": "81729183-af36-4ee0-95ee-5a495534e9a0",
   "metadata": {},
   "outputs": [],
   "source": [
    "# WIP category count\n",
    "td_cat = cashflow[~cashflow.isBad].groupby(['user_id', 'is_expense'])['category_id'].nunique().unstack(level=1, fill_value=0)\n",
    "td_cat.describe()"
   ]
  },
  {
   "cell_type": "markdown",
   "id": "787b9a66-f74e-4c75-b702-b4d2d52037ce",
   "metadata": {},
   "source": [
    "_**Initial observation:**_ Is it true that entries are not well categorized by the bottom 75% of users?"
   ]
  },
  {
   "cell_type": "markdown",
   "id": "e745e6af-298f-4e75-98eb-90fb71ad3355",
   "metadata": {},
   "source": [
    "## Group Bookkeeping\n",
    "\n",
    "_to-do:_ add count of categories"
   ]
  },
  {
   "cell_type": "code",
   "execution_count": null,
   "id": "9b95ee47-6071-4921-9409-762c33915088",
   "metadata": {},
   "outputs": [],
   "source": [
    "# user group expense and income entry stat per user\n",
    "\n",
    "td_grp = cashflow[(cashflow.amt != 0) & cashflow.is_group & ~cashflow.isBad] \\\n",
    "    .groupby('user_id') \\\n",
    "    .agg(n_grp = ('group_id', 'nunique'),\n",
    "         first_grp_entry = ('ts', 'min'),\n",
    "         last_grp_entry = ('ts', 'max'),\n",
    "         grp_exp = ('amt', lambda x: x[x < 0].sum()),\n",
    "         nbr_grp_exp = ('amt', lambda x: x[x < 0].count()),\n",
    "         grp_inc = ('amt', lambda x: x[x > 0].sum()),\n",
    "         nbr_grp_inc = ('amt', lambda x: x[x > 0].count())\n",
    "        )\n",
    "# td_grp.info()"
   ]
  },
  {
   "cell_type": "code",
   "execution_count": null,
   "id": "e6d112ab-4d0b-436d-9e66-19ae2ebb0697",
   "metadata": {},
   "outputs": [],
   "source": [
    "td_grp.describe()"
   ]
  },
  {
   "cell_type": "markdown",
   "id": "9455f8f5-c959-4552-a670-f9e7d457c4b5",
   "metadata": {},
   "source": [
    "## Co-bookkeepers\n",
    "\n",
    "self-joined group_id:user_id from _cashflow_ to compute\n",
    "number of distinct users interacted within groups"
   ]
  },
  {
   "cell_type": "code",
   "execution_count": null,
   "id": "b2a543ca-46b5-4381-a07e-9d39bf0b3cbf",
   "metadata": {},
   "outputs": [],
   "source": [
    "# unique group_id:user_id linkage \n",
    "grp = cashflow.loc[(cashflow.amt != 0) & (cashflow.group_id.notnull()) & ~cashflow.isBad,\n",
    "                 ['group_id', 'user_id']].drop_duplicates()\n",
    "# grp.info()"
   ]
  },
  {
   "cell_type": "code",
   "execution_count": null,
   "id": "f944bb7a-462e-43ae-8a60-20d030e3fb1c",
   "metadata": {},
   "outputs": [],
   "source": [
    "# user's groups and their assoicated users (members),\n",
    "# i.e., user's connections with other users thru cooperative bookkeeping \n",
    "\n",
    "mbr = grp[['user_id', 'group_id']].merge(grp[['user_id', 'group_id']], on='group_id', how='left')\n",
    "mbr.columns = ['user_id', 'group_id', 'member_id']\n",
    "mbr.describe()"
   ]
  },
  {
   "cell_type": "code",
   "execution_count": null,
   "id": "05eb144a-8290-412a-a49a-7dbc89043497",
   "metadata": {},
   "outputs": [],
   "source": [
    "# count the participants at each group level for every user\n",
    "\n",
    "x = mbr.groupby(['user_id', 'group_id']) \\\n",
    "    .agg({'member_id':'nunique'}) \\\n",
    "    .reset_index(1) \\\n",
    "    .rename(columns={'member_id':'nbr_member'})\n",
    "x.describe()"
   ]
  },
  {
   "cell_type": "code",
   "execution_count": null,
   "id": "c0db9b54-ad3f-4b45-94b1-fc0fe1f4800a",
   "metadata": {},
   "outputs": [],
   "source": [
    "x.plot.hist(bins=30, alpha=0.7)"
   ]
  },
  {
   "cell_type": "markdown",
   "id": "5c32807c-7f94-44bb-ae35-2ab704d62e21",
   "metadata": {},
   "source": [
    "_**Observation:**_ Groups with only one participant should be excluded in the stat summary."
   ]
  },
  {
   "cell_type": "code",
   "execution_count": null,
   "id": "9474d0e7-43b8-4575-a0e4-0a76c898ea25",
   "metadata": {},
   "outputs": [],
   "source": [
    "# for every user, count the unique users across _all_ associated groups\n",
    "\n",
    "cnx = mbr.groupby('user_id').agg({'group_id': 'nunique', 'member_id':'nunique'})\n",
    "cnx.columns = ['n_grp', 'nbr_connection']\n",
    "cnx['nbr_connection'] = cnx['nbr_connection'] - 1 # remove user itself from count\n",
    "cnx.hist(bins=40, grid=False, alpha=.7)"
   ]
  },
  {
   "cell_type": "markdown",
   "id": "5400b90f-b5b4-4fee-8a5c-fa37a0f5cc4e",
   "metadata": {
    "editable": true,
    "slideshow": {
     "slide_type": ""
    },
    "tags": []
   },
   "source": [
    "## Frequency\n",
    "\n",
    "What is the typical frequency of logging financial transactions?  \n",
    "- number of times per week\n",
    "- interval (or elapsed time) between events (logging transactions)"
   ]
  },
  {
   "cell_type": "code",
   "execution_count": null,
   "id": "a2bfd53b-4efa-49c8-9b2f-dd1465288a1b",
   "metadata": {},
   "outputs": [],
   "source": [
    "# set datetime index in order to resample frequency of event\n",
    "# cashflow.reset_index(inplace=True)\n",
    "cashflow = cashflow.set_index('ts').sort_index()"
   ]
  },
  {
   "cell_type": "code",
   "execution_count": null,
   "id": "e3966b01-4be4-4719-8b58-f606ef5bfcf5",
   "metadata": {},
   "outputs": [],
   "source": [
    "weekly_counts = cashflow[~cashflow.isBad].groupby(['user_id', pd.Grouper(freq='W')])['user_id'].size()"
   ]
  },
  {
   "cell_type": "code",
   "execution_count": null,
   "id": "fc96b590-afce-497f-8c56-0a7e7a7f8816",
   "metadata": {},
   "outputs": [],
   "source": [
    "fq = weekly_counts.groupby('user_id').agg({'count', 'median', 'mean'})\n",
    "fq.columns = ['nbr_wks', 'fq_median', 'fq_mean']\n",
    "fq.info()"
   ]
  },
  {
   "cell_type": "code",
   "execution_count": null,
   "id": "0947d899-bf81-48bb-b2e0-a8b884792fa9",
   "metadata": {},
   "outputs": [],
   "source": [
    "fq.describe(percentiles=[.25, .5, .6, .7, .75, .8, .9, .95, .99])"
   ]
  },
  {
   "cell_type": "markdown",
   "id": "28baba6a-374b-4f3e-91fa-05ecd134c253",
   "metadata": {},
   "source": [
    "calcuate interval"
   ]
  },
  {
   "cell_type": "code",
   "execution_count": null,
   "id": "35e8bec2-27f6-4e54-b7ba-7cb404d49a29",
   "metadata": {},
   "outputs": [],
   "source": [
    "# if we just want to know how frequent users records their personal finance,\n",
    "# it is not important to separate income from expense entries\n",
    "\n",
    "cashflow.reset_index(inplace=True)\n",
    "y_sorted = cashflow[~cashflow.isBad].sort_values(['user_id', 'ts'])\n",
    "y_sorted['time_elapsed'] = y_sorted.groupby('user_id')['ts'].diff()"
   ]
  },
  {
   "cell_type": "code",
   "execution_count": null,
   "id": "b52cd382-4ca6-4f4f-9bca-ec5595a666c6",
   "metadata": {},
   "outputs": [],
   "source": [
    "# y_sorted[['user_id', 'ts', 'time_elapsed']].tail(30)"
   ]
  },
  {
   "cell_type": "code",
   "execution_count": null,
   "id": "d80edd79-0ddf-4a8c-a924-418a62a2164a",
   "metadata": {},
   "outputs": [],
   "source": [
    "# intervals = y_sorted.groupby('user_id').agg({'days_elapsed':['median', 'mean', 'max']})\n",
    "# n.b. a known bug with median, use quantile(0.5) workaround\n",
    "#      workaround also includes renaming the columns <lambda_0>\n",
    "intervals = y_sorted.groupby('user_id').agg({'time_elapsed':[lambda x: x.quantile(0.5), 'mean', 'max']})\n",
    "intervals.columns = intervals.columns.set_levels(['median', 'mean', 'max'], level=1)\n",
    "intervals.describe()"
   ]
  },
  {
   "cell_type": "code",
   "execution_count": null,
   "id": "3c3f3b43-fb39-4067-a25b-0e81cc0c0d99",
   "metadata": {},
   "outputs": [],
   "source": [
    "# flatten multilevel column index\n",
    "# intervals.columns = intervals.columns.to_flat_index()\n",
    "intervals.columns = ['_'.join(col) for col in intervals.columns]"
   ]
  },
  {
   "cell_type": "code",
   "execution_count": null,
   "id": "30e04caa-115d-4a09-95a5-2552c328ee2c",
   "metadata": {},
   "outputs": [],
   "source": [
    "# intervals.head(30)"
   ]
  },
  {
   "cell_type": "code",
   "execution_count": null,
   "id": "260e110b-f3fe-41ec-bf74-5682d2bfa14c",
   "metadata": {},
   "outputs": [],
   "source": [
    "fq.info()"
   ]
  },
  {
   "cell_type": "code",
   "execution_count": null,
   "id": "8f7efe72-04ed-4e3a-a78b-502c8c77c254",
   "metadata": {},
   "outputs": [],
   "source": [
    "intervals.info()"
   ]
  },
  {
   "cell_type": "code",
   "execution_count": null,
   "id": "070fe526-4620-443a-a060-915f10f0b0b4",
   "metadata": {},
   "outputs": [],
   "source": [
    "freq = fq.merge(intervals, on='user_id').convert_dtypes()"
   ]
  },
  {
   "cell_type": "code",
   "execution_count": null,
   "id": "4fd30e80-045d-4766-96e6-d09b2c4b7ff6",
   "metadata": {},
   "outputs": [],
   "source": [
    "freq.info()"
   ]
  },
  {
   "cell_type": "markdown",
   "id": "b06a1b6e-ea37-49b4-bb9a-7bc8754f90f3",
   "metadata": {},
   "source": [
    "### WIP"
   ]
  },
  {
   "cell_type": "code",
   "execution_count": null,
   "id": "e446dae1-3092-4bea-8ebe-46585d293bd0",
   "metadata": {},
   "outputs": [],
   "source": [
    "# \n",
    "x_sorted = cashflow.sort_values(['user_id', 'is_expense', 'ts'])\n",
    "x_sorted['days_elapsed'] = x_sorted.groupby(['user_id', 'is_expense'])['ts'].diff()"
   ]
  },
  {
   "cell_type": "code",
   "execution_count": null,
   "id": "f2902f0d-b332-42cf-bdb8-77c871d219a8",
   "metadata": {
    "scrolled": true
   },
   "outputs": [],
   "source": [
    "x_sorted[['user_id', 'is_expense', 'ts', 'days_elapsed']].tail(30)"
   ]
  },
  {
   "cell_type": "code",
   "execution_count": null,
   "id": "98d3abf5-6604-4d4d-b088-d3717b27b2b8",
   "metadata": {},
   "outputs": [],
   "source": [
    "fq_ = x_sorted.groupby(['user_id', 'is_expense']).agg({'days_elapsed':[lambda x: x.quantile(0.5), 'mean', 'max']})"
   ]
  },
  {
   "cell_type": "code",
   "execution_count": null,
   "id": "61d784ca-6758-4e68-9271-8cbad515399a",
   "metadata": {},
   "outputs": [],
   "source": [
    "fq_.query(\"is_expense\").describe()"
   ]
  },
  {
   "cell_type": "code",
   "execution_count": null,
   "id": "73b281bc-ec27-4069-805b-4b12c4fc3d96",
   "metadata": {},
   "outputs": [],
   "source": [
    "#fq =\n",
    "fq_.groupby(['is_expense']).agg(['min', 'median', 'mean', 'max'])\n",
    "# fq"
   ]
  },
  {
   "cell_type": "code",
   "execution_count": null,
   "id": "3740e236-f83d-45eb-bc00-8d257b74996a",
   "metadata": {
    "scrolled": true
   },
   "outputs": [],
   "source": [
    "fq_.xs('Uffffed94576a41cb306b899c40719ed9', level='user_id')"
   ]
  },
  {
   "cell_type": "code",
   "execution_count": null,
   "id": "871c7430-099f-4858-87e0-185dfa6fe8d9",
   "metadata": {},
   "outputs": [],
   "source": [
    "fq_.xs(False, level='is_expense').agg(['min','mean','median'])\n",
    "# fq.index"
   ]
  },
  {
   "cell_type": "markdown",
   "id": "93303b48-0e30-45f4-a2d6-4790bfb25b44",
   "metadata": {
    "editable": true,
    "slideshow": {
     "slide_type": ""
    },
    "tags": []
   },
   "source": [
    "## Merge and Impute"
   ]
  },
  {
   "cell_type": "code",
   "execution_count": null,
   "id": "7ab13ce0-597a-4960-9ceb-cfca3142ec3a",
   "metadata": {},
   "outputs": [],
   "source": [
    "td = users[['user_id', 'is_agree', 'ts']].rename(columns={'ts':'user_ts'}) \\\n",
    "    .merge(tenure, on='user_id', how='right') \\\n",
    "    .merge(freq, on='user_id', how='left') \\\n",
    "    .merge(cnx['nbr_connection'], on='user_id', how='left') \\\n",
    "    .merge(td_grp, on='user_id', how='left') \\\n",
    "    .convert_dtypes()\n",
    "# td.info()"
   ]
  },
  {
   "cell_type": "code",
   "execution_count": null,
   "id": "f85777cc-9445-4b01-86c4-e849e4fece43",
   "metadata": {},
   "outputs": [],
   "source": [
    "values = {'is_agree':False,\n",
    "          'nbr_connection':0, 'n_grp':0,\n",
    "          'grp_exp':0, 'nbr_grp_exp':0,\n",
    "          'grp_inc':0, 'nbr_grp_inc':0}\n",
    "td.fillna(value=values, inplace=True)"
   ]
  },
  {
   "cell_type": "code",
   "execution_count": null,
   "id": "699c11d0-cf14-4404-9acb-2124893d14f3",
   "metadata": {},
   "outputs": [],
   "source": [
    "td.describe()"
   ]
  },
  {
   "cell_type": "code",
   "execution_count": null,
   "id": "395ad474-70a2-484b-8a5b-502ac79a50cd",
   "metadata": {},
   "outputs": [],
   "source": [
    "td.info()"
   ]
  },
  {
   "cell_type": "code",
   "execution_count": null,
   "id": "831c02e8-e2c1-420e-9a64-9511248900bd",
   "metadata": {
    "editable": true,
    "slideshow": {
     "slide_type": ""
    },
    "tags": [
     "raises-exception"
    ]
   },
   "outputs": [],
   "source": [
    "# raise exception if file already exists but allow the run to proceed\n",
    "# to-do: convert user_tenure from timedelta days to int before .to_csv\n",
    "td.to_csv('../reports/tidy.csv', mode='x')"
   ]
  },
  {
   "cell_type": "code",
   "execution_count": null,
   "id": "a6237b27-45fc-4824-a27d-4978e3da5b46",
   "metadata": {
    "scrolled": true
   },
   "outputs": [],
   "source": [
    "td[td.user_id=='Uffffed94576a41cb306b899c40719ed9']"
   ]
  },
  {
   "cell_type": "markdown",
   "id": "7450e3c3-c810-412e-a7ee-1aa12c3382d0",
   "metadata": {},
   "source": [
    "# EDA"
   ]
  },
  {
   "cell_type": "markdown",
   "id": "d2dca8f9-54a5-49bc-a7cd-956a374498f4",
   "metadata": {},
   "source": [
    "## WIP: Group of One\n",
    "\n",
    "What are the patterns of this cluster of users\n",
    "who tracks income or expenses using one or more groups\n",
    "with no other members in the group?"
   ]
  },
  {
   "cell_type": "code",
   "execution_count": null,
   "id": "fe01c3cd-ab41-477c-87c5-95bf449fb49e",
   "metadata": {},
   "outputs": [],
   "source": []
  },
  {
   "cell_type": "code",
   "execution_count": null,
   "id": "ee80d362-8dc1-43c7-a8f2-0ac4c1dbe149",
   "metadata": {},
   "outputs": [],
   "source": [
    "x = mbr.groupby('group_id').agg(n_member=('member_id', 'nunique'))\n",
    "y = x.query('n_member == 1')\n",
    "grp_lst = [i for i in y.index]\n",
    "grp_one = cashflow[(cashflow.amt != 0) & (cashflow.group_id.isin(grp_lst)) & ~cashflow.isBad] \\\n",
    "    .groupby('group_id') \\\n",
    "    .agg(first_entry=('ts', 'min'), last_entry=('ts', 'max'),\n",
    "         nbr_entry=('amt', 'count'),\n",
    "         grp_exp = ('amt', lambda x: x[x < 0].sum()),\n",
    "         nbr_grp_exp = ('amt', lambda x: x[x < 0].count()),\n",
    "         grp_inc = ('amt', lambda x: x[x > 0].sum()),\n",
    "         nbr_grp_inc = ('amt', lambda x: x[x > 0].count())\n",
    "        )\n",
    "\n",
    "grp_one.describe()"
   ]
  },
  {
   "cell_type": "code",
   "execution_count": null,
   "id": "c01aac56-16b1-4626-9aa3-ae7373f8375f",
   "metadata": {},
   "outputs": [],
   "source": [
    "len(grp_lst) / x.shape[0]\n",
    "# x.shape[0]"
   ]
  },
  {
   "cell_type": "markdown",
   "id": "de0a600f-d5c3-4ff7-a879-13586608b0c8",
   "metadata": {
    "editable": true,
    "slideshow": {
     "slide_type": ""
    },
    "tags": []
   },
   "source": [
    "## Survival Analysis\n",
    "churn event: user blocked/unfollowed\n",
    "\n",
    "`churned`: `is_agree` is `False` \n",
    "\n",
    "right censored: same as`churned` is `False`\n",
    "\n",
    "if churned and `registerd` (a.k.a. user_ts) > `last_entry`, make end time = `registered`\n",
    "\n",
    "if not churned, make end time = `tsl[1]` end of observation period\n",
    "\n",
    "? `registerd` < `last_entry` but `churned` is `True`\n"
   ]
  },
  {
   "cell_type": "code",
   "execution_count": null,
   "id": "49f5aa3c-728b-4c43-8877-c20cd539e6e9",
   "metadata": {
    "editable": true,
    "slideshow": {
     "slide_type": ""
    },
    "tags": []
   },
   "outputs": [],
   "source": [
    "# data set highly censored -> bias observations\n",
    "td.groupby('is_agree').size()"
   ]
  },
  {
   "cell_type": "code",
   "execution_count": null,
   "id": "afb8a510-1625-4ab8-9cce-248ff3d9f7d1",
   "metadata": {
    "editable": true,
    "slideshow": {
     "slide_type": ""
    },
    "tags": []
   },
   "outputs": [],
   "source": [
    "# time elapsed since the last transaction entry until the\n",
    "# observation cut off period tsl[1]\n",
    "td['days_since'] = tsl[1] - td.last_entry"
   ]
  },
  {
   "cell_type": "code",
   "execution_count": null,
   "id": "87d2024a-ceee-4f47-b72e-7971c975afed",
   "metadata": {},
   "outputs": [],
   "source": [
    "# data issue?\n",
    "td.query(\"user_ts.isna()\").shape"
   ]
  },
  {
   "cell_type": "markdown",
   "id": "c7484fb2-a148-4dd0-8e62-78a0bba1952c",
   "metadata": {},
   "source": [
    "calculate survival time"
   ]
  },
  {
   "cell_type": "code",
   "execution_count": null,
   "id": "281f6ff2-bb9b-4d48-9873-ebd0d115c81c",
   "metadata": {},
   "outputs": [],
   "source": [
    "# Is left censoring necessary? No.\n",
    "(td.user_ts < tsl[0]).sum()"
   ]
  },
  {
   "cell_type": "code",
   "execution_count": null,
   "id": "89b9c5a6-1ad5-4550-bf31-b767f0bba621",
   "metadata": {},
   "outputs": [],
   "source": [
    "# calculate start time\n",
    "td['t0'] = td[['user_ts', 'first_entry']].min(axis=1)"
   ]
  },
  {
   "cell_type": "markdown",
   "id": "4cd14638-c9c6-48c9-8173-f25d3e96866d",
   "metadata": {},
   "source": [
    "calculate end time and survival_time\n",
    "\n",
    "`tsl[1]` is the observation end time  \n",
    "\n",
    "if is_agree is False, set the user end time to larger of \n",
    "`last_entry` or user record timestamp `ts` from acc_user table"
   ]
  },
  {
   "cell_type": "code",
   "execution_count": null,
   "id": "b257b340-5279-4eeb-b4ed-562d01b49089",
   "metadata": {},
   "outputs": [],
   "source": [
    "td['t1'] = tsl[1]\n",
    "td.loc[~td.is_agree, 't1'] = td.loc[~td.is_agree, ['user_ts', 'last_entry']].max(axis=1, skipna=True)\n",
    "td['survival_time'] = td.t1 - td.t0"
   ]
  },
  {
   "cell_type": "code",
   "execution_count": null,
   "id": "3ab54878-e615-485c-9649-61654b70c2ae",
   "metadata": {
    "scrolled": true
   },
   "outputs": [],
   "source": [
    "# how many have churned beyound the oberservation period\n",
    "td.loc[~td.is_agree & (td.t1 >= tsl[1])]"
   ]
  },
  {
   "cell_type": "code",
   "execution_count": null,
   "id": "a4f73d73-07ce-4413-99a2-e88247621a81",
   "metadata": {},
   "outputs": [],
   "source": [
    "# what portion of users have churned?\n",
    "(~td.is_agree).sum() / td.shape[0]"
   ]
  },
  {
   "cell_type": "code",
   "execution_count": null,
   "id": "f8999048-7da4-47ff-9189-640fad2a8e5e",
   "metadata": {},
   "outputs": [],
   "source": [
    "# how many have churned before the oberservation period\n",
    "td[~td.is_agree & (td.t1 < tsl[1])].shape"
   ]
  },
  {
   "cell_type": "code",
   "execution_count": null,
   "id": "d463a48d-8b2e-423d-a5d0-1bd04ccb4177",
   "metadata": {},
   "outputs": [],
   "source": [
    "# ... and what is the percentage?\n",
    "td[~td.is_agree & (td.t1 < tsl[1])].shape[0] / td.shape[0]"
   ]
  },
  {
   "cell_type": "code",
   "execution_count": null,
   "id": "44388019-0afa-4236-b756-29a0ce5d79ba",
   "metadata": {},
   "outputs": [],
   "source": [
    "# how many have suppoesely blocked but still made entries\n",
    "# vs. true churned(?) user_ts > last_entry\n",
    "(td[(~td.is_agree) & (td.user_ts < td.last_entry)].shape[0],\n",
    "td[(~td.is_agree) & (td.user_ts > td.last_entry)].shape[0])"
   ]
  },
  {
   "cell_type": "markdown",
   "id": "715a84da-1774-485c-b4d7-bf2561b20c8f",
   "metadata": {},
   "source": [
    "Calculating Churn"
   ]
  },
  {
   "cell_type": "code",
   "execution_count": null,
   "id": "c76591fa-12ee-40ef-a0f3-32a4319c8013",
   "metadata": {},
   "outputs": [],
   "source": [
    "# churned vs.\n",
    "# semi-churned, when users blocked but still makes entries past the user_ts flag\n",
    "td['churned'] = ~td.is_agree\n",
    "td['churned_'] = ~td.is_agree & (td.user_ts < td.last_entry)\n",
    "\n",
    "# is_agree not set and churned flag not set\n",
    "td.loc[~td.is_agree & td.churned_,\n",
    "       ['user_ts', 'last_entry', 'user_tenure',\n",
    "        'days_since', 'survival_time', 't1', 't0',\n",
    "        'churned_', 'user_id']]"
   ]
  },
  {
   "cell_type": "code",
   "execution_count": null,
   "id": "f9af9acc-6e32-49a0-8011-5c84fbc3d0fe",
   "metadata": {},
   "outputs": [],
   "source": [
    "td.churned.sum() / td.shape[0], (~td.is_agree).sum() / td.shape[0]"
   ]
  },
  {
   "cell_type": "code",
   "execution_count": null,
   "id": "e94911c1-eb59-4226-8e85-b1df564e50cc",
   "metadata": {},
   "outputs": [],
   "source": [
    "td[['last_entry', 'user_tenure', 'days_since', 'survival_time']].describe()"
   ]
  },
  {
   "cell_type": "markdown",
   "id": "72929a4c-60ff-4ef6-918c-3bf2dd87cb62",
   "metadata": {},
   "source": [
    "_**Oberservations:**_\n",
    "- >> incorrect... doubl check  > 50% of users churned after 7 days, 75% churned after 139 days (or ~4.6 months)\n",
    "- 75% of users had not made any entries for >1146 days (`days_since`)\n",
    "- >> incorrect... double check > top quartile (best or most active users) had made at least one entries since 2021-12-12 (or 48~50 days)"
   ]
  },
  {
   "cell_type": "code",
   "execution_count": null,
   "id": "f2ab05a7-0838-4712-b60c-756e34874b96",
   "metadata": {
    "editable": true,
    "scrolled": true,
    "slideshow": {
     "slide_type": ""
    },
    "tags": []
   },
   "outputs": [],
   "source": [
    "# what do you observe from the top quartile...\n",
    "\n",
    "t0 = td.days_since.quantile(.25) # 1146 days since last entry\n",
    "print('days_since =', t0.days)\n",
    "(td.loc[td.days_since < t0, ['days_since', 'user_tenure', 'nbr_entry', 'last_entry']].describe())"
   ]
  },
  {
   "cell_type": "code",
   "execution_count": null,
   "id": "1dea75b1-f597-447c-8b1e-5ad3723fc19d",
   "metadata": {
    "editable": true,
    "scrolled": true,
    "slideshow": {
     "slide_type": ""
    },
    "tags": []
   },
   "outputs": [],
   "source": [
    "td[td.user_id == 'U000046b3786c997220a07872c5191c37']"
   ]
  },
  {
   "cell_type": "code",
   "execution_count": null,
   "id": "ff602b71-7b45-4826-9886-9f6bece21ba7",
   "metadata": {},
   "outputs": [],
   "source": [
    "fq.xs('U000046b3786c997220a07872c5191c37')"
   ]
  },
  {
   "cell_type": "markdown",
   "id": "86e4231f-d6a5-4488-938e-e28c9046fea8",
   "metadata": {},
   "source": [
    "## Segmentation by `days_since`, `survival_time` and `user_tenure`\n",
    "- `days_since` is the number of days since the user has made the last entry\n",
    "- `user_tenure` is the number of days between the users first and last date of expense or income entry\n",
    "- `survivial time` is the number of days between the system initially recongizes user's activity and the last day of observation '2025-01-31' or when the users had churned\n",
    "\n"
   ]
  },
  {
   "cell_type": "code",
   "execution_count": null,
   "id": "490d58f7-6c75-4c08-81be-71b69a74f51e",
   "metadata": {
    "scrolled": true
   },
   "outputs": [],
   "source": [
    "# [(x.left.round('D').days, x.right.days) for x in pd.qcut(td.survival_time, q=10).unique().sort_values()]"
   ]
  },
  {
   "cell_type": "code",
   "execution_count": null,
   "id": "b125c53a-e0a2-4f12-b325-f6bf07338e15",
   "metadata": {
    "scrolled": true
   },
   "outputs": [],
   "source": [
    "# [(x.left.round('D').days, x.right.days) for x in pd.qcut(td.days_since, q=10).unique().sort_values()]"
   ]
  },
  {
   "cell_type": "code",
   "execution_count": null,
   "id": "e2cde83b-3be9-429a-aaf9-fdc38f297dbe",
   "metadata": {},
   "outputs": [],
   "source": [
    "# [(round(x.left), round(x.right)) for x in pd.qcut(td.user_tenure.dt.days, q=10, duplicates='drop').unique().sort_values()]\n",
    "# td.info()"
   ]
  },
  {
   "cell_type": "code",
   "execution_count": null,
   "id": "38f1a5a3-e29f-4369-9567-913600d002e1",
   "metadata": {},
   "outputs": [],
   "source": [
    "td_ = td #.merge(freq, on='user_id', how='left')\n",
    "td_.isna().sum()"
   ]
  },
  {
   "cell_type": "code",
   "execution_count": null,
   "id": "62fb4607-38a1-4e59-b535-5cfb699b5203",
   "metadata": {},
   "outputs": [],
   "source": [
    "# count of null time_elasped...\n",
    "td_[td_.time_elapsed_median.isna() & td_.nbr_entry == 1].shape"
   ]
  },
  {
   "cell_type": "code",
   "execution_count": null,
   "id": "7c27872b-670f-4fa1-bed8-4c19d0ecc84e",
   "metadata": {
    "scrolled": true
   },
   "outputs": [],
   "source": [
    "# [round(i.right) for i in pd.qcut(df.fq_mean, q=12, duplicates='drop').cat.categories]"
   ]
  },
  {
   "cell_type": "code",
   "execution_count": null,
   "id": "6a224e1a-dc75-4953-be28-81e82ebf1c7b",
   "metadata": {
    "editable": true,
    "scrolled": true,
    "slideshow": {
     "slide_type": ""
    },
    "tags": []
   },
   "outputs": [],
   "source": [
    "df = td_[~td_.churned]\n",
    "df = df.loc[(df.days_since < df.days_since.quantile(.10)) #& (td.user_tenure > td.user_tenure.quantile(.5))\n",
    "       , ['user_id', 'days_since', 'user_tenure', 'survival_time', 'fq_mean', 'fq_median']].copy()\n",
    "df.info()\n",
    "df.describe(percentiles=[.1, .2, .3, .4, .5, .6, .7, .8, .9])"
   ]
  },
  {
   "cell_type": "code",
   "execution_count": null,
   "id": "6a730a24-8765-46a3-a62b-5d001cd31a3d",
   "metadata": {
    "editable": true,
    "slideshow": {
     "slide_type": ""
    },
    "tags": []
   },
   "outputs": [],
   "source": [
    "# cut and tag quantiles\n",
    "df['days_since_decile'] = pd.qcut(df.days_since.dt.days, q=10)\n",
    "df['days_since_decile'] = df['days_since_decile'].apply(lambda x: (x.right).astype('int') )  \n",
    "df['user_tenure_decile'] = pd.qcut(df.user_tenure.dt.days, q=10, duplicates='drop')\n",
    "df['user_tenure_decile'] = df['user_tenure_decile'].apply(lambda x: round(x.right)) \n",
    "df['survival_time_decile'] = pd.qcut(df.survival_time.dt.days, q=10)\n",
    "df['survival_time_decile'] = df['survival_time_decile'].apply(lambda x: round(x.right))\n",
    "df['mean_wk_fq'] = pd.qcut(df.fq_mean, q=12, duplicates='drop')\n",
    "df['mean_wk_fq'] = df['mean_wk_fq'].apply(lambda x: round(x.right))\n",
    "df['median_wk_fq'] = pd.qcut(df.fq_median, q=12, duplicates='drop')\n",
    "df['median_wk_fq'] = df['median_wk_fq'].apply(lambda x: round(x.right))"
   ]
  },
  {
   "cell_type": "code",
   "execution_count": null,
   "id": "b364274c-0018-4078-9754-a30fe0642f8c",
   "metadata": {
    "editable": true,
    "slideshow": {
     "slide_type": ""
    },
    "tags": []
   },
   "outputs": [],
   "source": [
    "import seaborn as sns\n",
    "\n",
    "# df_plot = df.groupby(['days_since_decile', 'user_tenure_decile'], observed=True).agg({'user_id':'count'}).reset_index()\n",
    "# df_plot = df_plot.pivot(index='user_tenure_decile', columns='days_since_decile', values='user_id')\n",
    "df_plot = df.groupby(['days_since_decile', 'survival_time_decile'], observed=True).agg({'user_id':'count'}).reset_index()\n",
    "df_plot = df_plot.pivot(index='survival_time_decile', columns='days_since_decile', values='user_id')\n",
    "\n",
    "# Set figure size globally\n",
    "sns.set_theme(rc={'figure.figsize': (12, 6)})\n",
    "\n",
    "_ = sns.heatmap(df_plot, annot=False, cmap='Greens')\n",
    "df_plot"
   ]
  },
  {
   "cell_type": "code",
   "execution_count": null,
   "id": "62a2b98b-558f-4dc3-a847-ef677def7a09",
   "metadata": {
    "editable": true,
    "slideshow": {
     "slide_type": ""
    },
    "tags": [
     "raises-exception"
    ]
   },
   "outputs": [],
   "source": [
    "import seaborn as sns\n",
    "\n",
    "# df_plot = df.groupby(['days_since_decile', 'user_tenure_decile'], observed=True).agg({'user_id':'count'}).reset_index()\n",
    "# df_plot = df_plot.pivot(index='user_tenure_decile', columns='days_since_decile', values='user_id')\n",
    "df_plot = df.groupby(['days_since_decile', 'mean_wk_fq'], observed=True).agg({'user_id':'count'}).reset_index()\n",
    "df_plot = df_plot.pivot(index='mean_wk_fq', columns='days_since_decile', values='user_id')\n",
    "\n",
    "# Set figure size globally\n",
    "sns.set_theme(rc={'figure.figsize': (12, 6)})\n",
    "\n",
    "_ = sns.heatmap(df_plot, annot=False, cmap='Purples')\n",
    "df_plot"
   ]
  },
  {
   "cell_type": "code",
   "execution_count": null,
   "id": "9f25def3-8d2d-4163-9a18-9593490beaea",
   "metadata": {},
   "outputs": [],
   "source": [
    "df_plot = df.groupby(['days_since_decile', 'mean_wk_fq'], observed=True).agg({'user_id':'count'}).reset_index()\n",
    "df_plot = df_plot.pivot(index='mean_wk_fq', columns='days_since_decile', values='user_id')\n",
    "\n",
    "# Set figure size globally\n",
    "sns.set_theme(rc={'figure.figsize': (12, 6)})\n",
    "\n",
    "_ = sns.heatmap(df_plot, annot=False, cmap='Blues')\n",
    "df_plot"
   ]
  },
  {
   "cell_type": "code",
   "execution_count": null,
   "id": "95c61972-f399-4ff9-b5b2-2387c9406ccc",
   "metadata": {},
   "outputs": [],
   "source": []
  },
  {
   "cell_type": "code",
   "execution_count": null,
   "id": "47b8d011-8a40-4503-acb3-3b834a24708f",
   "metadata": {
    "editable": true,
    "slideshow": {
     "slide_type": ""
    },
    "tags": []
   },
   "outputs": [],
   "source": [
    "# extreme cases\n",
    "td_.loc[(td_.fq_mean > 70) & ~td.churned,\n",
    "['fq_mean', 'user_tenure', 'days_since', 'user_id', 'nbr_entry', 'n_grp', 'nbr_connection']]"
   ]
  },
  {
   "cell_type": "code",
   "execution_count": null,
   "id": "85f59218-91fa-42ee-8f01-7db61d7912e8",
   "metadata": {},
   "outputs": [],
   "source": []
  },
  {
   "cell_type": "code",
   "execution_count": null,
   "id": "260042c5-eca1-4edf-843b-bbc0d50d1058",
   "metadata": {
    "editable": true,
    "slideshow": {
     "slide_type": ""
    },
    "tags": []
   },
   "outputs": [],
   "source": [
    "cashflow.query(\"user_id == 'U8835e86e095f591d93b8d36454174525'\").groupby('yyyy_mm').size().plot()"
   ]
  },
  {
   "cell_type": "code",
   "execution_count": null,
   "id": "93925a77-c7d9-4feb-98c8-01a541e6e15d",
   "metadata": {
    "editable": true,
    "scrolled": true,
    "slideshow": {
     "slide_type": ""
    },
    "tags": []
   },
   "outputs": [],
   "source": [
    "cashflow.query(\"user_id == 'Uff7dc69b55ff36a6cf8fa0bd1e0356c8' & ts > '2025-01-25'\")"
   ]
  },
  {
   "cell_type": "code",
   "execution_count": null,
   "id": "2c7d2ff1-04f9-412f-8861-be05f910a6cb",
   "metadata": {},
   "outputs": [],
   "source": [
    "import seaborn as sns\n",
    "import matplotlib.pyplot as plt\n",
    "\n",
    "# Compute correlation matrix\n",
    "corr_matrix = df.drop(columns='user_id').corr()\n",
    "\n",
    "# Create heatmap\n",
    "plt.figure(figsize=(8, 6))\n",
    "sns.heatmap(corr_matrix, annot=False, cmap='coolwarm', fmt=\".2f\", linewidths=0.5)\n",
    "plt.title(\"Correlation Matrix Heatmap\")\n",
    "plt.show()"
   ]
  },
  {
   "cell_type": "code",
   "execution_count": null,
   "id": "4bbb1135-16a0-460d-b698-d6aa4cf1f491",
   "metadata": {},
   "outputs": [],
   "source": [
    "# Create pairplot\n",
    "sns.pairplot(df.drop(columns='user_id'), kind=\"scatter\", corner=True)\n",
    "plt.suptitle(\"Pairwise Scatterplots of Correlations\", y=1.02)"
   ]
  },
  {
   "cell_type": "markdown",
   "id": "9ffaeaf5-f7e1-45fc-8c42-17956c7cb363",
   "metadata": {
    "editable": true,
    "jp-MarkdownHeadingCollapsed": true,
    "slideshow": {
     "slide_type": ""
    },
    "tags": []
   },
   "source": [
    "## Explore Group "
   ]
  },
  {
   "cell_type": "code",
   "execution_count": null,
   "id": "e49672b9-b21d-46cf-837d-ee65f9fe0f21",
   "metadata": {
    "scrolled": true
   },
   "outputs": [],
   "source": [
    "#number of members in each group\n",
    "nbr_mbr_grp = grp.groupby('group_id')['user_id'].nunique()\n",
    "\n",
    "nbr_mbr_grp.agg(['min', 'max', 'mean', 'median'])"
   ]
  },
  {
   "cell_type": "code",
   "execution_count": null,
   "id": "5e2c6859-a00b-4f40-9560-47166edd8585",
   "metadata": {},
   "outputs": [],
   "source": [
    "nbr_mbr_grp.quantile([.25, .5, .75, .8, .9, .95, .99])"
   ]
  },
  {
   "cell_type": "code",
   "execution_count": null,
   "id": "4e981813-e41b-4af7-a2b8-b9ba1fea4c70",
   "metadata": {},
   "outputs": [],
   "source": [
    "# is this interesting?\n",
    "\n",
    "cashflow.groupby(['user_id'])['amt'].sum().quantile([.1, .25, .5, .75, .9])"
   ]
  },
  {
   "cell_type": "markdown",
   "id": "f27a7a1d-2ea1-4b2c-b444-5316f42fcd98",
   "metadata": {},
   "source": [
    "## Expense by Category\n",
    "\n"
   ]
  },
  {
   "cell_type": "code",
   "execution_count": null,
   "id": "ce70884a-3d4a-44fa-926b-87a573a884d0",
   "metadata": {},
   "outputs": [],
   "source": [
    "# private entries\n",
    "cashflow.query(\"is_group == False & is_expense == True\").groupby('category') \\\n",
    "    .agg(n_user = ('user_id','nunique'),\n",
    "         nbr_expense = ('category', 'count'),\n",
    "         nbr_expense_per_user = ('user_id', lambda x: round(x.count() / x.nunique(), 2)),\n",
    "         avg_amt = ('amt', lambda x: -(round(x.mean())))\n",
    "        ) \\\n",
    "    .sort_values(by='nbr_expense',  ascending=False)"
   ]
  },
  {
   "cell_type": "code",
   "execution_count": null,
   "id": "9560ddd0-f180-4d73-9525-37d1728b5bd5",
   "metadata": {},
   "outputs": [],
   "source": [
    "# group entries\n",
    "cashflow.query(\"is_group == True & is_expense == True\").groupby('category') \\\n",
    "    .agg(n_user = ('user_id','nunique'),\n",
    "         nbr_expense = ('category', 'count'),\n",
    "         nbr_expense_per_user = ('user_id', lambda x: round(x.count() / x.nunique(), 2)),\n",
    "         avg_amt = ('amt', lambda x: -(round(x.mean())))\n",
    "        ) \\\n",
    "    .sort_values(by='nbr_expense',  ascending=False)"
   ]
  },
  {
   "cell_type": "markdown",
   "id": "429d5868-d255-46b6-90c6-cedfeddb8731",
   "metadata": {
    "jp-MarkdownHeadingCollapsed": true
   },
   "source": [
    "# Supplemental"
   ]
  },
  {
   "cell_type": "markdown",
   "id": "50ff137c-c8a4-476b-95cd-0066efc26632",
   "metadata": {
    "editable": true,
    "slideshow": {
     "slide_type": ""
    },
    "tags": []
   },
   "source": [
    "```sql\n",
    "-- consolidate expense and income entry to simplify analysis\n",
    "\n",
    "USE zoo;\n",
    "\n",
    "DROP TABLE IF EXISTS acc_cashflow;\n",
    "\n",
    "CREATE TABLE acc_cashflow (\n",
    "  user_id VARCHAR(100) NOT NULL,\n",
    "  date DATE NOT NULL,\n",
    "  amt DOUBLE NOT NULL,\n",
    "  is_expense BOOLEAN,\n",
    "\tis_group BOOLEAN,\n",
    "  group_id VARCHAR(100),\n",
    "  category_id INT,\n",
    "  category VARCHAR(100),\n",
    "  note VARCHAR(160)\n",
    ") COMMENT = 'consolidated expense and income entries'\n",
    ";\n",
    "\n",
    "-- insert personal expense\n",
    "INSERT INTO acc_cashflow\n",
    "SELECT\n",
    "  USER_ID user_id,\n",
    "  DATE(CREDTM) date,\n",
    "  -AMOUNT amt,\n",
    "  TRUE is_expense,\n",
    "\tFALSE is_group,\n",
    "  NULL group_id,\n",
    "  A.CATEGORY category_id,\n",
    "  B.CATEGORY category,\n",
    "  NOTE note\n",
    "FROM zoo.ACC_USER_DETAIL A\n",
    "LEFT JOIN zoo_checkchick3.ACC_CATEGORY B\n",
    "ON A.CATEGORY = B.ID\n",
    ";\n",
    "\n",
    "-- insert group expense\n",
    "INSERT INTO acc_cashflow\n",
    "SELECT\n",
    "  USER_ID user_id,\n",
    "  DATE(CREDTM) date,\n",
    "  -AMOUNT amt,\n",
    "  TRUE is_expense,\n",
    "\tTRUE is_group,\n",
    "  GROUP_ID group_id,\n",
    "  A.CATEGORY category_id,\n",
    "  B.CATEGORY category,\n",
    "  NOTE note\n",
    "FROM zoo_checkchick.ACC_GROUP_DETAIL A\n",
    "LEFT JOIN zoo_checkchick3.ACC_CATEGORY B\n",
    "ON A.CATEGORY = B.ID\n",
    ";\n",
    "\n",
    "-- insert personal income\n",
    "INSERT INTO acc_cashflow\n",
    "SELECT\n",
    "  USER_ID user_id,\n",
    "  DATE(CREDTM) date,\n",
    "  AMOUNT amt,\n",
    "  FALSE is_expense,\n",
    "\tFALSE is_group,\n",
    "  NULL group_id,\n",
    "  A.CATEGORY category_id,\n",
    "  B.CATEGORY category,\n",
    "  NOTE note\n",
    "FROM zoo_checkchick2.ACC_USER_DETAIL_INCOME A\n",
    "LEFT JOIN zoo_checkchick3.ACC_CATEGORY_INCOME B\n",
    "ON A.CATEGORY = B.ID\n",
    ";\n",
    "\n",
    "-- insert group income\n",
    "INSERT INTO acc_cashflow\n",
    "SELECT\n",
    "  USER_ID user_id,\n",
    "  DATE(CREDTM) date,\n",
    "  AMOUNT amt,\n",
    "  FALSE is_expense,\n",
    "\tTRUE is_group,\n",
    "  GROUP_ID group_id,\n",
    "  A.CATEGORY category_id,\n",
    "  B.CATEGORY category,\n",
    "  NOTE note\n",
    "FROM zoo_checkchick2.ACC_GROUP_DETAIL_INCOME A\n",
    "LEFT JOIN zoo_checkchick3.ACC_CATEGORY_INCOME B\n",
    "ON A.CATEGORY = B.ID\n",
    ";\n",
    "```"
   ]
  }
 ],
 "metadata": {
  "kernelspec": {
   "display_name": "Python [conda env:twin3]",
   "language": "python",
   "name": "conda-env-twin3-py"
  },
  "language_info": {
   "codemirror_mode": {
    "name": "ipython",
    "version": 3
   },
   "file_extension": ".py",
   "mimetype": "text/x-python",
   "name": "python",
   "nbconvert_exporter": "python",
   "pygments_lexer": "ipython3",
   "version": "3.13.2"
  }
 },
 "nbformat": 4,
 "nbformat_minor": 5
}
