{
 "cells": [
  {
   "cell_type": "markdown",
   "id": "dc48b1d7-0d93-4ea9-82a4-7ce8e15b4256",
   "metadata": {
    "editable": true,
    "slideshow": {
     "slide_type": ""
    },
    "tags": []
   },
   "source": [
    "# Zoo Financial Exploratory Data Analysis\n",
    "What is the motivation for conducting this analysis?\n",
    "\n",
    "Exploring the CheckChicks' cashflow can reveal that...\n",
    "\n",
    "Users who enjoy tracking their expenses and income might be,\n",
    "depending on their approach and enthusiasm for financial management.\n",
    "described as:\n",
    "\n",
    "- **Budget-conscious** – Someone who carefully plans and monitors their spending.\n",
    "- **Financially meticulous** – A person who pays close attention to financial details.\n",
    "- **Expense tracker** – Someone who actively records their spending habits.\n",
    "- **Frugal planner** – A person who enjoys optimizing their finances for savings.\n",
    "- **Money-savvy** – Someone who is knowledgeable and strategic about finances.\n",
    "- **Personal finance enthusiast** – A broader term for those who enjoy managing their money.\n",
    "- **Data-driven spender** – Someone who makes financial decisions based on recorded data.\n",
    "- **Financial optimizer** – A person who seeks to maximize efficiency in their financial habits.\n",
    "\n",
    "On the other hand, users who don’t track their expenses and income regularly might be,\n",
    "depending on their habits and attitudes toward financial management, described as such:\n",
    "\n",
    "- **Spontaneous spender** – Someone who makes purchases without much planning.\n",
    "- **Financially carefree** – A person who doesn’t stress about tracking money closely.\n",
    "- **Unstructured budgeter** – Someone who manages finances loosely without detailed records.\n",
    "- **Impulse buyer** – A person who tends to make purchases on a whim.\n",
    "- **Money-agnostic** – Someone who doesn’t prioritize financial tracking.\n",
    "- **Casual earner** – A person who earns and spends without strict oversight.\n",
    "- **Non-budgeter** – Someone who avoids formal budgeting altogether.\n",
    "- **Financially intuitive** – A person who relies on instinct rather than detailed tracking."
   ]
  },
  {
   "cell_type": "markdown",
   "id": "e69f848e-8054-4c44-b562-e66bffda67ef",
   "metadata": {
    "editable": true,
    "slideshow": {
     "slide_type": ""
    },
    "tags": []
   },
   "source": [
    "# Data Source\n",
    "\n",
    "- acc_user\n",
    "- acc_cashflow"
   ]
  },
  {
   "cell_type": "code",
   "execution_count": null,
   "id": "f28e84f6-f952-4670-9929-3b950510cc10",
   "metadata": {
    "editable": true,
    "slideshow": {
     "slide_type": ""
    },
    "tags": []
   },
   "outputs": [],
   "source": [
    "import os\n",
    "from sqlalchemy import create_engine\n",
    "import pandas as pd\n",
    "\n",
    "user = os.getenv(\"MYSQL_USER\")\n",
    "password = os.getenv(\"MYSQL_PASSWORD\")\n",
    "host = \"localhost\"\n",
    "database = \"zoo\"\n",
    "\n",
    "engine = create_engine(f\"mysql+pymysql://{user}:{password}@{host}/{database}\")"
   ]
  },
  {
   "cell_type": "markdown",
   "id": "2e536b9d-f39f-494c-b09f-af461d382409",
   "metadata": {},
   "source": [
    "## User Registration Date"
   ]
  },
  {
   "cell_type": "code",
   "execution_count": null,
   "id": "28f182c4-cea9-4a5c-af26-489ddfe2c49b",
   "metadata": {},
   "outputs": [],
   "source": [
    "## user registration , i.e. account creation, date\n",
    "\n",
    "query = \"\"\"\n",
    "SELECT user_id, min(DATE(CREDTM)) registered\n",
    "FROM zoo_checkchick2.ACC_USER\n",
    "GROUP BY user_id\n",
    "\"\"\"\n",
    "\n",
    "users = pd.read_sql(query, con=engine,\n",
    "                    dtype=({'registered':'datetime64[ns]'}))\n",
    "users.describe()"
   ]
  },
  {
   "cell_type": "code",
   "execution_count": null,
   "id": "21b0e391-833f-40f9-839a-770a26f2cf44",
   "metadata": {
    "editable": true,
    "slideshow": {
     "slide_type": ""
    },
    "tags": []
   },
   "outputs": [],
   "source": [
    "# user cohorts by registered year\n",
    "\n",
    "query = \"\"\"\n",
    "SELECT\n",
    "  year(CREDTM) registered_yr,\n",
    "  count(*) n_new_user\n",
    "FROM (\n",
    "  SELECT\n",
    "    USER_ID,\n",
    "    min(CREDTM) AS CREDTM\n",
    "    FROM zoo_checkchick2.ACC_USER\n",
    "\tGROUP BY USER_ID\n",
    ") AS foo\n",
    "  GROUP BY registered_yr\n",
    "  ORDER BY registered_yr\n",
    ";\n",
    "\"\"\"\n",
    "\n",
    "pd.read_sql(query, con=engine)"
   ]
  },
  {
   "cell_type": "markdown",
   "id": "69a8f63f-6646-4a84-b03a-b2d0d82dcb65",
   "metadata": {},
   "source": [
    "## Cashflow"
   ]
  },
  {
   "cell_type": "code",
   "execution_count": null,
   "id": "17065480-dce6-47cd-85e0-089afe8cabc1",
   "metadata": {},
   "outputs": [],
   "source": [
    "# check number of records (expense and income entries) each month\n",
    "\n",
    "query = \"\"\"\n",
    "SELECT DATE_FORMAT(date, '%%Y-%%m') yyyy_mm,\n",
    "  COUNT(*) total,\n",
    "  SUM(is_expense) nbr_expense_entry,\n",
    "  SUM(is_group) nbr_group_entry\n",
    "FROM zoo.acc_cashflow\n",
    "GROUP BY yyyy_mm\n",
    "\"\"\"\n",
    "\n",
    "df = pd.read_sql(query, con=engine)\n",
    "df.describe()"
   ]
  },
  {
   "cell_type": "markdown",
   "id": "d1e2e9af-8dfe-4290-aebb-7c2d8b7fe042",
   "metadata": {},
   "source": [
    "_**Observation:**_ Half of the periods in the data set have very low number of records each month. Erroneous date?"
   ]
  },
  {
   "cell_type": "code",
   "execution_count": null,
   "id": "21ce19de-33d1-46dd-9652-04ee51aece77",
   "metadata": {
    "scrolled": true
   },
   "outputs": [],
   "source": [
    "import seaborn as sns\n",
    "\n",
    "# Reshape data for Seaborn\n",
    "df_melted = df.melt(id_vars=['yyyy_mm'], var_name='Metric', value_name='Value')\n",
    "df_melted['yyyy_mm'] = df_melted['yyyy_mm'].astype('string')\n",
    "\n",
    "_ = sns.lineplot(data=df_melted, x='yyyy_mm', y='Value', color='skyblue', hue='Metric')\n",
    "\n",
    "# Rotate X-axis labels\n",
    "# Reduce tick labels by selecting every 4th label\n",
    "_.set_xticklabels([label if i % 4 == 0 else '' for i, label in enumerate(df_melted['yyyy_mm'])], rotation=90)\n",
    "\n",
    "_.figure.set_size_inches(12, 6)\n",
    "_.set_xlabel('Period')\n",
    "_.set_ylabel('Count')\n",
    "\n",
    "# _.figure.show()  # Ensure proper display without Matplotlib calls"
   ]
  },
  {
   "cell_type": "markdown",
   "id": "36acefb3-0337-430a-a430-3aeb8f28abcd",
   "metadata": {},
   "source": [
    "__*Observation:*__\n",
    "- errorenous timestamps\n",
    "- personal entries makes up significally larger portions of records; I had expected more entries. \n",
    "- expenses makes up larger portion of the records; this aligns with the norm for personal finance dataset."
   ]
  },
  {
   "cell_type": "code",
   "execution_count": null,
   "id": "5d6f43b9-f2c1-41aa-bcd1-8e6974e12a6d",
   "metadata": {},
   "outputs": [],
   "source": [
    "# acc_cashflow dataset\n",
    "# left and right date range censored \n",
    "# between '2018-06-01' AND '2025-01-31'\n",
    "# to exclude erroneous rows\n",
    "\n",
    "cashflow = pd.read_feather('../data/cashflow.feather'\n",
    "                          ).query(\"'2018-06-01' <= date <= '2025-01-31'\")\n",
    "cashflow.info()"
   ]
  },
  {
   "cell_type": "markdown",
   "id": "e0227847-dd58-427d-be1b-98a356f51adf",
   "metadata": {},
   "source": [
    "_**n.b.,**_ __amt__ is float64. _I expect this to be whole number._"
   ]
  },
  {
   "cell_type": "code",
   "execution_count": null,
   "id": "7139182e-fd3e-4d27-b77a-e39795b32312",
   "metadata": {},
   "outputs": [],
   "source": [
    "cashflow.isna().sum()"
   ]
  },
  {
   "cell_type": "code",
   "execution_count": null,
   "id": "cb8bbce2-78f2-4b14-abac-f864419069aa",
   "metadata": {},
   "outputs": [],
   "source": [
    "print(cashflow.group_id.count() / cashflow.shape[0])"
   ]
  },
  {
   "cell_type": "markdown",
   "id": "27b6fe21-f1df-4acf-b2c7-5a5164e3b06c",
   "metadata": {},
   "source": [
    "_**Observation:**_ group entries make up about 15% of the records."
   ]
  },
  {
   "cell_type": "markdown",
   "id": "d145f046-2b86-427a-a24c-2f7b3e16fbbf",
   "metadata": {},
   "source": [
    "_**Question:**_ Should factional amounts be rounded up?"
   ]
  },
  {
   "cell_type": "code",
   "execution_count": null,
   "id": "b7234f5b-808e-4358-b715-a796388e69eb",
   "metadata": {},
   "outputs": [],
   "source": [
    "# should amt be whole number?\n",
    "bad = cashflow.query(\"amt % 1 != 0\").copy()\n",
    "bad.describe()"
   ]
  },
  {
   "cell_type": "code",
   "execution_count": null,
   "id": "883a23e5-a243-4930-bec6-ff4b6ac1ef70",
   "metadata": {},
   "outputs": [],
   "source": [
    "# create quartile bins\n",
    "bad['quartile'] = pd.qcut(bad['amt'], q=4, labels=['Q1', 'Q2', 'Q3', 'Q4'])\n",
    "bad.groupby('quartile', observed=True).agg({'amt':['count', 'sum', 'mean']})"
   ]
  },
  {
   "cell_type": "code",
   "execution_count": null,
   "id": "0c272619-b5ad-450b-8612-47702c2b7a4d",
   "metadata": {},
   "outputs": [],
   "source": [
    "bad.groupby(['quartile', 'is_expense'], observed=True).agg({'amt':'sum'}).unstack(level=1)"
   ]
  },
  {
   "cell_type": "code",
   "execution_count": null,
   "id": "68210558-49f9-4f32-a51b-39951f80244f",
   "metadata": {},
   "outputs": [],
   "source": [
    "bad['category'].unique()"
   ]
  },
  {
   "cell_type": "code",
   "execution_count": null,
   "id": "2aebef77-2100-4b61-b7ca-0d9c2f2746c7",
   "metadata": {},
   "outputs": [],
   "source": [
    "bad['note'].unique()"
   ]
  },
  {
   "cell_type": "code",
   "execution_count": null,
   "id": "30a87b2c-2f64-48f1-9e81-ee871d86e36b",
   "metadata": {},
   "outputs": [],
   "source": [
    "# impute fractional amounts by rounding up if > 0 and down if < 0\n",
    "\n",
    "cashflow['amt'] = cashflow['amt'].round().astype('Int64')"
   ]
  },
  {
   "cell_type": "code",
   "execution_count": null,
   "id": "0f18fdf1-7920-4a80-b08a-c8cbbd5e1737",
   "metadata": {},
   "outputs": [],
   "source": [
    "cashflow.info()"
   ]
  },
  {
   "cell_type": "code",
   "execution_count": null,
   "id": "2632b1bf-5c27-4dd5-ab9f-247845123d7a",
   "metadata": {},
   "outputs": [],
   "source": [
    "# Should rows where amount is 0 be excluded?\n",
    "\n",
    "cashflow[cashflow.amt == 0].count()"
   ]
  },
  {
   "cell_type": "code",
   "execution_count": null,
   "id": "aa129a34-aef3-4b2d-a897-b8591cb9ccf8",
   "metadata": {
    "scrolled": true
   },
   "outputs": [],
   "source": [
    "# check number of active users in each month, i.e. period\n",
    "\n",
    "cashflow['yyyy_mm'] = cashflow['date'].dt.to_period('M')\n",
    "cashflow['yyyy'] = cashflow['date'].dt.year\n",
    "cashflow['mm'] = cashflow['date'].dt.month\n",
    "\n",
    "#cashflow.groupby(['yyyy', 'mm']).agg({'user_id':'nunique'}).unstack(level=1)"
   ]
  },
  {
   "cell_type": "code",
   "execution_count": null,
   "id": "1311daea-bdeb-44e7-8834-4e49248523c2",
   "metadata": {},
   "outputs": [],
   "source": [
    "_ = cashflow.groupby('yyyy_mm').agg({'user_id':'nunique'}) \\\n",
    "    .plot(y='user_id', kind='line', figsize=(12, 6), title=\"Number of Active Users Each Month\")"
   ]
  },
  {
   "cell_type": "markdown",
   "id": "882b213b-7347-4029-a950-03bd7a8bc91e",
   "metadata": {},
   "source": [
    "__*Observation:*__ number of active users gradually declined but not obvious"
   ]
  },
  {
   "cell_type": "code",
   "execution_count": null,
   "id": "78d30df7-410e-4ff3-9764-256a14828190",
   "metadata": {},
   "outputs": [],
   "source": [
    "cashflow.describe()"
   ]
  },
  {
   "cell_type": "markdown",
   "id": "bcbf7d4e-82f6-43e3-aebe-66b09d5e4ddc",
   "metadata": {},
   "source": [
    "# Tidy Dataset\n",
    "\n",
    "Let the final tidy dataset be _td_. Proceed the data preparation as follow:"
   ]
  },
  {
   "cell_type": "markdown",
   "id": "ab4db14d-4d11-4b40-bdd7-8288299b4c49",
   "metadata": {},
   "source": [
    "## Tenure"
   ]
  },
  {
   "cell_type": "code",
   "execution_count": null,
   "id": "e2629762-5e73-4f57-90d6-b2abcc225e03",
   "metadata": {
    "editable": true,
    "slideshow": {
     "slide_type": ""
    },
    "tags": []
   },
   "outputs": [],
   "source": [
    "# user tenure, income and expense entry stats,\n",
    "# including group entries\n",
    "# excluding amount = 0\n",
    "# n.b. tenure begin when user submit first entry, and does not consider\n",
    "#      when user first registered with the app\n",
    "\n",
    "tenure = cashflow[cashflow.amt != 0] \\\n",
    "    .groupby('user_id') \\\n",
    "    .agg(user_tenure = ('date', lambda x: x.max() - x.min()),\n",
    "         first_entry = ('date', 'min'),\n",
    "         last_entry = ('date', 'max'),\n",
    "         nbr_entry = ('user_id', 'count'),\n",
    "         total_exp = ('amt', lambda x: x[x < 0].sum()),\n",
    "         nbr_exp = ('amt', lambda x: x[x < 0].count()),\n",
    "         total_inc = ('amt', lambda x: x[x > 0].sum()),\n",
    "         nbr_inc = ('amt', lambda x: x[x > 0].count())\n",
    "        )\n",
    "tenure.info()"
   ]
  },
  {
   "cell_type": "code",
   "execution_count": null,
   "id": "6ebbfcbf-a0d3-41bd-9ddb-d5e7c4bd741e",
   "metadata": {},
   "outputs": [],
   "source": [
    "tenure.describe()"
   ]
  },
  {
   "cell_type": "markdown",
   "id": "93860803-f8b5-496b-b581-2a9bd716b6d3",
   "metadata": {},
   "source": [
    "_**Initial observation:**_ Of the 399,125 users, 25% of which had logged entries in the last 48~50 days "
   ]
  },
  {
   "cell_type": "code",
   "execution_count": null,
   "id": "b2b0a2ef-0a4f-436d-8daa-6ee987398a11",
   "metadata": {},
   "outputs": [],
   "source": [
    "cashflow.groupby(['user_id', 'is_group', 'is_expense'])['category_id'].nunique().unstack(level=[1,2], fill_value=0).describe()"
   ]
  },
  {
   "cell_type": "markdown",
   "id": "787b9a66-f74e-4c75-b702-b4d2d52037ce",
   "metadata": {},
   "source": [
    "_**Observation:**_ Is it true that entries are not well categorized by the bottom 75% of users?"
   ]
  },
  {
   "cell_type": "markdown",
   "id": "e745e6af-298f-4e75-98eb-90fb71ad3355",
   "metadata": {},
   "source": [
    "## Group Bookkeeping"
   ]
  },
  {
   "cell_type": "code",
   "execution_count": null,
   "id": "9b95ee47-6071-4921-9409-762c33915088",
   "metadata": {},
   "outputs": [],
   "source": [
    "# user group expense and income entry stat per user\n",
    "\n",
    "td_grp = cashflow[(cashflow.amt != 0) & (cashflow.is_group == True)] \\\n",
    "    .groupby('user_id') \\\n",
    "    .agg(n_grp = ('group_id', 'nunique'),\n",
    "         first_grp_entry = ('date', 'min'),\n",
    "         last_grp_entry = ('date', 'max'),\n",
    "         grp_exp = ('amt', lambda x: x[x < 0].sum()),\n",
    "         nbr_grp_exp = ('amt', lambda x: x[x < 0].count()),\n",
    "         grp_inc = ('amt', lambda x: x[x > 0].sum()),\n",
    "         nbr_grp_inc = ('amt', lambda x: x[x > 0].count())\n",
    "        )\n",
    "td_grp.info()"
   ]
  },
  {
   "cell_type": "code",
   "execution_count": null,
   "id": "e6d112ab-4d0b-436d-9e66-19ae2ebb0697",
   "metadata": {},
   "outputs": [],
   "source": [
    "td_grp.describe()"
   ]
  },
  {
   "cell_type": "markdown",
   "id": "9455f8f5-c959-4552-a670-f9e7d457c4b5",
   "metadata": {},
   "source": [
    "## Co-bookkeepers\n",
    "\n",
    "self-joined group_id:user_id from _cashflow_ to compute\n",
    "number of distinct users interacted within groups"
   ]
  },
  {
   "cell_type": "code",
   "execution_count": null,
   "id": "b2a543ca-46b5-4381-a07e-9d39bf0b3cbf",
   "metadata": {},
   "outputs": [],
   "source": [
    "# unique group_id:user_id linkage \n",
    "grp = cashflow.loc[(cashflow.amt != 0) & (cashflow.group_id.notnull()),\n",
    "                 ['group_id', 'user_id']].drop_duplicates()\n",
    "grp.info()"
   ]
  },
  {
   "cell_type": "code",
   "execution_count": null,
   "id": "f944bb7a-462e-43ae-8a60-20d030e3fb1c",
   "metadata": {},
   "outputs": [],
   "source": [
    "# user's groups and their assoicated users (members),\n",
    "# i.e., user's connections with other users thru cooperative bookkeeping \n",
    "\n",
    "mbr = grp[['user_id', 'group_id']].merge(grp[['user_id', 'group_id']], on='group_id', how='left')\n",
    "mbr.columns = ['user_id', 'group_id', 'member_id']\n",
    "mbr.describe()"
   ]
  },
  {
   "cell_type": "code",
   "execution_count": null,
   "id": "05eb144a-8290-412a-a49a-7dbc89043497",
   "metadata": {},
   "outputs": [],
   "source": [
    "# count the participants at each group level for every user\n",
    "\n",
    "x = mbr.groupby(['user_id', 'group_id']) \\\n",
    "    .agg({'member_id':'nunique'}) \\\n",
    "    .reset_index(1) \\\n",
    "    .rename(columns={'member_id':'nbr_member'})\n",
    "x.describe()"
   ]
  },
  {
   "cell_type": "code",
   "execution_count": null,
   "id": "c0db9b54-ad3f-4b45-94b1-fc0fe1f4800a",
   "metadata": {},
   "outputs": [],
   "source": [
    "x.plot.hist(bins=30, alpha=0.7)"
   ]
  },
  {
   "cell_type": "markdown",
   "id": "5c32807c-7f94-44bb-ae35-2ab704d62e21",
   "metadata": {},
   "source": [
    "_**Observation:**_ Groups with only one participant should be excluded in the stat summary."
   ]
  },
  {
   "cell_type": "code",
   "execution_count": null,
   "id": "9474d0e7-43b8-4575-a0e4-0a76c898ea25",
   "metadata": {},
   "outputs": [],
   "source": [
    "# for every user, count the unique users across _all_ associated groups\n",
    "\n",
    "cnx = mbr.groupby('user_id').agg({'group_id': 'nunique', 'member_id':'nunique'})\n",
    "cnx.columns = ['n_grp', 'nbr_connection']\n",
    "cnx['nbr_connection'] = cnx['nbr_connection'] - 1 # remove user itself from count\n",
    "cnx.hist(bins=40, grid=False, alpha=.7)"
   ]
  },
  {
   "cell_type": "markdown",
   "id": "93303b48-0e30-45f4-a2d6-4790bfb25b44",
   "metadata": {},
   "source": [
    "## Merge and Impute"
   ]
  },
  {
   "cell_type": "code",
   "execution_count": null,
   "id": "7ab13ce0-597a-4960-9ceb-cfca3142ec3a",
   "metadata": {},
   "outputs": [],
   "source": [
    "td = users.merge(tenure, on='user_id', how='right') \\\n",
    "    .merge(cnx['nbr_connection'], on='user_id', how='left') \\\n",
    "    .merge(td_grp, on='user_id', how='left') \\\n",
    "    .convert_dtypes()\n",
    "td.info()"
   ]
  },
  {
   "cell_type": "code",
   "execution_count": null,
   "id": "f85777cc-9445-4b01-86c4-e849e4fece43",
   "metadata": {},
   "outputs": [],
   "source": [
    "values = {'nbr_connection':0, 'n_grp':0,\n",
    "          'grp_exp':0, 'nbr_grp_exp':0,\n",
    "          'grp_inc':0, 'nbr_grp_inc':0}\n",
    "td.fillna(value=values, inplace=True)"
   ]
  },
  {
   "cell_type": "code",
   "execution_count": null,
   "id": "699c11d0-cf14-4404-9acb-2124893d14f3",
   "metadata": {},
   "outputs": [],
   "source": [
    "td.describe()"
   ]
  },
  {
   "cell_type": "code",
   "execution_count": null,
   "id": "831c02e8-e2c1-420e-9a64-9511248900bd",
   "metadata": {},
   "outputs": [],
   "source": [
    "td.to_csv('../reports/tidy.csv')"
   ]
  },
  {
   "cell_type": "markdown",
   "id": "7450e3c3-c810-412e-a7ee-1aa12c3382d0",
   "metadata": {},
   "source": [
    "# EDA"
   ]
  },
  {
   "cell_type": "code",
   "execution_count": null,
   "id": "783b7cc2-70fe-4b5e-8b91-941c8658534e",
   "metadata": {},
   "outputs": [],
   "source": [
    "# select users having made at least 1 entry in the past 50 days\n",
    "\n",
    "t1 = max(tenure.last_entry)\n",
    "t0 = t1 - pd.Timedelta(days=50)\n",
    "\n",
    "td.loc[td.last_entry >= t0,]['nbr_entry'].quantile([0.25, 0.5, 0.75])"
   ]
  },
  {
   "cell_type": "code",
   "execution_count": null,
   "id": "e3ad18f7-783d-4654-b58c-063c792eaeb4",
   "metadata": {},
   "outputs": [],
   "source": [
    "# number of users in the database\n",
    "td.loc[td.last_entry >= t0,].shape[0]"
   ]
  },
  {
   "cell_type": "code",
   "execution_count": null,
   "id": "c05c348a-2da5-47af-97d8-28fd7be9d752",
   "metadata": {},
   "outputs": [],
   "source": [
    "# percent of active users in the past 50 days \n",
    "td[td.last_entry >= t0].shape[0] / td.shape[0]"
   ]
  },
  {
   "cell_type": "code",
   "execution_count": null,
   "id": "4834239c-3034-4a7c-b033-4ec22dfd0b27",
   "metadata": {},
   "outputs": [],
   "source": [
    "x = td[td.last_entry >= t0].copy()\n",
    "x['quantile'] = pd.qcut(x['user_tenure'], q=10)\n",
    "(x['user_tenure'].dt.days / 365.2425).mean()"
   ]
  },
  {
   "cell_type": "code",
   "execution_count": null,
   "id": "b28b8b29-814c-4c9a-8121-f9da235a6d90",
   "metadata": {},
   "outputs": [],
   "source": [
    "x.groupby('quantile', observed=True).agg({'user_tenure':'median', 'nbr_entry':'mean', 'last_entry':'median'})"
   ]
  },
  {
   "cell_type": "code",
   "execution_count": null,
   "id": "e49672b9-b21d-46cf-837d-ee65f9fe0f21",
   "metadata": {
    "scrolled": true
   },
   "outputs": [],
   "source": [
    "#number of members in each group\n",
    "nbr_mbr_grp = grp.groupby('group_id')['user_id'].nunique()\n",
    "\n",
    "nbr_mbr_grp.agg(['min', 'max', 'mean', 'median'])"
   ]
  },
  {
   "cell_type": "code",
   "execution_count": null,
   "id": "5e2c6859-a00b-4f40-9560-47166edd8585",
   "metadata": {},
   "outputs": [],
   "source": [
    "nbr_mbr_grp.quantile([.25, .5, .75, .8, .9, .95, .99])"
   ]
  },
  {
   "cell_type": "code",
   "execution_count": null,
   "id": "4e981813-e41b-4af7-a2b8-b9ba1fea4c70",
   "metadata": {},
   "outputs": [],
   "source": [
    "# is this interesting?\n",
    "\n",
    "cashflow.groupby(['user_id'])['amt'].sum().quantile([.1, .25, .5, .75, .9])"
   ]
  },
  {
   "cell_type": "markdown",
   "id": "f27a7a1d-2ea1-4b2c-b444-5316f42fcd98",
   "metadata": {},
   "source": [
    "## Expense by Category\n",
    "\n"
   ]
  },
  {
   "cell_type": "code",
   "execution_count": null,
   "id": "ce70884a-3d4a-44fa-926b-87a573a884d0",
   "metadata": {},
   "outputs": [],
   "source": [
    "# private entries\n",
    "cashflow.query(\"is_group == False & is_expense == True\").groupby('category') \\\n",
    "    .agg(n_user = ('user_id','nunique'),\n",
    "         nbr_expense = ('category', 'count'),\n",
    "         nbr_expense_per_user = ('user_id', lambda x: round(x.count() / x.nunique(), 2)),\n",
    "         avg_amt = ('amt', lambda x: -(round(x.mean())))\n",
    "        ) \\\n",
    "    .sort_values(by='nbr_expense',  ascending=False)"
   ]
  },
  {
   "cell_type": "code",
   "execution_count": null,
   "id": "9560ddd0-f180-4d73-9525-37d1728b5bd5",
   "metadata": {},
   "outputs": [],
   "source": [
    "# group entries\n",
    "cashflow.query(\"is_group == True & is_expense == True\").groupby('category') \\\n",
    "    .agg(n_user = ('user_id','nunique'),\n",
    "         nbr_expense = ('category', 'count'),\n",
    "         nbr_expense_per_user = ('user_id', lambda x: round(x.count() / x.nunique(), 2)),\n",
    "         avg_amt = ('amt', lambda x: -(round(x.mean())))\n",
    "        ) \\\n",
    "    .sort_values(by='nbr_expense',  ascending=False)"
   ]
  },
  {
   "cell_type": "markdown",
   "id": "429d5868-d255-46b6-90c6-cedfeddb8731",
   "metadata": {
    "jp-MarkdownHeadingCollapsed": true
   },
   "source": [
    "# Supplemental"
   ]
  },
  {
   "cell_type": "markdown",
   "id": "50ff137c-c8a4-476b-95cd-0066efc26632",
   "metadata": {},
   "source": [
    "```sql\n",
    "-- consolidate expense and income entry to simplify analysis\n",
    "\n",
    "USE zoo;\n",
    "\n",
    "DROP TABLE IF EXISTS acc_cashflow;\n",
    "\n",
    "CREATE TABLE acc_cashflow (\n",
    "  user_id VARCHAR(100) NOT NULL,\n",
    "  date DATE NOT NULL,\n",
    "  amt DOUBLE NOT NULL,\n",
    "  is_expense BOOLEAN,\n",
    "\tis_group BOOLEAN,\n",
    "  group_id VARCHAR(100),\n",
    "  category_id INT,\n",
    "  category VARCHAR(100),\n",
    "  note VARCHAR(160)\n",
    ") COMMENT = 'consolidated expense and income entries'\n",
    ";\n",
    "\n",
    "-- insert personal expense\n",
    "INSERT INTO acc_cashflow\n",
    "SELECT\n",
    "  USER_ID user_id,\n",
    "  DATE(CREDTM) date,\n",
    "  -AMOUNT amt,\n",
    "  TRUE is_expense,\n",
    "\tFALSE is_group,\n",
    "  NULL group_id,\n",
    "  A.CATEGORY category_id,\n",
    "  B.CATEGORY category,\n",
    "  NOTE note\n",
    "FROM zoo.ACC_USER_DETAIL A\n",
    "LEFT JOIN zoo_checkchick3.ACC_CATEGORY B\n",
    "ON A.CATEGORY = B.ID\n",
    ";\n",
    "\n",
    "-- insert group expense\n",
    "INSERT INTO acc_cashflow\n",
    "SELECT\n",
    "  USER_ID user_id,\n",
    "  DATE(CREDTM) date,\n",
    "  -AMOUNT amt,\n",
    "  TRUE is_expense,\n",
    "\tTRUE is_group,\n",
    "  GROUP_ID group_id,\n",
    "  A.CATEGORY category_id,\n",
    "  B.CATEGORY category,\n",
    "  NOTE note\n",
    "FROM zoo_checkchick.ACC_GROUP_DETAIL A\n",
    "LEFT JOIN zoo_checkchick3.ACC_CATEGORY B\n",
    "ON A.CATEGORY = B.ID\n",
    ";\n",
    "\n",
    "-- insert personal income\n",
    "INSERT INTO acc_cashflow\n",
    "SELECT\n",
    "  USER_ID user_id,\n",
    "  DATE(CREDTM) date,\n",
    "  AMOUNT amt,\n",
    "  FALSE is_expense,\n",
    "\tFALSE is_group,\n",
    "  NULL group_id,\n",
    "  A.CATEGORY category_id,\n",
    "  B.CATEGORY category,\n",
    "  NOTE note\n",
    "FROM zoo_checkchick2.ACC_USER_DETAIL_INCOME A\n",
    "LEFT JOIN zoo_checkchick3.ACC_CATEGORY_INCOME B\n",
    "ON A.CATEGORY = B.ID\n",
    ";\n",
    "\n",
    "-- insert group income\n",
    "INSERT INTO acc_cashflow\n",
    "SELECT\n",
    "  USER_ID user_id,\n",
    "  DATE(CREDTM) date,\n",
    "  AMOUNT amt,\n",
    "  FALSE is_expense,\n",
    "\tTRUE is_group,\n",
    "  GROUP_ID group_id,\n",
    "  A.CATEGORY category_id,\n",
    "  B.CATEGORY category,\n",
    "  NOTE note\n",
    "FROM zoo_checkchick2.ACC_GROUP_DETAIL_INCOME A\n",
    "LEFT JOIN zoo_checkchick3.ACC_CATEGORY_INCOME B\n",
    "ON A.CATEGORY = B.ID\n",
    ";\n",
    "```"
   ]
  }
 ],
 "metadata": {
  "kernelspec": {
   "display_name": "Python [conda env:twin3]",
   "language": "python",
   "name": "conda-env-twin3-py"
  },
  "language_info": {
   "codemirror_mode": {
    "name": "ipython",
    "version": 3
   },
   "file_extension": ".py",
   "mimetype": "text/x-python",
   "name": "python",
   "nbconvert_exporter": "python",
   "pygments_lexer": "ipython3",
   "version": "3.13.2"
  }
 },
 "nbformat": 4,
 "nbformat_minor": 5
}
