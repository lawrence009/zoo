{
 "cells": [
  {
   "cell_type": "markdown",
   "id": "dc48b1d7-0d93-4ea9-82a4-7ce8e15b4256",
   "metadata": {
    "editable": true,
    "jp-MarkdownHeadingCollapsed": true,
    "slideshow": {
     "slide_type": ""
    },
    "tags": []
   },
   "source": [
    "# Analysis of Personal Finance Bookkeeping Activity\n",
    "What is the motivation for conducting this analysis?\n",
    "\n",
    "Exploring bookkeeping of personal income and spending can reveal that...\n",
    "\n",
    "Users who enjoy tracking their expenses and income might be,\n",
    "depending on their approach and enthusiasm for financial management.\n",
    "described as:\n",
    "\n",
    "- **Budget-conscious** – Someone who carefully plans and monitors their spending.\n",
    "- **Financially meticulous** – A person who pays close attention to financial details.\n",
    "- **Expense tracker** – Someone who actively records their spending habits.\n",
    "- **Frugal planner** – A person who enjoys optimizing their finances for savings.\n",
    "- **Money-savvy** – Someone who is knowledgeable and strategic about finances.\n",
    "- **Personal finance enthusiast** – A broader term for those who enjoy managing their money.\n",
    "- **Data-driven spender** – Someone who makes financial decisions based on recorded data.\n",
    "- **Financial optimizer** – A person who seeks to maximize efficiency in their financial habits.\n",
    "\n",
    "On the other hand, users who don’t track their expenses and income regularly might be,\n",
    "depending on their habits and attitudes toward financial management, described as such:\n",
    "\n",
    "- **Spontaneous spender** – Someone who makes purchases without much planning.\n",
    "- **Financially carefree** – A person who doesn’t stress about tracking money closely.\n",
    "- **Unstructured budgeter** – Someone who manages finances loosely without detailed records.\n",
    "- **Impulse buyer** – A person who tends to make purchases on a whim.\n",
    "- **Money-agnostic** – Someone who doesn’t prioritize financial tracking.\n",
    "- **Casual earner** – A person who earns and spends without strict oversight.\n",
    "- **Non-budgeter** – Someone who avoids formal budgeting altogether.\n",
    "- **Financially intuitive** – A person who relies on instinct rather than detailed tracking."
   ]
  },
  {
   "cell_type": "markdown",
   "id": "e69f848e-8054-4c44-b562-e66bffda67ef",
   "metadata": {
    "editable": true,
    "slideshow": {
     "slide_type": ""
    },
    "tags": []
   },
   "source": [
    "# Data Source\n",
    "\n",
    "- acc_user\n",
    "- acc_cashflow"
   ]
  },
  {
   "cell_type": "code",
   "execution_count": null,
   "id": "f28e84f6-f952-4670-9929-3b950510cc10",
   "metadata": {
    "editable": true,
    "slideshow": {
     "slide_type": ""
    },
    "tags": []
   },
   "outputs": [],
   "source": [
    "import os\n",
    "from sqlalchemy import create_engine\n",
    "import pandas as pd\n",
    "\n",
    "user = os.getenv(\"MYSQL_USER\")\n",
    "password = os.getenv(\"MYSQL_PASSWORD\")\n",
    "host = \"localhost\"\n",
    "database = \"zoo\"\n",
    "\n",
    "engine = create_engine(f\"mysql+pymysql://{user}:{password}@{host}/{database}\")"
   ]
  },
  {
   "cell_type": "markdown",
   "id": "2e536b9d-f39f-494c-b09f-af461d382409",
   "metadata": {},
   "source": [
    "## Users"
   ]
  },
  {
   "cell_type": "code",
   "execution_count": null,
   "id": "28f182c4-cea9-4a5c-af26-489ddfe2c49b",
   "metadata": {},
   "outputs": [],
   "source": [
    "## user registration , i.e. account creation, date\n",
    "## is_agree: is communication from official account blocked\n",
    "## to be deprecated: registered\n",
    "\n",
    "query = \"\"\"\n",
    "SELECT\n",
    "  user_id,\n",
    "  isBot is_bot,\n",
    "  isAgree is_agree,\n",
    "  min(CREDTM) registered,\n",
    "  min(CREDTM) ts\n",
    "FROM zoo_checkchick2.ACC_USER\n",
    "GROUP BY user_id, is_bot, is_agree\n",
    "\"\"\"\n",
    "\n",
    "users = pd.read_sql(query, con=engine,\n",
    "                    dtype=({'is_bot':'bool', 'is_agree':'bool', 'ts':'datetime64[ns]', 'registered':'datetime64[ns]'}))\n",
    "users.info()"
   ]
  },
  {
   "cell_type": "code",
   "execution_count": null,
   "id": "aeeeca9e-37e6-453c-af8f-a634beec8b96",
   "metadata": {},
   "outputs": [],
   "source": [
    "# check for duplicates\n",
    "x = users.groupby('user_id').size()\n",
    "dups=x[x > 1].index\n",
    "len(dups)"
   ]
  },
  {
   "cell_type": "code",
   "execution_count": null,
   "id": "a875f110-fdb1-45fe-8846-1cb72c5e38b7",
   "metadata": {},
   "outputs": [],
   "source": [
    "users[users.user_id.isin(dups)].shape"
   ]
  },
  {
   "cell_type": "code",
   "execution_count": null,
   "id": "5c830be1-857b-46ba-b0e5-246650e63361",
   "metadata": {},
   "outputs": [],
   "source": [
    "# what is dup ratio?\n",
    "89192/44596"
   ]
  },
  {
   "cell_type": "code",
   "execution_count": null,
   "id": "bf5899e8-3726-4a96-abea-18a68e07455c",
   "metadata": {},
   "outputs": [],
   "source": [
    "users[users.user_id.isin(dups)].sort_values(['user_id', 'registered']).tail(10)"
   ]
  },
  {
   "cell_type": "markdown",
   "id": "1c729d6a-5f3c-4bed-8aeb-c9d83b22fa23",
   "metadata": {},
   "source": [
    "Remove duplicates by keeping the last row (most recent) in each group.\n"
   ]
  },
  {
   "cell_type": "code",
   "execution_count": null,
   "id": "361dbdb5-edd9-4875-88d9-08e66d193cc9",
   "metadata": {},
   "outputs": [],
   "source": [
    "users.sort_values(['user_id','registered'], inplace=True)"
   ]
  },
  {
   "cell_type": "code",
   "execution_count": null,
   "id": "16a36001-0a3e-4860-83e9-f3baa222972b",
   "metadata": {},
   "outputs": [],
   "source": [
    "x = users.groupby('user_id', as_index=False).last()\n",
    "x[x.user_id.isin(dups)]"
   ]
  },
  {
   "cell_type": "code",
   "execution_count": null,
   "id": "adf3ab9b-aec3-44bc-ac8c-0e6097d25453",
   "metadata": {},
   "outputs": [],
   "source": [
    "x.shape"
   ]
  },
  {
   "cell_type": "code",
   "execution_count": null,
   "id": "82bf0d61-c40e-4764-a1dc-3c85965b4bf2",
   "metadata": {},
   "outputs": [],
   "source": [
    "users = x"
   ]
  },
  {
   "cell_type": "code",
   "execution_count": null,
   "id": "1161e1bf-b992-4dfb-9340-43ac23215f82",
   "metadata": {
    "scrolled": true
   },
   "outputs": [],
   "source": [
    "# how many Bots?\n",
    "print(users.is_bot.sum())"
   ]
  },
  {
   "cell_type": "code",
   "execution_count": null,
   "id": "8b9af708-9800-44d8-a2cd-35bcfff83ed2",
   "metadata": {},
   "outputs": [],
   "source": [
    "users.query(\"is_bot\")"
   ]
  },
  {
   "cell_type": "markdown",
   "id": "3632a57f-c338-425a-b7b1-896689e7a049",
   "metadata": {},
   "source": [
    "Impute `user_id`  \n",
    "Real user_id starts with captial 'U'"
   ]
  },
  {
   "cell_type": "code",
   "execution_count": null,
   "id": "23621290-db28-480d-b46e-2fa15601f689",
   "metadata": {},
   "outputs": [],
   "source": [
    "i = users.user_id.str.lower().str.startswith('u')\n",
    "users[i].shape\n",
    "users.loc[i, 'user_id'] = users[i]['user_id'].str.capitalize()"
   ]
  },
  {
   "cell_type": "code",
   "execution_count": null,
   "id": "c5778a45-cdc1-4a31-8800-212840739105",
   "metadata": {},
   "outputs": [],
   "source": [
    "cohorts = users.groupby(users.registered.dt.year).size()\n",
    "cohorts.name = 'n_new_user'\n",
    "_ = cohorts.plot.bar(rot=0, xlabel='cohort year', ylabel='newly registered users')"
   ]
  },
  {
   "cell_type": "markdown",
   "id": "69a8f63f-6646-4a84-b03a-b2d0d82dcb65",
   "metadata": {},
   "source": [
    "## Cashflow"
   ]
  },
  {
   "cell_type": "code",
   "execution_count": null,
   "id": "17065480-dce6-47cd-85e0-089afe8cabc1",
   "metadata": {},
   "outputs": [],
   "source": [
    "# acc_cashflow dataset\n",
    "# check number of records (expense and income entries) each month\n",
    "\n",
    "cashflow = pd.read_feather('../data/cashflow.feather')\n",
    "\n",
    "df = cashflow \\\n",
    "    .groupby(cashflow.ts.dt.to_period('M')) \\\n",
    "    .agg(total = ('ts','size'),\n",
    "         nbr_expense_entry = ('is_expense', 'sum'),\n",
    "         nbr_group_entry = ('is_group', 'sum')\n",
    "        )\n",
    "_ = df.plot.line(y=['total', 'nbr_expense_entry', 'nbr_group_entry'], xlabel='')\n",
    "print(df.describe())"
   ]
  },
  {
   "cell_type": "code",
   "execution_count": null,
   "id": "fa2c47f2-20f9-4556-a6c9-9c7e50a29bb8",
   "metadata": {},
   "outputs": [],
   "source": [
    "print(df[df.total > df.total.quantile(.51)])"
   ]
  },
  {
   "cell_type": "code",
   "execution_count": null,
   "id": "d812680d-07bc-409c-8024-a2e7108782dc",
   "metadata": {},
   "outputs": [],
   "source": []
  },
  {
   "cell_type": "markdown",
   "id": "36acefb3-0337-430a-a430-3aeb8f28abcd",
   "metadata": {},
   "source": [
    "__*Observation:*__\n",
    "- errorenous timestamps\n",
    "- personal entries makes up significally larger portions of records; I had expected more entries. \n",
    "- expenses makes up larger portion of the records; this aligns with the norm for personal finance dataset."
   ]
  },
  {
   "cell_type": "code",
   "execution_count": null,
   "id": "3ffe8430-fa40-4cfa-a089-ffd1a36b548a",
   "metadata": {},
   "outputs": [],
   "source": [
    "# select date range\n",
    "# between '2018-06-01' AND '2025-02-01'\n",
    "# to exclude erroneous rows\n",
    "\n",
    "tsl = pd.to_datetime(['2018-06-01', '2025-02-01'])\n",
    "cashflow = cashflow.query(\"@tsl[0] <= ts < @tsl[1]\").copy()\n",
    "cashflow.info()"
   ]
  },
  {
   "cell_type": "markdown",
   "id": "e0227847-dd58-427d-be1b-98a356f51adf",
   "metadata": {},
   "source": [
    "_**n.b.,**_ __amt__ is float64. _I expect this to be whole number._"
   ]
  },
  {
   "cell_type": "code",
   "execution_count": null,
   "id": "7139182e-fd3e-4d27-b77a-e39795b32312",
   "metadata": {},
   "outputs": [],
   "source": [
    "cashflow.isna().sum()"
   ]
  },
  {
   "cell_type": "code",
   "execution_count": null,
   "id": "cb8bbce2-78f2-4b14-abac-f864419069aa",
   "metadata": {},
   "outputs": [],
   "source": [
    "print(cashflow.group_id.count() / cashflow.shape[0])"
   ]
  },
  {
   "cell_type": "markdown",
   "id": "27b6fe21-f1df-4acf-b2c7-5a5164e3b06c",
   "metadata": {},
   "source": [
    "_**Observation:**_ group entries make up about 15% of the records."
   ]
  },
  {
   "cell_type": "markdown",
   "id": "d145f046-2b86-427a-a24c-2f7b3e16fbbf",
   "metadata": {},
   "source": [
    "_**Question:**_ Should factional amounts be rounded up?"
   ]
  },
  {
   "cell_type": "code",
   "execution_count": null,
   "id": "b7234f5b-808e-4358-b715-a796388e69eb",
   "metadata": {},
   "outputs": [],
   "source": [
    "# should amt be whole number?\n",
    "bad = cashflow.query(\"amt % 1 != 0\")\n",
    "bad.groupby('is_expense')['amt'].describe()"
   ]
  },
  {
   "cell_type": "code",
   "execution_count": null,
   "id": "68210558-49f9-4f32-a51b-39951f80244f",
   "metadata": {},
   "outputs": [],
   "source": [
    "bad['category'].unique()"
   ]
  },
  {
   "cell_type": "code",
   "execution_count": null,
   "id": "2aebef77-2100-4b61-b7ca-0d9c2f2746c7",
   "metadata": {},
   "outputs": [],
   "source": [
    "bad['note'].unique()"
   ]
  },
  {
   "cell_type": "code",
   "execution_count": null,
   "id": "30a87b2c-2f64-48f1-9e81-ee871d86e36b",
   "metadata": {},
   "outputs": [],
   "source": [
    "# impute fractional amounts by rounding up if amt > 0 and down if amt < 0\n",
    "\n",
    "cashflow['amt'] = cashflow['amt'].round().astype('Int64')"
   ]
  },
  {
   "cell_type": "code",
   "execution_count": null,
   "id": "0f18fdf1-7920-4a80-b08a-c8cbbd5e1737",
   "metadata": {},
   "outputs": [],
   "source": [
    "cashflow.info()"
   ]
  },
  {
   "cell_type": "code",
   "execution_count": null,
   "id": "2632b1bf-5c27-4dd5-ab9f-247845123d7a",
   "metadata": {},
   "outputs": [],
   "source": [
    "# Should amount equals 0 be excluded?\n",
    "\n",
    "cashflow[cashflow.amt == 0].count()"
   ]
  },
  {
   "cell_type": "code",
   "execution_count": null,
   "id": "aa129a34-aef3-4b2d-a897-b8591cb9ccf8",
   "metadata": {
    "scrolled": true
   },
   "outputs": [],
   "source": [
    "# check number of active users in each month, i.e. period\n",
    "\n",
    "cashflow['yyyy_mm'] = cashflow['ts'].dt.to_period('M')\n",
    "cashflow['yyyy'] = cashflow['ts'].dt.year\n",
    "cashflow['mm'] = cashflow['ts'].dt.month\n",
    "\n",
    "#cashflow.groupby(['yyyy', 'mm']).agg({'user_id':'nunique'}).unstack(level=1)"
   ]
  },
  {
   "cell_type": "code",
   "execution_count": null,
   "id": "1311daea-bdeb-44e7-8834-4e49248523c2",
   "metadata": {},
   "outputs": [],
   "source": [
    "_ = cashflow.groupby('yyyy_mm').agg({'user_id':'nunique'}) \\\n",
    "    .plot(y='user_id', kind='line', figsize=(12, 6), title=\"Number of Active Users Each Month\")"
   ]
  },
  {
   "cell_type": "markdown",
   "id": "882b213b-7347-4029-a950-03bd7a8bc91e",
   "metadata": {},
   "source": [
    "__*Observation:*__ number of active users gradually declined but not obvious"
   ]
  },
  {
   "cell_type": "code",
   "execution_count": null,
   "id": "78d30df7-410e-4ff3-9764-256a14828190",
   "metadata": {},
   "outputs": [],
   "source": [
    "cashflow.describe()"
   ]
  },
  {
   "cell_type": "markdown",
   "id": "3b361b6f-3482-4d22-ac4f-e5c22600f389",
   "metadata": {},
   "source": [
    "Impute `group_id` is blank but not `None`"
   ]
  },
  {
   "cell_type": "code",
   "execution_count": null,
   "id": "79fec616-47aa-476f-93c3-3e9e49d5a746",
   "metadata": {},
   "outputs": [],
   "source": [
    "bad = cashflow.group_id.str.strip().str.len() == 0  # group_id missing\n",
    "bad.value_counts()"
   ]
  },
  {
   "cell_type": "code",
   "execution_count": null,
   "id": "ea725e50-facb-47d7-9cf3-8b48f3242708",
   "metadata": {},
   "outputs": [],
   "source": [
    "cashflow.loc[bad, 'user_id'].nunique()"
   ]
  },
  {
   "cell_type": "code",
   "execution_count": null,
   "id": "687bde05-d185-4efd-ad1c-08afdaea372b",
   "metadata": {},
   "outputs": [],
   "source": [
    "# impute\n",
    "cashflow.loc[bad, ['group_id', 'is_group']] = [None, False]"
   ]
  },
  {
   "cell_type": "markdown",
   "id": "f46de7bd-c180-493f-a567-74d72a4b5642",
   "metadata": {},
   "source": [
    "Erroneous `user_id`\n",
    "Valid `user_id` must start with captial U"
   ]
  },
  {
   "cell_type": "code",
   "execution_count": null,
   "id": "d57b824c-a9e0-4853-9047-9b5ecc35f09d",
   "metadata": {},
   "outputs": [],
   "source": [
    "cashflow['isBad'] = ~cashflow.user_id.str.lower().str.startswith('u')"
   ]
  },
  {
   "cell_type": "code",
   "execution_count": null,
   "id": "abf2cdf8-8c9b-4df1-b5af-936139c22de5",
   "metadata": {},
   "outputs": [],
   "source": [
    "cashflow.groupby('isBad').size()"
   ]
  },
  {
   "cell_type": "code",
   "execution_count": null,
   "id": "2cce88a9-99b2-4e8d-860f-19b996b686eb",
   "metadata": {
    "scrolled": true
   },
   "outputs": [],
   "source": [
    "cashflow[bad].describe()"
   ]
  },
  {
   "cell_type": "markdown",
   "id": "71856f25-391e-48a5-a851-7b1a019e9de5",
   "metadata": {},
   "source": [
    "Impute valid `user_id`  \n",
    "Make sure they start with capital U"
   ]
  },
  {
   "cell_type": "code",
   "execution_count": null,
   "id": "81dd7534-6a43-421c-909f-18e076a87d3f",
   "metadata": {},
   "outputs": [],
   "source": [
    "cashflow.loc[~cashflow.isBad, 'user_id'] = cashflow[~cashflow.isBad]['user_id'].str.capitalize()"
   ]
  },
  {
   "cell_type": "markdown",
   "id": "bcbf7d4e-82f6-43e3-aebe-66b09d5e4ddc",
   "metadata": {},
   "source": [
    "# Tidy Dataset\n",
    "\n",
    "Let the final tidy dataset be `td`. Proceed with the data preparation as follow:"
   ]
  },
  {
   "cell_type": "markdown",
   "id": "ab4db14d-4d11-4b40-bdd7-8288299b4c49",
   "metadata": {},
   "source": [
    "## Tenure\n",
    "\n",
    "Tenure here is defined as to begin when user submit first entry,\n",
    "and does not consider when user first followe dor added LINE OA\n",
    "(offical account)"
   ]
  },
  {
   "cell_type": "code",
   "execution_count": null,
   "id": "e2629762-5e73-4f57-90d6-b2abcc225e03",
   "metadata": {
    "editable": true,
    "slideshow": {
     "slide_type": ""
    },
    "tags": []
   },
   "outputs": [],
   "source": [
    "# user tenure, income and expense entry stats,\n",
    "# including group entries\n",
    "# excluding amount = 0\n",
    "\n",
    "tenure = cashflow[(cashflow.amt != 0) & ~cashflow.isBad] \\\n",
    "    .groupby('user_id') \\\n",
    "    .agg(user_tenure = ('ts', lambda x: x.max() - x.min()),\n",
    "         first_entry = ('ts', 'min'),\n",
    "         last_entry = ('ts', 'max'),\n",
    "         nbr_entry = ('user_id', 'count'),\n",
    "         total_exp = ('amt', lambda x: x[x < 0].sum()),\n",
    "         nbr_exp = ('amt', lambda x: x[x < 0].count()),\n",
    "         total_inc = ('amt', lambda x: x[x > 0].sum()),\n",
    "         nbr_inc = ('amt', lambda x: x[x > 0].count())\n",
    "        )\n",
    "tenure.info()"
   ]
  },
  {
   "cell_type": "code",
   "execution_count": null,
   "id": "6ebbfcbf-a0d3-41bd-9ddb-d5e7c4bd741e",
   "metadata": {},
   "outputs": [],
   "source": [
    "tenure.describe()"
   ]
  },
  {
   "cell_type": "markdown",
   "id": "93860803-f8b5-496b-b581-2a9bd716b6d3",
   "metadata": {},
   "source": [
    "_**Initial observation:**_ Of the 397,208 users, 75% of which had **not** logged entries in the last 46~50 days "
   ]
  },
  {
   "cell_type": "code",
   "execution_count": null,
   "id": "81729183-af36-4ee0-95ee-5a495534e9a0",
   "metadata": {},
   "outputs": [],
   "source": [
    "# WIP category count\n",
    "td_cat = cashflow[~cashflow.isBad].groupby(['user_id', 'is_expense'])['category_id'].nunique().unstack(level=1, fill_value=0)\n",
    "td_cat.describe()"
   ]
  },
  {
   "cell_type": "markdown",
   "id": "787b9a66-f74e-4c75-b702-b4d2d52037ce",
   "metadata": {},
   "source": [
    "_**Initial observation:**_ Is it true that entries are not well categorized by the bottom 75% of users?"
   ]
  },
  {
   "cell_type": "markdown",
   "id": "e745e6af-298f-4e75-98eb-90fb71ad3355",
   "metadata": {},
   "source": [
    "## Group Bookkeeping"
   ]
  },
  {
   "cell_type": "code",
   "execution_count": null,
   "id": "9b95ee47-6071-4921-9409-762c33915088",
   "metadata": {},
   "outputs": [],
   "source": [
    "# user group expense and income entry stat per user\n",
    "# add count of categories\n",
    "\n",
    "td_grp = cashflow[(cashflow.amt != 0) & cashflow.is_group & ~cashflow.isBad] \\\n",
    "    .groupby('user_id') \\\n",
    "    .agg(n_grp = ('group_id', 'nunique'),\n",
    "         first_grp_entry = ('ts', 'min'),\n",
    "         last_grp_entry = ('ts', 'max'),\n",
    "         grp_exp = ('amt', lambda x: x[x < 0].sum()),\n",
    "         nbr_grp_exp = ('amt', lambda x: x[x < 0].count()),\n",
    "         grp_inc = ('amt', lambda x: x[x > 0].sum()),\n",
    "         nbr_grp_inc = ('amt', lambda x: x[x > 0].count())\n",
    "        )\n",
    "td_grp.info()"
   ]
  },
  {
   "cell_type": "code",
   "execution_count": null,
   "id": "e6d112ab-4d0b-436d-9e66-19ae2ebb0697",
   "metadata": {},
   "outputs": [],
   "source": [
    "td_grp.describe()"
   ]
  },
  {
   "cell_type": "markdown",
   "id": "9455f8f5-c959-4552-a670-f9e7d457c4b5",
   "metadata": {},
   "source": [
    "## Co-bookkeepers\n",
    "\n",
    "self-joined group_id:user_id from _cashflow_ to compute\n",
    "number of distinct users interacted within groups"
   ]
  },
  {
   "cell_type": "code",
   "execution_count": null,
   "id": "b2a543ca-46b5-4381-a07e-9d39bf0b3cbf",
   "metadata": {},
   "outputs": [],
   "source": [
    "# unique group_id:user_id linkage \n",
    "grp = cashflow.loc[(cashflow.amt != 0) & (cashflow.group_id.notnull()) & ~cashflow.isBad,\n",
    "                 ['group_id', 'user_id']].drop_duplicates()\n",
    "grp.info()"
   ]
  },
  {
   "cell_type": "code",
   "execution_count": null,
   "id": "f944bb7a-462e-43ae-8a60-20d030e3fb1c",
   "metadata": {},
   "outputs": [],
   "source": [
    "# user's groups and their assoicated users (members),\n",
    "# i.e., user's connections with other users thru cooperative bookkeeping \n",
    "\n",
    "mbr = grp[['user_id', 'group_id']].merge(grp[['user_id', 'group_id']], on='group_id', how='left')\n",
    "mbr.columns = ['user_id', 'group_id', 'member_id']\n",
    "mbr.describe()"
   ]
  },
  {
   "cell_type": "code",
   "execution_count": null,
   "id": "05eb144a-8290-412a-a49a-7dbc89043497",
   "metadata": {},
   "outputs": [],
   "source": [
    "# count the participants at each group level for every user\n",
    "\n",
    "x = mbr.groupby(['user_id', 'group_id']) \\\n",
    "    .agg({'member_id':'nunique'}) \\\n",
    "    .reset_index(1) \\\n",
    "    .rename(columns={'member_id':'nbr_member'})\n",
    "x.describe()"
   ]
  },
  {
   "cell_type": "code",
   "execution_count": null,
   "id": "c0db9b54-ad3f-4b45-94b1-fc0fe1f4800a",
   "metadata": {},
   "outputs": [],
   "source": [
    "x.plot.hist(bins=30, alpha=0.7)"
   ]
  },
  {
   "cell_type": "markdown",
   "id": "5c32807c-7f94-44bb-ae35-2ab704d62e21",
   "metadata": {},
   "source": [
    "_**Observation:**_ Groups with only one participant should be excluded in the stat summary."
   ]
  },
  {
   "cell_type": "code",
   "execution_count": null,
   "id": "9474d0e7-43b8-4575-a0e4-0a76c898ea25",
   "metadata": {},
   "outputs": [],
   "source": [
    "# for every user, count the unique users across _all_ associated groups\n",
    "\n",
    "cnx = mbr.groupby('user_id').agg({'group_id': 'nunique', 'member_id':'nunique'})\n",
    "cnx.columns = ['n_grp', 'nbr_connection']\n",
    "cnx['nbr_connection'] = cnx['nbr_connection'] - 1 # remove user itself from count\n",
    "cnx.hist(bins=40, grid=False, alpha=.7)"
   ]
  },
  {
   "cell_type": "markdown",
   "id": "93303b48-0e30-45f4-a2d6-4790bfb25b44",
   "metadata": {},
   "source": [
    "## Merge and Impute"
   ]
  },
  {
   "cell_type": "code",
   "execution_count": null,
   "id": "7ab13ce0-597a-4960-9ceb-cfca3142ec3a",
   "metadata": {},
   "outputs": [],
   "source": [
    "td = users.merge(tenure, on='user_id', how='right') \\\n",
    "    .merge(cnx['nbr_connection'], on='user_id', how='left') \\\n",
    "    .merge(td_grp, on='user_id', how='left') \\\n",
    "    .convert_dtypes()\n",
    "td.info()"
   ]
  },
  {
   "cell_type": "code",
   "execution_count": null,
   "id": "f85777cc-9445-4b01-86c4-e849e4fece43",
   "metadata": {},
   "outputs": [],
   "source": [
    "values = {'is_bot':False, 'is_agree':False,\n",
    "          'nbr_connection':0, 'n_grp':0,\n",
    "          'grp_exp':0, 'nbr_grp_exp':0,\n",
    "          'grp_inc':0, 'nbr_grp_inc':0}\n",
    "td.fillna(value=values, inplace=True)"
   ]
  },
  {
   "cell_type": "code",
   "execution_count": null,
   "id": "699c11d0-cf14-4404-9acb-2124893d14f3",
   "metadata": {},
   "outputs": [],
   "source": [
    "td.describe()"
   ]
  },
  {
   "cell_type": "code",
   "execution_count": null,
   "id": "395ad474-70a2-484b-8a5b-502ac79a50cd",
   "metadata": {},
   "outputs": [],
   "source": [
    "td.info()"
   ]
  },
  {
   "cell_type": "code",
   "execution_count": null,
   "id": "831c02e8-e2c1-420e-9a64-9511248900bd",
   "metadata": {
    "editable": true,
    "slideshow": {
     "slide_type": ""
    },
    "tags": [
     "raises-exception"
    ]
   },
   "outputs": [],
   "source": [
    "# raise exception if file already exists but allow the run to proceed\n",
    "td.to_csv('../reports/tidy.csv', mode='x')"
   ]
  },
  {
   "cell_type": "markdown",
   "id": "7450e3c3-c810-412e-a7ee-1aa12c3382d0",
   "metadata": {},
   "source": [
    "# EDA"
   ]
  },
  {
   "cell_type": "code",
   "execution_count": null,
   "id": "09ff8325-7f66-4711-8d25-7b620bdc0061",
   "metadata": {},
   "outputs": [],
   "source": [
    "td[td.is_bot]"
   ]
  },
  {
   "cell_type": "markdown",
   "id": "9e88e93e-9f26-40c9-9c24-7e682301be7a",
   "metadata": {},
   "source": [
    "_**Observation:**_ Nothing too interesting to note"
   ]
  },
  {
   "cell_type": "code",
   "execution_count": null,
   "id": "94b6a0b0-6d75-4e5f-8081-e380de2a5ed2",
   "metadata": {},
   "outputs": [],
   "source": [
    "# dropping Bots from future analysis steps\n",
    "td.drop(td[td.is_bot].index, axis=0, inplace=True)"
   ]
  },
  {
   "cell_type": "markdown",
   "id": "3581d92d-5732-4fdb-b2ff-602c53ac4dff",
   "metadata": {
    "editable": true,
    "slideshow": {
     "slide_type": ""
    },
    "tags": []
   },
   "source": [
    "## Frequency of Logging Financial Transactions\n",
    "\n",
    "What is the typical frequency?  "
   ]
  },
  {
   "cell_type": "code",
   "execution_count": null,
   "id": "a2bfd53b-4efa-49c8-9b2f-dd1465288a1b",
   "metadata": {},
   "outputs": [],
   "source": [
    "# set datetime index in order to resample frequency of event\n",
    "cashflow.set_index('ts', inplace=True)"
   ]
  },
  {
   "cell_type": "code",
   "execution_count": null,
   "id": "e3966b01-4be4-4719-8b58-f606ef5bfcf5",
   "metadata": {},
   "outputs": [],
   "source": [
    "weekly_counts = cashflow.groupby(['user_id', pd.Grouper(freq='W')])['user_id'].count()"
   ]
  },
  {
   "cell_type": "code",
   "execution_count": null,
   "id": "fc96b590-afce-497f-8c56-0a7e7a7f8816",
   "metadata": {},
   "outputs": [],
   "source": [
    "fq = weekly_counts.groupby('user_id').agg({'count', 'median', 'mean'})\n",
    "fq.columns = ['nbr_wks', 'fq_median', 'fq_mean']"
   ]
  },
  {
   "cell_type": "code",
   "execution_count": null,
   "id": "0947d899-bf81-48bb-b2e0-a8b884792fa9",
   "metadata": {},
   "outputs": [],
   "source": [
    "fq.describe(percentiles=[.25, .5, .6, .7, .75, .8, .9, .95, .99])"
   ]
  },
  {
   "cell_type": "code",
   "execution_count": null,
   "id": "cc7007f6-8c93-49c2-9373-125548a824b2",
   "metadata": {},
   "outputs": [],
   "source": []
  },
  {
   "cell_type": "code",
   "execution_count": null,
   "id": "35e8bec2-27f6-4e54-b7ba-7cb404d49a29",
   "metadata": {},
   "outputs": [],
   "source": [
    "# however if we just want to know how frequent users records their personal finance,\n",
    "# it is not important to separate income from expense entries\n",
    "\n",
    "cashflow.reset_index(inplace=True)\n",
    "y_sorted = cashflow.sort_values(['user_id', 'ts'])\n",
    "y_sorted['days_elapsed'] = y_sorted.groupby('user_id')['ts'].diff()"
   ]
  },
  {
   "cell_type": "code",
   "execution_count": null,
   "id": "b52cd382-4ca6-4f4f-9bca-ec5595a666c6",
   "metadata": {},
   "outputs": [],
   "source": [
    "y_sorted[['user_id', 'ts', 'days_elapsed']].tail(30)"
   ]
  },
  {
   "cell_type": "code",
   "execution_count": null,
   "id": "d80edd79-0ddf-4a8c-a924-418a62a2164a",
   "metadata": {},
   "outputs": [],
   "source": [
    "# lapsed = y_sorted.groupby('user_id').agg({'days_elapsed':['median', 'mean', 'max']})\n",
    "# n.b. a known bug with median, use quantile(0.5) workaround\n",
    "lapsed = y_sorted.groupby('user_id').agg({'days_elapsed':[lambda x: x.quantile(0.5), 'mean', 'max']})\n",
    "lapsed.describe()"
   ]
  },
  {
   "cell_type": "code",
   "execution_count": null,
   "id": "070fe526-4620-443a-a060-915f10f0b0b4",
   "metadata": {},
   "outputs": [],
   "source": [
    "fq"
   ]
  },
  {
   "cell_type": "markdown",
   "id": "dbf1f1b0-b9ee-4c29-9f84-890ae1ce2d8b",
   "metadata": {},
   "source": [
    "### WIP"
   ]
  },
  {
   "cell_type": "code",
   "execution_count": null,
   "id": "e446dae1-3092-4bea-8ebe-46585d293bd0",
   "metadata": {},
   "outputs": [],
   "source": [
    "# \n",
    "x_sorted = cashflow.sort_values(['user_id', 'is_expense', 'ts'])\n",
    "x_sorted['days_elapsed'] = x_sorted.groupby(['user_id', 'is_expense'])['ts'].diff()"
   ]
  },
  {
   "cell_type": "code",
   "execution_count": null,
   "id": "f2902f0d-b332-42cf-bdb8-77c871d219a8",
   "metadata": {
    "scrolled": true
   },
   "outputs": [],
   "source": [
    "x_sorted[['user_id', 'is_expense', 'ts', 'days_elapsed']].tail(30)"
   ]
  },
  {
   "cell_type": "code",
   "execution_count": null,
   "id": "98d3abf5-6604-4d4d-b088-d3717b27b2b8",
   "metadata": {},
   "outputs": [],
   "source": [
    "fq_ = x_sorted.groupby(['user_id', 'is_expense']).agg({'days_elapsed':[lambda x: x.quantile(0.5), 'mean', 'max']})"
   ]
  },
  {
   "cell_type": "code",
   "execution_count": null,
   "id": "61d784ca-6758-4e68-9271-8cbad515399a",
   "metadata": {},
   "outputs": [],
   "source": [
    "fq_.query(\"is_expense\").describe()"
   ]
  },
  {
   "cell_type": "code",
   "execution_count": null,
   "id": "73b281bc-ec27-4069-805b-4b12c4fc3d96",
   "metadata": {},
   "outputs": [],
   "source": [
    "#fq =\n",
    "fq_.groupby(['is_expense']).agg(['min', 'median', 'mean', 'max'])\n",
    "# fq"
   ]
  },
  {
   "cell_type": "code",
   "execution_count": null,
   "id": "a6237b27-45fc-4824-a27d-4978e3da5b46",
   "metadata": {},
   "outputs": [],
   "source": [
    "td[td.user_id=='Uffffed94576a41cb306b899c40719ed9']"
   ]
  },
  {
   "cell_type": "code",
   "execution_count": null,
   "id": "3740e236-f83d-45eb-bc00-8d257b74996a",
   "metadata": {
    "scrolled": true
   },
   "outputs": [],
   "source": [
    "fq_.xs('Uffffed94576a41cb306b899c40719ed9', level='user_id')"
   ]
  },
  {
   "cell_type": "code",
   "execution_count": null,
   "id": "871c7430-099f-4858-87e0-185dfa6fe8d9",
   "metadata": {},
   "outputs": [],
   "source": [
    "fq_.xs(False, level='is_expense').agg(['min','mean','median'])\n",
    "# fq.index"
   ]
  },
  {
   "cell_type": "markdown",
   "id": "d2dca8f9-54a5-49bc-a7cd-956a374498f4",
   "metadata": {},
   "source": [
    "## WIP: Group of One\n",
    "\n",
    "What are the patterns of this cluster of users\n",
    "who tracks income or expenses using one or more groups\n",
    "with no other members in the group?"
   ]
  },
  {
   "cell_type": "code",
   "execution_count": null,
   "id": "fe01c3cd-ab41-477c-87c5-95bf449fb49e",
   "metadata": {},
   "outputs": [],
   "source": []
  },
  {
   "cell_type": "code",
   "execution_count": null,
   "id": "ee80d362-8dc1-43c7-a8f2-0ac4c1dbe149",
   "metadata": {},
   "outputs": [],
   "source": [
    "x = mbr.groupby('group_id').agg(n_member=('member_id', 'nunique'))\n",
    "y = x.query('n_member == 1')\n",
    "grp_lst = [i for i in y.index]\n",
    "grp_one = cashflow[(cashflow.amt != 0) & (cashflow.group_id.isin(grp_lst)) & ~cashflow.isBad] \\\n",
    "    .groupby('group_id') \\\n",
    "    .agg(first_entry=('ts', 'min'), last_entry=('ts', 'max'),\n",
    "         nbr_entry=('amt', 'count'),\n",
    "         grp_exp = ('amt', lambda x: x[x < 0].sum()),\n",
    "         nbr_grp_exp = ('amt', lambda x: x[x < 0].count()),\n",
    "         grp_inc = ('amt', lambda x: x[x > 0].sum()),\n",
    "         nbr_grp_inc = ('amt', lambda x: x[x > 0].count())\n",
    "        )\n",
    "\n",
    "grp_one.describe()"
   ]
  },
  {
   "cell_type": "code",
   "execution_count": null,
   "id": "c01aac56-16b1-4626-9aa3-ae7373f8375f",
   "metadata": {},
   "outputs": [],
   "source": [
    "len(grp_lst) / x.shape[0]\n",
    "# x.shape[0]"
   ]
  },
  {
   "cell_type": "markdown",
   "id": "de0a600f-d5c3-4ff7-a879-13586608b0c8",
   "metadata": {},
   "source": [
    "## Survival Analysis\n",
    "churn event: user blocked/unfollowed\n",
    "\n",
    "`churned`: `is_agree` is `True` and `registerd` (a.k.a. user_ts) < `last_entry`\n",
    "\n",
    "right censored: same as`churned` is `False`"
   ]
  },
  {
   "cell_type": "code",
   "execution_count": null,
   "id": "afb8a510-1625-4ab8-9cce-248ff3d9f7d1",
   "metadata": {},
   "outputs": [],
   "source": [
    "# time elapsed since the last transaction entry until the\n",
    "# observation cut off period tsl[0]\n",
    "td['days_since'] = tsl[1] - td.last_entry"
   ]
  },
  {
   "cell_type": "code",
   "execution_count": null,
   "id": "87d2024a-ceee-4f47-b72e-7971c975afed",
   "metadata": {},
   "outputs": [],
   "source": [
    "td.query(\"registered.isna()\")"
   ]
  },
  {
   "cell_type": "markdown",
   "id": "c7484fb2-a148-4dd0-8e62-78a0bba1952c",
   "metadata": {},
   "source": [
    "calculate survival time"
   ]
  },
  {
   "cell_type": "code",
   "execution_count": null,
   "id": "281f6ff2-bb9b-4d48-9873-ebd0d115c81c",
   "metadata": {},
   "outputs": [],
   "source": [
    "# Is left censoring necessary? No.\n",
    "(td.registered < tsl[0]).sum()"
   ]
  },
  {
   "cell_type": "code",
   "execution_count": null,
   "id": "89b9c5a6-1ad5-4550-bf31-b767f0bba621",
   "metadata": {},
   "outputs": [],
   "source": [
    "# calculate start time\n",
    "td['t0'] = td[['registered', 'first_entry']].min(axis=1)"
   ]
  },
  {
   "cell_type": "code",
   "execution_count": null,
   "id": "b257b340-5279-4eeb-b4ed-562d01b49089",
   "metadata": {},
   "outputs": [],
   "source": [
    "# calculate end time and survival_time\n",
    "\n",
    "td['t1'] = tsl[1]\n",
    "td.loc[~td.is_agree, 't1'] = td.loc[~td.is_agree, ['registered', 'last_entry']].max(axis=1, skipna=True)\n",
    "td['survival_time'] = td.t1 - td.t0"
   ]
  },
  {
   "cell_type": "code",
   "execution_count": null,
   "id": "3ab54878-e615-485c-9649-61654b70c2ae",
   "metadata": {
    "scrolled": true
   },
   "outputs": [],
   "source": [
    "td[~td.is_agree & (td.t1 < tsl[1])]"
   ]
  },
  {
   "cell_type": "code",
   "execution_count": null,
   "id": "44388019-0afa-4236-b756-29a0ce5d79ba",
   "metadata": {},
   "outputs": [],
   "source": [
    "td[(~td.is_agree) & (td.registered < td.last_entry)]"
   ]
  },
  {
   "cell_type": "code",
   "execution_count": null,
   "id": "c76591fa-12ee-40ef-a0f3-32a4319c8013",
   "metadata": {
    "scrolled": true
   },
   "outputs": [],
   "source": [
    "# churn\n",
    "td['churned'] = ~td.is_agree & (td.registered > td.last_entry)\n",
    "\n",
    "# is_agree not set and churned flag not set\n",
    "td.loc[~td.is_agree & ~td.churned,\n",
    "       ['registered', 'last_entry', 'user_tenure',\n",
    "        'days_since', 'survival_time', 't1', 't0',\n",
    "        'churned', 'user_id']]"
   ]
  },
  {
   "cell_type": "code",
   "execution_count": null,
   "id": "e94911c1-eb59-4226-8e85-b1df564e50cc",
   "metadata": {},
   "outputs": [],
   "source": [
    "td[['last_entry', 'user_tenure', 'days_since', 'survival_time', ]].describe()"
   ]
  },
  {
   "cell_type": "markdown",
   "id": "72929a4c-60ff-4ef6-918c-3bf2dd87cb62",
   "metadata": {},
   "source": [
    "_**Oberservations:**_\n",
    "- 50% of users churned after 7 days, 75% churned after 139 days (or ~4.6 months)\n",
    "- 75% of users had not made any entries for >1146 days\n",
    "- top quartile (best or most active users) had made at least one entries since 2021-12-12 (or 48~50 days)"
   ]
  },
  {
   "cell_type": "code",
   "execution_count": null,
   "id": "f2ab05a7-0838-4712-b60c-756e34874b96",
   "metadata": {},
   "outputs": [],
   "source": [
    "# what do you observe from the top quartile...\n",
    "\n",
    "t0 = td.days_since.quantile(.25) # 1146 days since last entry\n",
    "print('days_since =', t0.days)\n",
    "(td.loc[td.days_since < t0, ['days_since', 'user_tenure', 'nbr_entry', 'last_entry']].describe())"
   ]
  },
  {
   "cell_type": "markdown",
   "id": "86e4231f-d6a5-4488-938e-e28c9046fea8",
   "metadata": {},
   "source": [
    "## Segmentation by `days_since` and Tenure\n",
    "- `days_since` is the number of days since the user has made the last entry\n",
    "- Tenure is the number of days between the users first and last date of expense or income entry"
   ]
  },
  {
   "cell_type": "code",
   "execution_count": null,
   "id": "77f5aa6d-e67f-4ec3-902f-1ff52c0723ae",
   "metadata": {},
   "outputs": [],
   "source": [
    "td.isna().sum()"
   ]
  },
  {
   "cell_type": "code",
   "execution_count": null,
   "id": "b84cafa9-77d7-450f-bb0f-e3b5db645a64",
   "metadata": {},
   "outputs": [],
   "source": [
    "td[td.is_bot.isna()]"
   ]
  },
  {
   "cell_type": "code",
   "execution_count": null,
   "id": "1dea75b1-f597-447c-8b1e-5ad3723fc19d",
   "metadata": {},
   "outputs": [],
   "source": [
    "td[td.user_id == 'U000046b3786c997220a07872c5191c37']"
   ]
  },
  {
   "cell_type": "code",
   "execution_count": null,
   "id": "b125c53a-e0a2-4f12-b325-f6bf07338e15",
   "metadata": {},
   "outputs": [],
   "source": [
    "[(x.left.round('D').days, x.right.days) for x in pd.qcut(td.days_since, q=10).unique().sort_values()]"
   ]
  },
  {
   "cell_type": "code",
   "execution_count": null,
   "id": "ff602b71-7b45-4826-9886-9f6bece21ba7",
   "metadata": {},
   "outputs": [],
   "source": [
    "fq.xs('U000046b3786c997220a07872c5191c37')"
   ]
  },
  {
   "cell_type": "code",
   "execution_count": null,
   "id": "e2cde83b-3be9-429a-aaf9-fdc38f297dbe",
   "metadata": {},
   "outputs": [],
   "source": [
    "[(round(x.left), round(x.right)) for x in pd.qcut(td.user_tenure.dt.days, q=10, duplicates='drop').unique().sort_values()]\n",
    "# td.info()"
   ]
  },
  {
   "cell_type": "code",
   "execution_count": null,
   "id": "6a224e1a-dc75-4953-be28-81e82ebf1c7b",
   "metadata": {},
   "outputs": [],
   "source": [
    "df = td.loc[(td.days_since < td.days_since.quantile(.25)) &\n",
    "            (td.user_tenure > td.user_tenure.quantile(.5)),\n",
    "            ['user_id', 'days_since', 'user_tenure']].copy()\n",
    "df.describe()"
   ]
  },
  {
   "cell_type": "code",
   "execution_count": null,
   "id": "6a730a24-8765-46a3-a62b-5d001cd31a3d",
   "metadata": {},
   "outputs": [],
   "source": [
    "df['days_since_decile'] = pd.qcut(df.days_since.dt.days, q=10)\n",
    "df['days_since_decile'] = df['days_since_decile'].apply(lambda x: (x.right).astype('int') )  \n",
    "df['user_tenure_decile'] = pd.qcut(df.user_tenure.dt.days, q=10)\n",
    "df['user_tenure_decile'] = df['user_tenure_decile'].apply(lambda x: round(x.right)) "
   ]
  },
  {
   "cell_type": "code",
   "execution_count": null,
   "id": "8fcaab0f-fd1c-4dc6-824d-18d6265b555b",
   "metadata": {},
   "outputs": [],
   "source": [
    "df.describe(percentiles=[.1, .2, .3, .4, .5, .6, .7, .8, .9])"
   ]
  },
  {
   "cell_type": "code",
   "execution_count": null,
   "id": "b364274c-0018-4078-9754-a30fe0642f8c",
   "metadata": {},
   "outputs": [],
   "source": [
    "import seaborn as sns\n",
    "\n",
    "df_plot = df.groupby(['days_since_decile', 'user_tenure_decile'], observed=True).agg({'user_id':'count'}).reset_index()\n",
    "df_plot = df_plot.pivot(index='user_tenure_decile', columns='days_since_decile', values='user_id')\n",
    "\n",
    "# Set figure size globally\n",
    "sns.set_theme(rc={'figure.figsize': (12, 6)})\n",
    "\n",
    "_ = sns.heatmap(df_plot, annot=False, cmap='coolwarm')\n",
    "df_plot.describe()"
   ]
  },
  {
   "cell_type": "markdown",
   "id": "9ffaeaf5-f7e1-45fc-8c42-17956c7cb363",
   "metadata": {
    "jp-MarkdownHeadingCollapsed": true
   },
   "source": [
    "## Explore Group "
   ]
  },
  {
   "cell_type": "code",
   "execution_count": null,
   "id": "e49672b9-b21d-46cf-837d-ee65f9fe0f21",
   "metadata": {
    "scrolled": true
   },
   "outputs": [],
   "source": [
    "#number of members in each group\n",
    "nbr_mbr_grp = grp.groupby('group_id')['user_id'].nunique()\n",
    "\n",
    "nbr_mbr_grp.agg(['min', 'max', 'mean', 'median'])"
   ]
  },
  {
   "cell_type": "code",
   "execution_count": null,
   "id": "5e2c6859-a00b-4f40-9560-47166edd8585",
   "metadata": {},
   "outputs": [],
   "source": [
    "nbr_mbr_grp.quantile([.25, .5, .75, .8, .9, .95, .99])"
   ]
  },
  {
   "cell_type": "code",
   "execution_count": null,
   "id": "4e981813-e41b-4af7-a2b8-b9ba1fea4c70",
   "metadata": {},
   "outputs": [],
   "source": [
    "# is this interesting?\n",
    "\n",
    "cashflow.groupby(['user_id'])['amt'].sum().quantile([.1, .25, .5, .75, .9])"
   ]
  },
  {
   "cell_type": "markdown",
   "id": "f27a7a1d-2ea1-4b2c-b444-5316f42fcd98",
   "metadata": {},
   "source": [
    "## Expense by Category\n",
    "\n"
   ]
  },
  {
   "cell_type": "code",
   "execution_count": null,
   "id": "ce70884a-3d4a-44fa-926b-87a573a884d0",
   "metadata": {},
   "outputs": [],
   "source": [
    "# private entries\n",
    "cashflow.query(\"is_group == False & is_expense == True\").groupby('category') \\\n",
    "    .agg(n_user = ('user_id','nunique'),\n",
    "         nbr_expense = ('category', 'count'),\n",
    "         nbr_expense_per_user = ('user_id', lambda x: round(x.count() / x.nunique(), 2)),\n",
    "         avg_amt = ('amt', lambda x: -(round(x.mean())))\n",
    "        ) \\\n",
    "    .sort_values(by='nbr_expense',  ascending=False)"
   ]
  },
  {
   "cell_type": "code",
   "execution_count": null,
   "id": "9560ddd0-f180-4d73-9525-37d1728b5bd5",
   "metadata": {},
   "outputs": [],
   "source": [
    "# group entries\n",
    "cashflow.query(\"is_group == True & is_expense == True\").groupby('category') \\\n",
    "    .agg(n_user = ('user_id','nunique'),\n",
    "         nbr_expense = ('category', 'count'),\n",
    "         nbr_expense_per_user = ('user_id', lambda x: round(x.count() / x.nunique(), 2)),\n",
    "         avg_amt = ('amt', lambda x: -(round(x.mean())))\n",
    "        ) \\\n",
    "    .sort_values(by='nbr_expense',  ascending=False)"
   ]
  },
  {
   "cell_type": "markdown",
   "id": "429d5868-d255-46b6-90c6-cedfeddb8731",
   "metadata": {
    "jp-MarkdownHeadingCollapsed": true
   },
   "source": [
    "# Supplemental"
   ]
  },
  {
   "cell_type": "markdown",
   "id": "50ff137c-c8a4-476b-95cd-0066efc26632",
   "metadata": {
    "editable": true,
    "slideshow": {
     "slide_type": ""
    },
    "tags": []
   },
   "source": [
    "```sql\n",
    "-- consolidate expense and income entry to simplify analysis\n",
    "\n",
    "USE zoo;\n",
    "\n",
    "DROP TABLE IF EXISTS acc_cashflow;\n",
    "\n",
    "CREATE TABLE acc_cashflow (\n",
    "  user_id VARCHAR(100) NOT NULL,\n",
    "  date DATE NOT NULL,\n",
    "  amt DOUBLE NOT NULL,\n",
    "  is_expense BOOLEAN,\n",
    "\tis_group BOOLEAN,\n",
    "  group_id VARCHAR(100),\n",
    "  category_id INT,\n",
    "  category VARCHAR(100),\n",
    "  note VARCHAR(160)\n",
    ") COMMENT = 'consolidated expense and income entries'\n",
    ";\n",
    "\n",
    "-- insert personal expense\n",
    "INSERT INTO acc_cashflow\n",
    "SELECT\n",
    "  USER_ID user_id,\n",
    "  DATE(CREDTM) date,\n",
    "  -AMOUNT amt,\n",
    "  TRUE is_expense,\n",
    "\tFALSE is_group,\n",
    "  NULL group_id,\n",
    "  A.CATEGORY category_id,\n",
    "  B.CATEGORY category,\n",
    "  NOTE note\n",
    "FROM zoo.ACC_USER_DETAIL A\n",
    "LEFT JOIN zoo_checkchick3.ACC_CATEGORY B\n",
    "ON A.CATEGORY = B.ID\n",
    ";\n",
    "\n",
    "-- insert group expense\n",
    "INSERT INTO acc_cashflow\n",
    "SELECT\n",
    "  USER_ID user_id,\n",
    "  DATE(CREDTM) date,\n",
    "  -AMOUNT amt,\n",
    "  TRUE is_expense,\n",
    "\tTRUE is_group,\n",
    "  GROUP_ID group_id,\n",
    "  A.CATEGORY category_id,\n",
    "  B.CATEGORY category,\n",
    "  NOTE note\n",
    "FROM zoo_checkchick.ACC_GROUP_DETAIL A\n",
    "LEFT JOIN zoo_checkchick3.ACC_CATEGORY B\n",
    "ON A.CATEGORY = B.ID\n",
    ";\n",
    "\n",
    "-- insert personal income\n",
    "INSERT INTO acc_cashflow\n",
    "SELECT\n",
    "  USER_ID user_id,\n",
    "  DATE(CREDTM) date,\n",
    "  AMOUNT amt,\n",
    "  FALSE is_expense,\n",
    "\tFALSE is_group,\n",
    "  NULL group_id,\n",
    "  A.CATEGORY category_id,\n",
    "  B.CATEGORY category,\n",
    "  NOTE note\n",
    "FROM zoo_checkchick2.ACC_USER_DETAIL_INCOME A\n",
    "LEFT JOIN zoo_checkchick3.ACC_CATEGORY_INCOME B\n",
    "ON A.CATEGORY = B.ID\n",
    ";\n",
    "\n",
    "-- insert group income\n",
    "INSERT INTO acc_cashflow\n",
    "SELECT\n",
    "  USER_ID user_id,\n",
    "  DATE(CREDTM) date,\n",
    "  AMOUNT amt,\n",
    "  FALSE is_expense,\n",
    "\tTRUE is_group,\n",
    "  GROUP_ID group_id,\n",
    "  A.CATEGORY category_id,\n",
    "  B.CATEGORY category,\n",
    "  NOTE note\n",
    "FROM zoo_checkchick2.ACC_GROUP_DETAIL_INCOME A\n",
    "LEFT JOIN zoo_checkchick3.ACC_CATEGORY_INCOME B\n",
    "ON A.CATEGORY = B.ID\n",
    ";\n",
    "```"
   ]
  }
 ],
 "metadata": {
  "kernelspec": {
   "display_name": "Python [conda env:twin3]",
   "language": "python",
   "name": "conda-env-twin3-py"
  },
  "language_info": {
   "codemirror_mode": {
    "name": "ipython",
    "version": 3
   },
   "file_extension": ".py",
   "mimetype": "text/x-python",
   "name": "python",
   "nbconvert_exporter": "python",
   "pygments_lexer": "ipython3",
   "version": "3.13.2"
  }
 },
 "nbformat": 4,
 "nbformat_minor": 5
}
