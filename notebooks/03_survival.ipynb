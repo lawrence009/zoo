{
 "cells": [
  {
   "cell_type": "markdown",
   "id": "dc48b1d7-0d93-4ea9-82a4-7ce8e15b4256",
   "metadata": {
    "editable": true,
    "slideshow": {
     "slide_type": ""
    },
    "tags": []
   },
   "source": [
    "# Survival Analysis\n",
    "What is the motivation for conducting this analysis?\n"
   ]
  },
  {
   "cell_type": "markdown",
   "id": "de0a600f-d5c3-4ff7-a879-13586608b0c8",
   "metadata": {
    "editable": true,
    "slideshow": {
     "slide_type": ""
    },
    "tags": []
   },
   "source": [
    "## Conditions and Assumptions\n",
    "\n",
    "Users who never logged any transactions are classified as **not-activated** and not included in calculation.\n",
    "\n",
    "study period: ['2018-06-01', '2025-02-01')\n",
    "\n",
    "`survival_time = t1 - t0`\n",
    "\n",
    "`churned`: `is_agree` is `False` \n",
    "\n",
    "churn event: user blocked/unfollowed. Users who had not blocked/unfollowed and had not logged any transactions after 365 days are by defaulted **churned**.\n",
    "\n",
    "right censored: same as `churned` is `False`\n",
    "\n",
    "if `churned` and `user_ts > last_entry`, make end time = `user_ts`\n",
    "\n",
    "if not `churned`, make end time = `tsl[1]` end of observation period\n",
    "\n",
    "? what do it mean when `user_ts` < `last_entry` but `churned` is `True`"
   ]
  },
  {
   "cell_type": "markdown",
   "id": "e69f848e-8054-4c44-b562-e66bffda67ef",
   "metadata": {
    "editable": true,
    "slideshow": {
     "slide_type": ""
    },
    "tags": []
   },
   "source": [
    "## Data Source\n"
   ]
  },
  {
   "cell_type": "code",
   "execution_count": null,
   "id": "9a6e8b1e-5af9-4603-8c2c-bed0093707ca",
   "metadata": {
    "editable": true,
    "scrolled": true,
    "slideshow": {
     "slide_type": ""
    },
    "tags": []
   },
   "outputs": [],
   "source": [
    "import pandas as pd\n",
    "\n",
    "td = pd.read_feather('../data/tidy.feather')\n",
    "\n",
    "# study period\n",
    "tsl = pd.to_datetime(['2018-06-01', '2025-02-01'])"
   ]
  },
  {
   "cell_type": "markdown",
   "id": "aef83ac5-6071-4b74-8ed5-c9b459ed589e",
   "metadata": {},
   "source": [
    "# Initial Setup and Analysis"
   ]
  },
  {
   "cell_type": "code",
   "execution_count": null,
   "id": "8607883a-9790-447b-bf1f-6ba4762fb710",
   "metadata": {},
   "outputs": [],
   "source": [
    "td['days_since'] = tsl[1] - td.last_entry\n",
    "\n",
    "# set churned flag\n",
    "td['churned'] = ~td.is_agree\n",
    "i = td.is_agree & (td.days_since > pd.Timedelta(days=365))\n",
    "td.loc[i, 'churned'] = True\n",
    "td.groupby('churned').size()\n",
    "\n",
    "# churned vs.\n",
    "# semi-churned, when users blocked but still makes entries past the user_ts flag\n",
    "td['churned_'] = ~td.is_agree & (td.user_ts < td.last_entry)"
   ]
  },
  {
   "cell_type": "code",
   "execution_count": null,
   "id": "49f5aa3c-728b-4c43-8877-c20cd539e6e9",
   "metadata": {
    "editable": true,
    "slideshow": {
     "slide_type": ""
    },
    "tags": []
   },
   "outputs": [],
   "source": [
    "# data set highly censored -> bias observations\n",
    "td.groupby('is_agree').size()"
   ]
  },
  {
   "cell_type": "code",
   "execution_count": null,
   "id": "afb8a510-1625-4ab8-9cce-248ff3d9f7d1",
   "metadata": {
    "editable": true,
    "slideshow": {
     "slide_type": ""
    },
    "tags": []
   },
   "outputs": [],
   "source": [
    "# time elapsed since the last transaction entry until the\n",
    "# observation cut off period tsl[1]\n",
    "td['days_since'] = tsl[1] - td.last_entry\n",
    "x = td['days_since'].dt.total_seconds() / 3600 / 24 # days\n",
    "_ = x.plot.hist()"
   ]
  },
  {
   "cell_type": "code",
   "execution_count": null,
   "id": "d954934a-701c-40ba-ba1e-1406ad94ea26",
   "metadata": {},
   "outputs": [],
   "source": [
    "x = td.loc[~td.churned, 'days_since'].dt.total_seconds() / 3600 / 24 # days\n",
    "_ = x.plot.hist()"
   ]
  },
  {
   "cell_type": "code",
   "execution_count": null,
   "id": "87d2024a-ceee-4f47-b72e-7971c975afed",
   "metadata": {},
   "outputs": [],
   "source": [
    "# data issue?\n",
    "td.query(\"user_ts.isna()\").shape"
   ]
  },
  {
   "cell_type": "markdown",
   "id": "c7484fb2-a148-4dd0-8e62-78a0bba1952c",
   "metadata": {},
   "source": [
    "Calculate `survival_time`"
   ]
  },
  {
   "cell_type": "code",
   "execution_count": null,
   "id": "281f6ff2-bb9b-4d48-9873-ebd0d115c81c",
   "metadata": {},
   "outputs": [],
   "source": [
    "# Is left censoring necessary? No.\n",
    "(td.user_ts < tsl[0]).sum()"
   ]
  },
  {
   "cell_type": "code",
   "execution_count": null,
   "id": "89b9c5a6-1ad5-4550-bf31-b767f0bba621",
   "metadata": {},
   "outputs": [],
   "source": [
    "# calculate start time\n",
    "td['t0'] = td[['user_ts', 'first_entry']].min(axis=1)"
   ]
  },
  {
   "cell_type": "markdown",
   "id": "4cd14638-c9c6-48c9-8173-f25d3e96866d",
   "metadata": {},
   "source": [
    "calculate end time and survival_time\n",
    "\n",
    "`tsl[1]` is the observation end time  \n",
    "\n",
    "if is_agree is False, set the user end time to larger of \n",
    "`last_entry` or user record timestamp `ts` from acc_user table"
   ]
  },
  {
   "cell_type": "code",
   "execution_count": null,
   "id": "b257b340-5279-4eeb-b4ed-562d01b49089",
   "metadata": {},
   "outputs": [],
   "source": [
    "td['t1'] = tsl[1]\n",
    "td.loc[~td.is_agree, 't1'] = td.loc[~td.is_agree, ['user_ts', 'last_entry']].max(axis=1, skipna=True)\n",
    "td['survival_time'] = td.t1 - td.t0"
   ]
  },
  {
   "cell_type": "code",
   "execution_count": null,
   "id": "3ab54878-e615-485c-9649-61654b70c2ae",
   "metadata": {
    "scrolled": true
   },
   "outputs": [],
   "source": [
    "# how many have churned beyond the observation period\n",
    "td.loc[~td.is_agree & (td.t1 >= tsl[1])].shape[0]"
   ]
  },
  {
   "cell_type": "code",
   "execution_count": null,
   "id": "a4f73d73-07ce-4413-99a2-e88247621a81",
   "metadata": {},
   "outputs": [],
   "source": [
    "# what portion of users have churned?\n",
    "(~td.is_agree).sum() / td.shape[0]"
   ]
  },
  {
   "cell_type": "code",
   "execution_count": null,
   "id": "f8999048-7da4-47ff-9189-640fad2a8e5e",
   "metadata": {},
   "outputs": [],
   "source": [
    "# how many have churned before the observation period\n",
    "td[~td.is_agree & (td.t1 < tsl[1])].shape"
   ]
  },
  {
   "cell_type": "code",
   "execution_count": null,
   "id": "d463a48d-8b2e-423d-a5d0-1bd04ccb4177",
   "metadata": {},
   "outputs": [],
   "source": [
    "# ... and what is the percentage?\n",
    "td[~td.is_agree & (td.t1 < tsl[1])].shape[0] / td.shape[0]"
   ]
  },
  {
   "cell_type": "code",
   "execution_count": null,
   "id": "44388019-0afa-4236-b756-29a0ce5d79ba",
   "metadata": {},
   "outputs": [],
   "source": [
    "# how many have supposedly blocked but still made entries\n",
    "# vs. true churned(?) user_ts > last_entry\n",
    "(td[(~td.is_agree) & (td.user_ts < td.last_entry)].shape[0],\n",
    "td[(~td.is_agree) & (td.user_ts > td.last_entry)].shape[0])"
   ]
  },
  {
   "cell_type": "markdown",
   "id": "715a84da-1774-485c-b4d7-bf2561b20c8f",
   "metadata": {},
   "source": [
    "Calculating Churn"
   ]
  },
  {
   "cell_type": "code",
   "execution_count": null,
   "id": "c76591fa-12ee-40ef-a0f3-32a4319c8013",
   "metadata": {
    "jupyter": {
     "source_hidden": true
    }
   },
   "outputs": [],
   "source": [
    "# is_agree not set and churned flag not set\n",
    "td.loc[~td.is_agree & td.churned_,\n",
    "       ['user_ts', 'last_entry', 'tenure', 'days_active',\n",
    "        'days_since', 'survival_time', 't1', 't0',\n",
    "        'churned_', 'user_id']]"
   ]
  },
  {
   "cell_type": "code",
   "execution_count": null,
   "id": "f9af9acc-6e32-49a0-8011-5c84fbc3d0fe",
   "metadata": {},
   "outputs": [],
   "source": [
    "td.churned.sum() / td.shape[0], (~td.is_agree).sum() / td.shape[0]"
   ]
  },
  {
   "cell_type": "code",
   "execution_count": null,
   "id": "e94911c1-eb59-4226-8e85-b1df564e50cc",
   "metadata": {
    "scrolled": true
   },
   "outputs": [],
   "source": [
    "td[['tenure', 'days_active', 'days_since', 'survival_time', 'nbr_entry']].describe()"
   ]
  },
  {
   "cell_type": "code",
   "execution_count": null,
   "id": "66306afe-9817-4e08-a4a0-77c6bff26ffb",
   "metadata": {},
   "outputs": [],
   "source": [
    "# spread between tenure and active days\n",
    "(td.tenure.dt.days - td.days_active).describe()"
   ]
  },
  {
   "cell_type": "markdown",
   "id": "72929a4c-60ff-4ef6-918c-3bf2dd87cb62",
   "metadata": {},
   "source": [
    "_**Oberservations:**_\n",
    "- 75% of users had been active for 12 separate days or less (`days_active`)\n",
    "- 75% of users had not made any entries for >1143 days (`days_since`)"
   ]
  },
  {
   "cell_type": "code",
   "execution_count": null,
   "id": "f2ab05a7-0838-4712-b60c-756e34874b96",
   "metadata": {
    "editable": true,
    "scrolled": true,
    "slideshow": {
     "slide_type": ""
    },
    "tags": []
   },
   "outputs": [],
   "source": [
    "# what do you observe from the top quartile...\n",
    "\n",
    "t0 = td.days_since.quantile(.25) # 1146 days since last entry\n",
    "print('days_since =', t0.days)\n",
    "(td.loc[td.days_since < t0, ['days_since', 'tenure', 'days_active', 'nbr_entry']].describe())"
   ]
  },
  {
   "cell_type": "code",
   "execution_count": null,
   "id": "1dea75b1-f597-447c-8b1e-5ad3723fc19d",
   "metadata": {
    "editable": true,
    "scrolled": true,
    "slideshow": {
     "slide_type": ""
    },
    "tags": []
   },
   "outputs": [],
   "source": [
    "td[td.user_id == 'U000046b3786c997220a07872c5191c37']"
   ]
  },
  {
   "cell_type": "markdown",
   "id": "34815a65-492b-458f-bc67-a3df9b005226",
   "metadata": {},
   "source": [
    "# Kaplan-Meier Estimator"
   ]
  },
  {
   "cell_type": "code",
   "execution_count": null,
   "id": "08182385-b0c6-4502-aba6-809a7c500bd2",
   "metadata": {},
   "outputs": [],
   "source": [
    "from lifelines import KaplanMeierFitter\n",
    "import matplotlib.pyplot as plt\n",
    "\n",
    "kmf = KaplanMeierFitter()\n",
    "kmf.fit(durations=td.survival_time.dt.total_seconds() / 3600 / 24, # in days\n",
    "        event_observed=td.churned)\n",
    "\n",
    "ax = kmf.plot_survival_function()\n",
    "ax.set_title(\"Kaplan-Meier Survival Curve\")\n",
    "ax.set_xlabel(\"days\")\n",
    "ax.set_ylabel(\"Survival Probability\")\n",
    "plt.show()"
   ]
  },
  {
   "cell_type": "code",
   "execution_count": null,
   "id": "9f0858be-36bb-4656-b527-0c61f8475891",
   "metadata": {
    "scrolled": true
   },
   "outputs": [],
   "source": [
    "median_time = kmf.median_survival_time_\n",
    "print(f\"Median Survival Time: {median_time} days\")"
   ]
  },
  {
   "cell_type": "code",
   "execution_count": null,
   "id": "4b903a62-a56d-46ce-a0e2-9bebc3a39676",
   "metadata": {},
   "outputs": [],
   "source": [
    "# Find duration for a given probability\n",
    "target_prob = 0.5  # survival probability \n",
    "closest_time = kmf.survival_function_.index[kmf.survival_function_[\"KM_estimate\"] <= target_prob][0]\n",
    "\n",
    "print(f\"Duration corresponding to survival probability {target_prob}: {closest_time}\")"
   ]
  },
  {
   "cell_type": "markdown",
   "id": "5b1cd547-2704-4b50-bb46-fffdb09c3e41",
   "metadata": {},
   "source": [
    "# Cox Proportional Hazards Model"
   ]
  },
  {
   "cell_type": "code",
   "execution_count": null,
   "id": "47f7092d-6fe7-41fb-89b9-f8ca535e888c",
   "metadata": {},
   "outputs": [],
   "source": [
    "from lifelines import CoxPHFitter\n",
    "\n",
    "td['duration'] = td.survival_time.dt.total_seconds() / 3600 / 24  # days\n",
    "df = td[[\n",
    "    'duration',\n",
    "    'churned',\n",
    "    'days_active',\n",
    "    'nbr_entry',\n",
    "    'fq_median'\n",
    "]]\n",
    "\n",
    "cph = CoxPHFitter()\n",
    "cph.fit(df, duration_col='duration', event_col='churned')\n",
    "cph.print_summary()"
   ]
  },
  {
   "cell_type": "code",
   "execution_count": null,
   "id": "e89725f8-809d-4249-bf56-1747eabbeda3",
   "metadata": {},
   "outputs": [],
   "source": [
    "td.info()"
   ]
  }
 ],
 "metadata": {
  "kernelspec": {
   "display_name": "Python 3 (ipykernel)",
   "language": "python",
   "name": "python3"
  },
  "language_info": {
   "codemirror_mode": {
    "name": "ipython",
    "version": 3
   },
   "file_extension": ".py",
   "mimetype": "text/x-python",
   "name": "python",
   "nbconvert_exporter": "python",
   "pygments_lexer": "ipython3",
   "version": "3.13.2"
  }
 },
 "nbformat": 4,
 "nbformat_minor": 5
}
