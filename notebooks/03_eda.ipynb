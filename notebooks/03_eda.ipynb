{
 "cells": [
  {
   "cell_type": "markdown",
   "id": "dc48b1d7-0d93-4ea9-82a4-7ce8e15b4256",
   "metadata": {
    "editable": true,
    "jp-MarkdownHeadingCollapsed": true,
    "slideshow": {
     "slide_type": ""
    },
    "tags": []
   },
   "source": [
    "# Exploratory Analysis of Personal Finance Bookkeeping Activity\n",
    "Per Offical Account (OA) dashboard\n",
    "1/31/2025  \n",
    "628,181 Friends added  \n",
    "312,619 Target reach  \n",
    "288,289 Blocked count\n",
    "\n",
    "Transaction Database  \n",
    "651,793 users (acc_user)  \n",
    "317,726 blocked (acc_user)  \n",
    "399,125 unique users (acc_cashflow)  \n",
    "254,583 never logged any transaction (acc_users x acc_cashflow), of which 98,310 not blocked\n",
    "\n",
    "What is the motivation for conducting this analysis?\n"
   ]
  },
  {
   "cell_type": "markdown",
   "id": "e69f848e-8054-4c44-b562-e66bffda67ef",
   "metadata": {
    "editable": true,
    "slideshow": {
     "slide_type": ""
    },
    "tags": []
   },
   "source": [
    "# Data Source\n",
    "Loading, cleaning, and pre-processing\n",
    "- acc_user\n",
    "- acc_cashflow"
   ]
  },
  {
   "cell_type": "code",
   "execution_count": null,
   "id": "f28e84f6-f952-4670-9929-3b950510cc10",
   "metadata": {
    "editable": true,
    "scrolled": true,
    "slideshow": {
     "slide_type": ""
    },
    "tags": []
   },
   "outputs": [],
   "source": [
    "import pandas as pd\n",
    "\n",
    "users = pd.read_feather('../data/users.feather')\n",
    "# users.info()\n",
    "\n",
    "cashflow = pd.read_feather('../data/cashflow_cleaned.feather')\n",
    "# cahsflow.info()\n",
    "\n",
    "td = pd.read_feather('../data/tidy.feather')\n",
    "# td.info()"
   ]
  },
  {
   "cell_type": "code",
   "execution_count": null,
   "id": "c624a035-2293-4aa0-820f-64468128dd28",
   "metadata": {},
   "outputs": [],
   "source": [
    "# observation period\n",
    "tsl = pd.to_datetime(['2018-06-01', '2025-02-01'])"
   ]
  },
  {
   "cell_type": "markdown",
   "id": "994d9bad-bca4-4947-9bd0-6ee69e102b45",
   "metadata": {},
   "source": [
    "# Never active\n",
    "\n",
    "_n.b._ There is about <20 users in the cashflow table not found in the users table."
   ]
  },
  {
   "cell_type": "code",
   "execution_count": null,
   "id": "b0cda68b-80c5-4229-8e5d-96c98e24936d",
   "metadata": {},
   "outputs": [],
   "source": [
    "x = users.loc[~users.is_bot, ['user_id', 'is_agree']]\n",
    "x.shape"
   ]
  },
  {
   "cell_type": "code",
   "execution_count": null,
   "id": "c909da22-97b7-4120-b473-e2f1e5cee40f",
   "metadata": {},
   "outputs": [],
   "source": [
    "x.groupby('is_agree').size()"
   ]
  },
  {
   "cell_type": "code",
   "execution_count": null,
   "id": "81b547eb-8fa1-4000-96e4-77503532b083",
   "metadata": {},
   "outputs": [],
   "source": [
    "# y = cashflow.loc[~cashflow.isBad & (cashflow.amt != 0), 'user_id'].drop_duplicates()\n",
    "y = cashflow.loc[~cashflow.isBad, 'user_id'].drop_duplicates().to_frame()\n",
    "y['right'] = True\n",
    "y.shape"
   ]
  },
  {
   "cell_type": "code",
   "execution_count": null,
   "id": "185c109d-bead-41c7-a9e7-7bba80c78d9a",
   "metadata": {},
   "outputs": [],
   "source": [
    "td.shape"
   ]
  },
  {
   "cell_type": "code",
   "execution_count": null,
   "id": "0da7c7a7-1c41-47ac-835b-e1f7274e3b27",
   "metadata": {},
   "outputs": [],
   "source": [
    "z = x.merge(y, on='user_id', how = 'left')"
   ]
  },
  {
   "cell_type": "markdown",
   "id": "28fe5f5d-65ca-4c30-b141-9522487534be",
   "metadata": {},
   "source": [
    "Number of users who never logged any transactions"
   ]
  },
  {
   "cell_type": "code",
   "execution_count": null,
   "id": "ee6e61bd-9f13-44b9-9a86-ba237dd37b2e",
   "metadata": {},
   "outputs": [],
   "source": [
    "print(z.right.isna().sum())"
   ]
  },
  {
   "cell_type": "markdown",
   "id": "6c49cf67-3a43-4482-a7cb-037e6adcaaaa",
   "metadata": {},
   "source": [
    "What is the split between blocked or non-blocked users?"
   ]
  },
  {
   "cell_type": "code",
   "execution_count": null,
   "id": "4bd1ac61-f421-49b4-b8f2-afafb72a4ffd",
   "metadata": {},
   "outputs": [],
   "source": [
    "z[z.right.isna()].groupby('is_agree').size()"
   ]
  },
  {
   "cell_type": "markdown",
   "id": "d2dca8f9-54a5-49bc-a7cd-956a374498f4",
   "metadata": {},
   "source": [
    "# WIP: Group of One\n",
    "\n",
    "What are the patterns of this cluster of users\n",
    "who tracks income or expenses using one or more groups\n",
    "with no other members in the group?"
   ]
  },
  {
   "cell_type": "code",
   "execution_count": null,
   "id": "fe01c3cd-ab41-477c-87c5-95bf449fb49e",
   "metadata": {},
   "outputs": [],
   "source": [
    "mbr = pd.read_feather('../data/members.feather')"
   ]
  },
  {
   "cell_type": "code",
   "execution_count": null,
   "id": "ee80d362-8dc1-43c7-a8f2-0ac4c1dbe149",
   "metadata": {},
   "outputs": [],
   "source": [
    "x = mbr.groupby('group_id').agg(n_member=('member_id', 'nunique'))\n",
    "y = x.query('n_member == 1')\n",
    "grp_lst = [i for i in y.index]\n",
    "grp_one = cashflow[(cashflow.amt != 0) & (cashflow.group_id.isin(grp_lst)) & ~cashflow.isBad] \\\n",
    "    .groupby('group_id') \\\n",
    "    .agg(first_entry=('ts', 'min'), last_entry=('ts', 'max'),\n",
    "         nbr_entry=('amt', 'count'),\n",
    "         grp_exp = ('amt', lambda x: x[x < 0].sum()),\n",
    "         nbr_grp_exp = ('amt', lambda x: x[x < 0].count()),\n",
    "         grp_inc = ('amt', lambda x: x[x > 0].sum()),\n",
    "         nbr_grp_inc = ('amt', lambda x: x[x > 0].count())\n",
    "        )\n",
    "\n",
    "grp_one.describe()"
   ]
  },
  {
   "cell_type": "code",
   "execution_count": null,
   "id": "c01aac56-16b1-4626-9aa3-ae7373f8375f",
   "metadata": {},
   "outputs": [],
   "source": [
    "len(grp_lst) / x.shape[0]\n",
    "# x.shape[0]"
   ]
  },
  {
   "cell_type": "markdown",
   "id": "e42ce4da-6b81-41b2-ac9f-247cd0408fdf",
   "metadata": {},
   "source": [
    "# Churned by Default\n",
    "\n",
    "Users who had not blocked/unfollowed and had not logged any transactions after 365 days are by defaulted **churned**."
   ]
  },
  {
   "cell_type": "code",
   "execution_count": null,
   "id": "cf35da9c-7782-4036-81fc-b09af03b88e1",
   "metadata": {},
   "outputs": [],
   "source": [
    "td['days_since'] = tsl[1] - td.last_entry\n",
    "td['churned'] = ~td.is_agree\n",
    "i = td.is_agree & (td.days_since > pd.Timedelta(days=365))\n",
    "td.loc[i, 'churned'] = True\n",
    "td.groupby('churned').size()"
   ]
  },
  {
   "cell_type": "markdown",
   "id": "86e4231f-d6a5-4488-938e-e28c9046fea8",
   "metadata": {},
   "source": [
    "# Segmentation by `tenure`, `days_since`, `days_active` and `survival_time`\n",
    "- `tenure` is the number of days between the users first and last date of expense or income entry\n",
    "- `days_since` is the number of days since the user has made the last entry\n",
    "- `days_active` is the number of days that a user log entries\n",
    "- `survivial time` is the number of days between the system initially recongizes user's activity and the last day of observation '2025-01-31' or when the users had churned\n"
   ]
  },
  {
   "cell_type": "markdown",
   "id": "75c246a5-3281-4304-9feb-477a4af5ebb8",
   "metadata": {},
   "source": [
    "calculate survivle time\n",
    "\n",
    "\n",
    "\n"
   ]
  },
  {
   "cell_type": "code",
   "execution_count": null,
   "id": "ebe7704d-fb5a-4158-8ac9-82c682779420",
   "metadata": {},
   "outputs": [],
   "source": [
    "# calculate start time: the time when user was first recognized or\n",
    "# logged the first transaction\n",
    "td['t0'] = td[['user_ts', 'first_entry']].min(axis=1)"
   ]
  },
  {
   "cell_type": "markdown",
   "id": "255ee054-6b4c-4286-827a-d42756509d0c",
   "metadata": {},
   "source": [
    "`tsl[1]` is the observation end time  \n",
    "\n",
    "if `churned` is True, set the user end time to larger of \n",
    "`last_entry` or user record timestamp `user_ts` from acc_user table,\n",
    "else the end time is the observation end time, i.e. right censored."
   ]
  },
  {
   "cell_type": "code",
   "execution_count": null,
   "id": "7fed8c10-14ad-43c9-ad1f-7fbdf7065d66",
   "metadata": {},
   "outputs": [],
   "source": [
    "# calculate end time and survival_time\n",
    "td['t1'] = tsl[1]\n",
    "td.loc[td.churned, 't1'] = td.loc[td.churned, ['user_ts', 'last_entry']].max(axis=1, skipna=True)\n",
    "td['survival_time'] = td.t1 - td.t0"
   ]
  },
  {
   "cell_type": "code",
   "execution_count": null,
   "id": "bfd0e005-8bf5-43aa-8f2f-ee31897901dd",
   "metadata": {},
   "outputs": [],
   "source": [
    "x = td['survival_time'].dt.total_seconds() / 3600 / 24 # days\n",
    "print(x.describe(percentiles=[.25, .5, .75, .8, .818, .9]))\n",
    "_ = x.plot.hist(xlabel='survival time (days)')"
   ]
  },
  {
   "cell_type": "code",
   "execution_count": null,
   "id": "f2d932fc-7449-4005-a245-d0bc8d4a904a",
   "metadata": {
    "scrolled": true
   },
   "outputs": [],
   "source": [
    "# how many have churned beyound the oberservation period\n",
    "td.loc[td.churned & (td.t1 >= tsl[1])].shape[0]"
   ]
  },
  {
   "cell_type": "code",
   "execution_count": null,
   "id": "490d58f7-6c75-4c08-81be-71b69a74f51e",
   "metadata": {
    "jupyter": {
     "source_hidden": true
    },
    "scrolled": true
   },
   "outputs": [],
   "source": [
    "# [(x.left.round('D').days, x.right.days) for x in pd.qcut(td.survival_time, q=10).unique().sort_values()]"
   ]
  },
  {
   "cell_type": "code",
   "execution_count": null,
   "id": "b125c53a-e0a2-4f12-b325-f6bf07338e15",
   "metadata": {
    "scrolled": true
   },
   "outputs": [],
   "source": [
    "# [(x.left.round('D').days, x.right.days) for x in pd.qcut(td.days_since, q=10).unique().sort_values()]"
   ]
  },
  {
   "cell_type": "code",
   "execution_count": null,
   "id": "e2cde83b-3be9-429a-aaf9-fdc38f297dbe",
   "metadata": {},
   "outputs": [],
   "source": [
    "# [(round(x.left), round(x.right)) for x in pd.qcut(td.dats_active.dt.days, q=10, duplicates='drop').unique().sort_values()]\n",
    "# td.info()"
   ]
  },
  {
   "cell_type": "code",
   "execution_count": null,
   "id": "62fb4607-38a1-4e59-b535-5cfb699b5203",
   "metadata": {},
   "outputs": [],
   "source": [
    "# count null of time_elasped << user has made only one valid entry\n",
    "td[td.nbr_entry == 1].shape"
   ]
  },
  {
   "cell_type": "code",
   "execution_count": null,
   "id": "7c27872b-670f-4fa1-bed8-4c19d0ecc84e",
   "metadata": {
    "scrolled": true
   },
   "outputs": [],
   "source": [
    "# [round(i.right) for i in pd.qcut(df.fq_mean, q=12, duplicates='drop').cat.categories]"
   ]
  },
  {
   "cell_type": "code",
   "execution_count": null,
   "id": "9ce60ee9-9770-4f6e-be06-f269af48dedc",
   "metadata": {},
   "outputs": [],
   "source": [
    "td.groupby('churned').size()"
   ]
  },
  {
   "cell_type": "code",
   "execution_count": null,
   "id": "6a224e1a-dc75-4953-be28-81e82ebf1c7b",
   "metadata": {
    "editable": true,
    "scrolled": true,
    "slideshow": {
     "slide_type": ""
    },
    "tags": []
   },
   "outputs": [],
   "source": [
    "df = td.loc[~td.churned, ['user_id', 'days_since', 'tenure', 'days_active', 'pct_active',\n",
    "                          'survival_time',\n",
    "          'fq_mean', 'fq_median', 'time_elapsed_mean']].copy()\n",
    "# df.info()\n",
    "df.describe(percentiles=[.5, .6, .7, .8, .9])"
   ]
  },
  {
   "cell_type": "code",
   "execution_count": null,
   "id": "6a730a24-8765-46a3-a62b-5d001cd31a3d",
   "metadata": {
    "editable": true,
    "slideshow": {
     "slide_type": ""
    },
    "tags": []
   },
   "outputs": [],
   "source": [
    "# cut series and tag quantiles\n",
    "x = pd.qcut(df.days_since.dt.ceil('D').dt.days, q=11, duplicates='drop')\n",
    "df['days_since_decile'] = x.apply(lambda x: (x.right).astype('int') )  \n",
    "x = pd.qcut(df.tenure.dt.days, q=10, duplicates='drop')\n",
    "df['tenure_decile'] = x.apply(lambda x: round(x.right)) \n",
    "x = pd.qcut(df.survival_time.dt.days, q=10)\n",
    "df['survival_time_decile'] = x.apply(lambda x: round(x.right))\n",
    "x = pd.qcut(df.fq_mean, q=12, duplicates='drop')\n",
    "df['mean_wk_fq'] = x.apply(lambda x: round(x.right))\n",
    "x = pd.qcut(df.fq_median, q=12, duplicates='drop')\n",
    "df['median_wk_fq'] = x.apply(lambda x: round(x.right))\n",
    "x = pd.qcut(df.time_elapsed_mean, q=12, duplicates='drop')\n",
    "# round(x[397139].right.seconds / 3600, 1)\n",
    "# x[22].right.round('1h')\n",
    "df['mean_interval'] = x.apply(lambda x: x.right.round('6h').total_seconds() / 3600 / 24) # day hours"
   ]
  },
  {
   "cell_type": "code",
   "execution_count": null,
   "id": "2a491501-5b29-492b-a5b9-3c2745056d2f",
   "metadata": {},
   "outputs": [],
   "source": [
    "# df.time_elapsed_mean.describe()\n",
    "# df.median_interval.describe()\n",
    "# x[53]#.right.seconds / 60 / 60\n",
    "# df.mean_interval.describe()"
   ]
  },
  {
   "cell_type": "code",
   "execution_count": null,
   "id": "b364274c-0018-4078-9754-a30fe0642f8c",
   "metadata": {
    "editable": true,
    "slideshow": {
     "slide_type": ""
    },
    "tags": []
   },
   "outputs": [],
   "source": [
    "import seaborn as sns\n",
    "\n",
    "# df_plot = df.groupby(['days_since_decile', 'days_active_decile'], observed=True).agg({'user_id':'count'}).reset_index()\n",
    "# df_plot = df_plot.pivot(index='dasy_active_decile', columns='days_since_decile', values='user_id')\n",
    "df_plot = df.groupby(['days_since_decile', 'survival_time_decile'], observed=True).agg({'user_id':'count'}).reset_index()\n",
    "df_plot = df_plot.pivot(index='survival_time_decile', columns='days_since_decile', values='user_id')\n",
    "\n",
    "# Set figure size globally\n",
    "sns.set_theme(rc={'figure.figsize': (12, 6)})\n",
    "\n",
    "_ = sns.heatmap(df_plot, annot=False, cmap='Greens')\n",
    "_.set_title(\"Days Since Last Active vs Survival Time (censored)\", y=1.02)\n",
    "df_plot"
   ]
  },
  {
   "cell_type": "code",
   "execution_count": null,
   "id": "62a2b98b-558f-4dc3-a847-ef677def7a09",
   "metadata": {
    "editable": true,
    "slideshow": {
     "slide_type": ""
    },
    "tags": [
     "raises-exception"
    ]
   },
   "outputs": [],
   "source": [
    "import seaborn as sns\n",
    "\n",
    "# df_plot = df.groupby(['days_since_decile', 'days_active_decile'], observed=True).agg({'user_id':'count'}).reset_index()\n",
    "# df_plot = df_plot.pivot(index='days_activee_decile', columns='days_since_decile', values='user_id')\n",
    "df_plot = df.groupby(['days_since_decile', 'mean_wk_fq'], observed=True).agg({'user_id':'count'}).reset_index()\n",
    "df_plot = df_plot.pivot(index='mean_wk_fq', columns='days_since_decile', values='user_id')\n",
    "\n",
    "# Set figure size globally\n",
    "sns.set_theme(rc={'figure.figsize': (12, 6)})\n",
    "\n",
    "_ = sns.heatmap(df_plot, annot=False, cmap='Purples')\n",
    "df_plot"
   ]
  },
  {
   "cell_type": "code",
   "execution_count": null,
   "id": "9f25def3-8d2d-4163-9a18-9593490beaea",
   "metadata": {
    "scrolled": true
   },
   "outputs": [],
   "source": [
    "df_plot = df.groupby(['days_since_decile', 'mean_interval'], observed=True).agg({'user_id':'count'}).reset_index()\n",
    "df_plot = df_plot.pivot(index='mean_interval', columns='days_since_decile', values='user_id')\n",
    "\n",
    "# Set figure size globally\n",
    "sns.set_theme(rc={'figure.figsize': (12, 6)})\n",
    "\n",
    "_ = sns.heatmap(df_plot, annot=False, cmap='Blues')\n",
    "df_plot"
   ]
  },
  {
   "cell_type": "code",
   "execution_count": null,
   "id": "95c61972-f399-4ff9-b5b2-2387c9406ccc",
   "metadata": {},
   "outputs": [],
   "source": [
    "td.query(\"time_elapsed_mean.dt.days  > 74 & days_since.dt.days <= 2\")[['time_elapsed_mean', 'days_since']]"
   ]
  },
  {
   "cell_type": "code",
   "execution_count": null,
   "id": "47b8d011-8a40-4503-acb3-3b834a24708f",
   "metadata": {
    "editable": true,
    "slideshow": {
     "slide_type": ""
    },
    "tags": []
   },
   "outputs": [],
   "source": [
    "# extreme cases\n",
    "td.loc[(td.fq_mean > 70) & ~td.churned,\n",
    "['fq_mean', 'tenure', 'days_active', 'days_since', 'user_id', 'nbr_entry', 'n_grp', 'nbr_connection']]"
   ]
  },
  {
   "cell_type": "code",
   "execution_count": null,
   "id": "85f59218-91fa-42ee-8f01-7db61d7912e8",
   "metadata": {},
   "outputs": [],
   "source": [
    "td[td.user_id == 'U8835e86e095f591d93b8d36454174525'][['fq_mean', 'tenure', 'days_active', 'days_since', 'nbr_entry', 'n_grp', 'nbr_connection']]"
   ]
  },
  {
   "cell_type": "code",
   "execution_count": null,
   "id": "260042c5-eca1-4edf-843b-bbc0d50d1058",
   "metadata": {
    "editable": true,
    "slideshow": {
     "slide_type": ""
    },
    "tags": []
   },
   "outputs": [],
   "source": [
    "cashflow.query(\"user_id == 'U8835e86e095f591d93b8d36454174525'\").groupby('yyyy_mm').size().plot()"
   ]
  },
  {
   "cell_type": "code",
   "execution_count": null,
   "id": "93925a77-c7d9-4feb-98c8-01a541e6e15d",
   "metadata": {
    "editable": true,
    "scrolled": true,
    "slideshow": {
     "slide_type": ""
    },
    "tags": []
   },
   "outputs": [],
   "source": [
    "cashflow.query(\"user_id == 'Uff7dc69b55ff36a6cf8fa0bd1e0356c8' & ts > '2025-01-25'\")"
   ]
  },
  {
   "cell_type": "code",
   "execution_count": null,
   "id": "2c7d2ff1-04f9-412f-8861-be05f910a6cb",
   "metadata": {},
   "outputs": [],
   "source": [
    "import seaborn as sns\n",
    "import matplotlib.pyplot as plt\n",
    "\n",
    "# Compute correlation matrix\n",
    "corr_matrix = df.drop(columns='user_id').corr()\n",
    "\n",
    "# Create heatmap\n",
    "plt.figure(figsize=(8, 6))\n",
    "sns.heatmap(corr_matrix, annot=False, cmap='coolwarm', fmt=\".2f\", linewidths=0.5)\n",
    "plt.title(\"Correlation Matrix Heatmap\")\n",
    "plt.show()"
   ]
  },
  {
   "cell_type": "code",
   "execution_count": null,
   "id": "4bbb1135-16a0-460d-b698-d6aa4cf1f491",
   "metadata": {},
   "outputs": [],
   "source": [
    "# Create pairplot\n",
    "sns.pairplot(df.drop(columns='user_id'), kind=\"scatter\", corner=True)\n",
    "plt.suptitle(\"Pairwise Scatterplots of Correlations\", y=1.02)"
   ]
  },
  {
   "cell_type": "markdown",
   "id": "9ffaeaf5-f7e1-45fc-8c42-17956c7cb363",
   "metadata": {
    "editable": true,
    "slideshow": {
     "slide_type": ""
    },
    "tags": []
   },
   "source": [
    "# Explore Group "
   ]
  },
  {
   "cell_type": "code",
   "execution_count": null,
   "id": "3c48ce5c-4d59-42f5-b5a2-a68cb3dca57d",
   "metadata": {},
   "outputs": [],
   "source": [
    "members = pd.read_feather('../data/members.feather')"
   ]
  },
  {
   "cell_type": "code",
   "execution_count": null,
   "id": "e49672b9-b21d-46cf-837d-ee65f9fe0f21",
   "metadata": {
    "scrolled": true
   },
   "outputs": [],
   "source": [
    "#number of members in each group\n",
    "nbr_mbr_grp = members.groupby('group_id')['user_id'].nunique()\n",
    "\n",
    "nbr_mbr_grp.agg(['min', 'max', 'mean', 'median'])"
   ]
  },
  {
   "cell_type": "code",
   "execution_count": null,
   "id": "5e2c6859-a00b-4f40-9560-47166edd8585",
   "metadata": {},
   "outputs": [],
   "source": [
    "nbr_mbr_grp.quantile([.25, .5, .75, .8, .9, .95, .99])"
   ]
  },
  {
   "cell_type": "markdown",
   "id": "1ebceaf1-a43c-4d27-8a1f-869043b1abd1",
   "metadata": {},
   "source": [
    "# Cash flow"
   ]
  },
  {
   "cell_type": "code",
   "execution_count": null,
   "id": "4e981813-e41b-4af7-a2b8-b9ba1fea4c70",
   "metadata": {},
   "outputs": [],
   "source": [
    "# is this interesting?\n",
    "\n",
    "cashflow.groupby(['user_id'])['amt'].sum().quantile([.1, .25, .5, .75, .9])"
   ]
  }
 ],
 "metadata": {
  "kernelspec": {
   "display_name": "Python [conda env:twin3]",
   "language": "python",
   "name": "conda-env-twin3-py"
  },
  "language_info": {
   "codemirror_mode": {
    "name": "ipython",
    "version": 3
   },
   "file_extension": ".py",
   "mimetype": "text/x-python",
   "name": "python",
   "nbconvert_exporter": "python",
   "pygments_lexer": "ipython3",
   "version": "3.13.2"
  }
 },
 "nbformat": 4,
 "nbformat_minor": 5
}
