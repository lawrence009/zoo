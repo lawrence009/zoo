{
 "cells": [
  {
   "cell_type": "markdown",
   "id": "e69f848e-8054-4c44-b562-e66bffda67ef",
   "metadata": {
    "editable": true,
    "slideshow": {
     "slide_type": ""
    },
    "tags": []
   },
   "source": [
    "# Data Source\n",
    "Loading, cleaning, and pre-processing\n",
    "- acc_user\n",
    "- acc_category, acc_category_income\n",
    "- acc_cashflow, the fact table created from expense and income tables:\n",
    "    - acc_user_detail, acc_group_detail, acc_user_detail_income, acc_group_detail_income\n",
    "\n",
    "_to-do:_ check frequency calculations  \n",
    "_to-do:_ count the number of _is_agree_ members connected to each user"
   ]
  },
  {
   "cell_type": "code",
   "execution_count": null,
   "id": "f28e84f6-f952-4670-9929-3b950510cc10",
   "metadata": {
    "editable": true,
    "slideshow": {
     "slide_type": ""
    },
    "tags": []
   },
   "outputs": [],
   "source": [
    "import os\n",
    "from sqlalchemy import create_engine\n",
    "import pandas as pd\n",
    "\n",
    "user = os.getenv(\"MYSQL_USER\")\n",
    "password = os.getenv(\"MYSQL_PASSWORD\")\n",
    "host = \"localhost\"\n",
    "database = \"checkchick\"\n",
    "\n",
    "engine = create_engine(f\"mysql+pymysql://{user}:{password}@{host}/{database}\")"
   ]
  },
  {
   "cell_type": "markdown",
   "id": "2e536b9d-f39f-494c-b09f-af461d382409",
   "metadata": {},
   "source": [
    "## Users\n",
    "`user_id`  \n",
    "`is_bot`  \n",
    "`is_agree`: is communication from LINE OA blocked by the user  \n",
    "`ts`: timestamp when the record was created but unclear if it is updated later"
   ]
  },
  {
   "cell_type": "code",
   "execution_count": null,
   "id": "28f182c4-cea9-4a5c-af26-489ddfe2c49b",
   "metadata": {},
   "outputs": [],
   "source": [
    "query = \"\"\"\n",
    "SELECT\n",
    "  user_id,\n",
    "  isBot is_bot,\n",
    "  isAgree is_agree,\n",
    "  min(CREDTM) ts\n",
    "FROM ACC_USER\n",
    "WHERE LENGTH(TRIM(GROUP_ID)) = 0\n",
    "GROUP BY user_id, is_bot, is_agree\n",
    "\"\"\"\n",
    "\n",
    "users = pd.read_sql(query, con=engine,\n",
    "                    dtype=({'is_bot':'bool', 'is_agree':'bool', 'ts':'datetime64[ns]'}))\n",
    "# users.info()"
   ]
  },
  {
   "cell_type": "code",
   "execution_count": null,
   "id": "aeeeca9e-37e6-453c-af8f-a634beec8b96",
   "metadata": {},
   "outputs": [],
   "source": [
    "# check for duplicates\n",
    "x = users.groupby('user_id').size()\n",
    "dups=x[x > 1].index\n",
    "len(dups)"
   ]
  },
  {
   "cell_type": "code",
   "execution_count": null,
   "id": "a875f110-fdb1-45fe-8846-1cb72c5e38b7",
   "metadata": {},
   "outputs": [],
   "source": [
    "users[users.user_id.isin(dups)].shape"
   ]
  },
  {
   "cell_type": "code",
   "execution_count": null,
   "id": "5c830be1-857b-46ba-b0e5-246650e63361",
   "metadata": {},
   "outputs": [],
   "source": [
    "# what is dup ratio?\n",
    "89192/44596"
   ]
  },
  {
   "cell_type": "code",
   "execution_count": null,
   "id": "bf5899e8-3726-4a96-abea-18a68e07455c",
   "metadata": {
    "editable": true,
    "slideshow": {
     "slide_type": ""
    },
    "tags": []
   },
   "outputs": [],
   "source": [
    "users[users.user_id.isin(dups)].sort_values(['user_id', 'ts']).tail(10)"
   ]
  },
  {
   "cell_type": "markdown",
   "id": "1c729d6a-5f3c-4bed-8aeb-c9d83b22fa23",
   "metadata": {},
   "source": [
    "Remove duplicates by keeping the last row (most recent) in each group.\n"
   ]
  },
  {
   "cell_type": "code",
   "execution_count": null,
   "id": "361dbdb5-edd9-4875-88d9-08e66d193cc9",
   "metadata": {},
   "outputs": [],
   "source": [
    "users.sort_values(['user_id','ts'], inplace=True)"
   ]
  },
  {
   "cell_type": "code",
   "execution_count": null,
   "id": "16a36001-0a3e-4860-83e9-f3baa222972b",
   "metadata": {},
   "outputs": [],
   "source": [
    "x = users.groupby('user_id', as_index=False).last()\n",
    "x[x.user_id.isin(dups)]"
   ]
  },
  {
   "cell_type": "code",
   "execution_count": null,
   "id": "adf3ab9b-aec3-44bc-ac8c-0e6097d25453",
   "metadata": {},
   "outputs": [],
   "source": [
    "x.shape"
   ]
  },
  {
   "cell_type": "code",
   "execution_count": null,
   "id": "82bf0d61-c40e-4764-a1dc-3c85965b4bf2",
   "metadata": {},
   "outputs": [],
   "source": [
    "users = x"
   ]
  },
  {
   "cell_type": "code",
   "execution_count": null,
   "id": "1161e1bf-b992-4dfb-9340-43ac23215f82",
   "metadata": {
    "scrolled": true
   },
   "outputs": [],
   "source": [
    "# how many Bots?\n",
    "print(users.is_bot.sum())"
   ]
  },
  {
   "cell_type": "code",
   "execution_count": null,
   "id": "8b9af708-9800-44d8-a2cd-35bcfff83ed2",
   "metadata": {},
   "outputs": [],
   "source": [
    "users.query(\"is_bot\")"
   ]
  },
  {
   "cell_type": "markdown",
   "id": "3632a57f-c338-425a-b7b1-896689e7a049",
   "metadata": {},
   "source": [
    "Impute `user_id`  \n",
    "Real user_id starts with captial 'U'"
   ]
  },
  {
   "cell_type": "code",
   "execution_count": null,
   "id": "23621290-db28-480d-b46e-2fa15601f689",
   "metadata": {},
   "outputs": [],
   "source": [
    "i = users.user_id.str.lower().str.startswith('u')\n",
    "users[i].shape\n",
    "users.loc[i, 'user_id'] = users[i]['user_id'].str.capitalize()"
   ]
  },
  {
   "cell_type": "markdown",
   "id": "80ffd933-2619-43be-b73c-8622402d8a8c",
   "metadata": {},
   "source": [
    "Cohorts by user timestamp\n",
    "_n.b._, this is not always the time user followed or added the OA"
   ]
  },
  {
   "cell_type": "code",
   "execution_count": null,
   "id": "c5778a45-cdc1-4a31-8800-212840739105",
   "metadata": {},
   "outputs": [],
   "source": [
    "cohorts = users.groupby(users.ts.dt.year).size()\n",
    "cohorts.name = 'n_new_user'\n",
    "_ = cohorts.plot.bar(rot=0, xlabel='cohort year', ylabel='users')"
   ]
  },
  {
   "cell_type": "code",
   "execution_count": null,
   "id": "df0340a7-d040-4283-94da-17ddc5416f00",
   "metadata": {},
   "outputs": [],
   "source": [
    "# user count vs. block count\n",
    "print((~users.is_bot).sum(), (~users.is_bot & ~users.is_agree).sum())"
   ]
  },
  {
   "cell_type": "code",
   "execution_count": null,
   "id": "a5e7ca90-08a2-4db2-9b35-b747ff061964",
   "metadata": {},
   "outputs": [],
   "source": [
    "users.to_feather('../data/users.feather')"
   ]
  },
  {
   "cell_type": "markdown",
   "id": "4da18eff-5413-4ac6-89aa-ba81bb73be79",
   "metadata": {},
   "source": [
    "## Groups\n",
    "group_id:user_id relationship table"
   ]
  },
  {
   "cell_type": "code",
   "execution_count": null,
   "id": "a7c217bb-eb8c-496c-ad41-0da43add834f",
   "metadata": {},
   "outputs": [],
   "source": [
    "query = \"\"\"\n",
    "SELECT DISTINCT\n",
    "  group_id,\n",
    "  user_id\n",
    "FROM ACC_USER\n",
    "WHERE LENGTH(TRIM(GROUP_ID)) > 0;\n",
    "--    AND isBot IS FALSE\n",
    "\"\"\"\n",
    "\n",
    "groups = pd.read_sql(query, con=engine)\n",
    "# groups.info()"
   ]
  },
  {
   "cell_type": "code",
   "execution_count": null,
   "id": "51623785-4cd1-4a55-9862-e8204561041f",
   "metadata": {},
   "outputs": [],
   "source": [
    "groups.to_feather('../data/groups.feather')"
   ]
  },
  {
   "cell_type": "markdown",
   "id": "c0677691-1e95-408d-8561-ce929e0bbee0",
   "metadata": {},
   "source": [
    "## Members and Connections\n",
    "For each user, \n",
    "identify connected members by\n",
    "self-joining _groups_ on user_id to compute\n",
    "number of distinct users interacted within groups"
   ]
  },
  {
   "cell_type": "code",
   "execution_count": null,
   "id": "f944bb7a-462e-43ae-8a60-20d030e3fb1c",
   "metadata": {},
   "outputs": [],
   "source": [
    "# user's groups and their associated users (members),\n",
    "# i.e., user's connections with other users thru cooperative bookkeeping \n",
    "\n",
    "mbr = groups.merge(users[['user_id', 'is_agree']])\n",
    "\n",
    "mbr = mbr[['user_id', 'is_agree', 'group_id']] \\\n",
    "    .merge(mbr[['group_id', 'user_id', 'is_agree']],\n",
    "           on='group_id', how='left', suffixes=('', '_mbr'))\n",
    "# mbr.columns = ['user_id', 'user_is_agree', 'group_id', 'member_id', 'mbr_is_agree']\n",
    "mbr['self'] = mbr.user_id == mbr.user_id_mbr\n",
    "mbr.info()"
   ]
  },
  {
   "cell_type": "code",
   "execution_count": null,
   "id": "06932956-9adb-49b8-b0fc-330b313d1406",
   "metadata": {},
   "outputs": [],
   "source": [
    "mbr.to_feather('../data/members.feather')"
   ]
  },
  {
   "cell_type": "code",
   "execution_count": null,
   "id": "214fa3bf-af92-4a5b-ae48-b39974532645",
   "metadata": {},
   "outputs": [],
   "source": [
    "# count the participants at each group level for every user\n",
    "\n",
    "x = mbr.groupby(['user_id', 'group_id']) \\\n",
    "    .agg({'user_id_mbr':'nunique'}) \\\n",
    "    .reset_index(1) \\\n",
    "    .rename(columns={'user_id_mbr':'nbr_member'})\n",
    "# x.describe()\n",
    "\n",
    "_ = x.plot.hist(bins=50, alpha=0.7)"
   ]
  },
  {
   "cell_type": "markdown",
   "id": "5317f09a-d9e2-4157-8b44-0b62f140f198",
   "metadata": {},
   "source": [
    "_**n.b.:**_ Groups with only one participant should be excluded in the stat summary."
   ]
  },
  {
   "cell_type": "code",
   "execution_count": null,
   "id": "9474d0e7-43b8-4575-a0e4-0a76c898ea25",
   "metadata": {
    "scrolled": true
   },
   "outputs": [],
   "source": [
    "# for every user, count unique users across _all_ associated groups\n",
    "\n",
    "x = mbr.groupby('user_id').agg({'group_id': 'nunique', 'user_id_mbr':'nunique'})\n",
    "x.columns = ['n_grp', 'n_connection']\n",
    "x['n_connection'] = x['n_connection'] - 1 # remove user itself from count\n",
    "# _ = cnx.hist(bins=50, grid=False, alpha=.7)\n",
    "x.describe()"
   ]
  },
  {
   "cell_type": "code",
   "execution_count": null,
   "id": "2bc57188-4671-41dd-8e19-971cca228c3c",
   "metadata": {},
   "outputs": [],
   "source": []
  },
  {
   "cell_type": "code",
   "execution_count": null,
   "id": "28d3c6fe-3103-4818-9ff3-0268fd6dedaa",
   "metadata": {},
   "outputs": [],
   "source": [
    "# how many connections have not blocked/unfollowed\n",
    "agreed = mbr.groupby('user_id')[['is_agree_mbr', 'user_id_mbr', 'self']] \\\n",
    "    .apply(lambda x: x.loc[~x.self & x.is_agree_mbr, 'user_id_mbr'].nunique()).rename('n_agree')\n",
    "cnx = x.merge(agreed, on='user_id', how='left')"
   ]
  },
  {
   "cell_type": "code",
   "execution_count": null,
   "id": "09816c7f-f807-4e0f-8207-1d0ee5beb16e",
   "metadata": {},
   "outputs": [],
   "source": [
    "cnx.describe()"
   ]
  },
  {
   "cell_type": "code",
   "execution_count": null,
   "id": "b858f8cb-a6bf-45d3-b653-a13d2281480c",
   "metadata": {},
   "outputs": [],
   "source": [
    "# cnx.query(\"user_id=='Ufff1d2f36052bfa45e1cc71ab0bff020'\")"
   ]
  },
  {
   "cell_type": "code",
   "execution_count": null,
   "id": "208837f5-2d68-4a80-b857-a784009f1188",
   "metadata": {},
   "outputs": [],
   "source": [
    "# mbr[mbr.user_id=='Ufff1d2f36052bfa45e1cc71ab0bff020']"
   ]
  },
  {
   "cell_type": "markdown",
   "id": "3050e7a1-9c70-4b8f-91c6-20770f5acc42",
   "metadata": {},
   "source": [
    "## Categories"
   ]
  },
  {
   "cell_type": "code",
   "execution_count": null,
   "id": "bf92ab27-bb7a-4fb1-8e25-c913b149f7b1",
   "metadata": {},
   "outputs": [],
   "source": [
    "query = \"\"\"\n",
    "SELECT\n",
    "  id category_id,\n",
    "  category,\n",
    "  created_at ts_create,\n",
    "  updated_at ts_update\n",
    "FRoM zoo_checkchick3.ACC_CATEGORY\n",
    "\"\"\"\n",
    "\n",
    "a = pd.read_sql(query, con=engine)\n",
    "a['is_expense'] = True\n",
    "# a.info()\n",
    "\n",
    "query = \"\"\"\n",
    "SELECT\n",
    "  id category_id,\n",
    "  category,\n",
    "  created_at ts_create,\n",
    "  updated_at ts_update\n",
    "FRoM zoo_checkchick3.ACC_CATEGORY_INCOME\n",
    "\"\"\"\n",
    "\n",
    "b = pd.read_sql(query, con=engine)\n",
    "b['is_expense'] = False\n",
    "# b.info()\n",
    "\n",
    "# union and ensure index is reset\n",
    "category = pd.concat([a, b], ignore_index=True).convert_dtypes()\n",
    "# category.info()\n",
    "category.groupby('is_expense').size()"
   ]
  },
  {
   "cell_type": "code",
   "execution_count": null,
   "id": "d1429faf-0994-450d-b34c-c6670e9318a5",
   "metadata": {},
   "outputs": [],
   "source": []
  },
  {
   "cell_type": "markdown",
   "id": "69a8f63f-6646-4a84-b03a-b2d0d82dcb65",
   "metadata": {},
   "source": [
    "## Cash Flow"
   ]
  },
  {
   "cell_type": "code",
   "execution_count": null,
   "id": "17065480-dce6-47cd-85e0-089afe8cabc1",
   "metadata": {},
   "outputs": [],
   "source": [
    "# acc_cashflow dataset\n",
    "# check number of records (expense and income entries) each month\n",
    "\n",
    "cashflow = pd.read_feather('../data/cashflow.feather')\n",
    "\n",
    "df = cashflow \\\n",
    "    .groupby(cashflow.ts.dt.to_period('M')) \\\n",
    "    .agg(total = ('ts', 'size'),\n",
    "         nbr_expense_entry = ('is_expense', 'sum'),\n",
    "         nbr_group_entry = ('is_group', 'sum')\n",
    "        )\n",
    "_ = df.plot.line(y=['total', 'nbr_expense_entry', 'nbr_group_entry'], xlabel='')\n",
    "print(df.describe())"
   ]
  },
  {
   "cell_type": "code",
   "execution_count": null,
   "id": "fa2c47f2-20f9-4556-a6c9-9c7e50a29bb8",
   "metadata": {},
   "outputs": [],
   "source": [
    "# print(df[df.total > df.total.quantile(.51)])"
   ]
  },
  {
   "cell_type": "markdown",
   "id": "36acefb3-0337-430a-a430-3aeb8f28abcd",
   "metadata": {},
   "source": [
    "__*Observation:*__\n",
    "- errorenous timestamps\n",
    "- contrary to my expecation, personal entries makes up significally larger portions of records\n",
    "- expenses makes up larger portion of the records; this aligns with the norm for personal finance dataset"
   ]
  },
  {
   "cell_type": "markdown",
   "id": "4c6f0fb3-4e0e-4cb7-b2c7-270dfe16549e",
   "metadata": {},
   "source": [
    "Let `tsl` be the observation time period"
   ]
  },
  {
   "cell_type": "code",
   "execution_count": null,
   "id": "3ffe8430-fa40-4cfa-a089-ffd1a36b548a",
   "metadata": {},
   "outputs": [],
   "source": [
    "# select date range\n",
    "# between '2018-06-01' AND '2025-06-01'\n",
    "# to exclude erroneous rows\n",
    "\n",
    "tsl = pd.to_datetime(['2018-06-01', '2025-06-01'])\n",
    "cashflow = cashflow.query(\"@tsl[0] <= ts < @tsl[1]\").copy()\n",
    "cashflow.info()"
   ]
  },
  {
   "cell_type": "markdown",
   "id": "e0227847-dd58-427d-be1b-98a356f51adf",
   "metadata": {},
   "source": [
    "_**n.b.,**_ __amt__ is float64. _I expect this to be whole number._"
   ]
  },
  {
   "cell_type": "code",
   "execution_count": null,
   "id": "7139182e-fd3e-4d27-b77a-e39795b32312",
   "metadata": {},
   "outputs": [],
   "source": [
    "cashflow.isna().sum()"
   ]
  },
  {
   "cell_type": "code",
   "execution_count": null,
   "id": "cb8bbce2-78f2-4b14-abac-f864419069aa",
   "metadata": {},
   "outputs": [],
   "source": [
    "print(cashflow.group_id.count() / cashflow.shape[0])"
   ]
  },
  {
   "cell_type": "markdown",
   "id": "27b6fe21-f1df-4acf-b2c7-5a5164e3b06c",
   "metadata": {},
   "source": [
    "_**Observation:**_ group entries make up about 15.8% of the records."
   ]
  },
  {
   "cell_type": "markdown",
   "id": "d145f046-2b86-427a-a24c-2f7b3e16fbbf",
   "metadata": {},
   "source": [
    "_**Question:**_ Should factional amounts be rounded up?"
   ]
  },
  {
   "cell_type": "code",
   "execution_count": null,
   "id": "b7234f5b-808e-4358-b715-a796388e69eb",
   "metadata": {},
   "outputs": [],
   "source": [
    "cashflow.query(\"amt % 1 != 0\").groupby('is_expense')['amt'].describe()"
   ]
  },
  {
   "cell_type": "code",
   "execution_count": null,
   "id": "68210558-49f9-4f32-a51b-39951f80244f",
   "metadata": {},
   "outputs": [],
   "source": [
    "x = cashflow.loc[:, ['is_expense', 'amt']]\n",
    "x['amt_rounded'] = round(x['amt'])\n",
    "x['amt_diff'] = x['amt'] - x['amt_rounded']\n",
    "x.groupby('is_expense').agg({'is_expense':'size', 'amt':'sum', 'amt_rounded':'sum', 'amt_diff':'sum'})"
   ]
  },
  {
   "cell_type": "code",
   "execution_count": null,
   "id": "30a87b2c-2f64-48f1-9e81-ee871d86e36b",
   "metadata": {},
   "outputs": [],
   "source": [
    "# impute fractional amounts by rounding up if amt > 0 and down if amt < 0\n",
    "\n",
    "cashflow['amt'] = cashflow['amt'].round().astype('Int64')"
   ]
  },
  {
   "cell_type": "code",
   "execution_count": null,
   "id": "0f18fdf1-7920-4a80-b08a-c8cbbd5e1737",
   "metadata": {},
   "outputs": [],
   "source": [
    "cashflow.info()"
   ]
  },
  {
   "cell_type": "code",
   "execution_count": null,
   "id": "2632b1bf-5c27-4dd5-ab9f-247845123d7a",
   "metadata": {},
   "outputs": [],
   "source": [
    "# Should amount equals 0 be excluded?\n",
    "\n",
    "cashflow[cashflow.amt == 0].count()"
   ]
  },
  {
   "cell_type": "code",
   "execution_count": null,
   "id": "aa129a34-aef3-4b2d-a897-b8591cb9ccf8",
   "metadata": {
    "editable": true,
    "scrolled": true,
    "slideshow": {
     "slide_type": ""
    },
    "tags": []
   },
   "outputs": [],
   "source": [
    "# check number of active users in each month, i.e. period\n",
    "\n",
    "cashflow['yyyy_mm'] = cashflow['ts'].dt.to_period('M')\n",
    "cashflow['yyyy'] = cashflow['ts'].dt.year\n",
    "cashflow['mm'] = cashflow['ts'].dt.month\n",
    "cashflow['wk'] = cashflow['ts'].dt.isocalendar().week\n",
    "\n",
    "#cashflow.groupby(['yyyy', 'mm']).agg({'user_id':'nunique'}).unstack(level=1)"
   ]
  },
  {
   "cell_type": "code",
   "execution_count": null,
   "id": "1311daea-bdeb-44e7-8834-4e49248523c2",
   "metadata": {
    "editable": true,
    "slideshow": {
     "slide_type": ""
    },
    "tags": []
   },
   "outputs": [],
   "source": [
    "_ = cashflow.groupby('yyyy_mm').agg({'user_id':'nunique'}) \\\n",
    "    .plot(y='user_id', kind='line', figsize=(12, 6), title=\"User Count by Month\")"
   ]
  },
  {
   "cell_type": "markdown",
   "id": "882b213b-7347-4029-a950-03bd7a8bc91e",
   "metadata": {},
   "source": [
    "__*Observation:*__ number of active users gradually declined but not obvious"
   ]
  },
  {
   "cell_type": "code",
   "execution_count": null,
   "id": "78d30df7-410e-4ff3-9764-256a14828190",
   "metadata": {
    "editable": true,
    "slideshow": {
     "slide_type": ""
    },
    "tags": []
   },
   "outputs": [],
   "source": [
    "cashflow.describe()"
   ]
  },
  {
   "cell_type": "markdown",
   "id": "048ea49a-07fb-4414-a742-d17d4c8151f7",
   "metadata": {
    "editable": true,
    "slideshow": {
     "slide_type": ""
    },
    "tags": []
   },
   "source": [
    "_**Oberservation:**_ expense records out weight income records 3:1"
   ]
  },
  {
   "cell_type": "markdown",
   "id": "3b361b6f-3482-4d22-ac4f-e5c22600f389",
   "metadata": {
    "editable": true,
    "slideshow": {
     "slide_type": ""
    },
    "tags": []
   },
   "source": [
    "Impute `group_id` is blank but not `None`"
   ]
  },
  {
   "cell_type": "code",
   "execution_count": null,
   "id": "79fec616-47aa-476f-93c3-3e9e49d5a746",
   "metadata": {},
   "outputs": [],
   "source": [
    "bad = cashflow.group_id.str.strip().str.len() == 0  # group_id missing\n",
    "bad.value_counts()"
   ]
  },
  {
   "cell_type": "code",
   "execution_count": null,
   "id": "ea725e50-facb-47d7-9cf3-8b48f3242708",
   "metadata": {},
   "outputs": [],
   "source": [
    "cashflow.loc[bad, 'user_id'].nunique()"
   ]
  },
  {
   "cell_type": "code",
   "execution_count": null,
   "id": "687bde05-d185-4efd-ad1c-08afdaea372b",
   "metadata": {},
   "outputs": [],
   "source": [
    "# impute\n",
    "cashflow.loc[bad, ['group_id', 'is_group']] = [None, False]"
   ]
  },
  {
   "cell_type": "markdown",
   "id": "f46de7bd-c180-493f-a567-74d72a4b5642",
   "metadata": {},
   "source": [
    "Erroneous `user_id`  \n",
    "Valid `user_id` must start with captial U"
   ]
  },
  {
   "cell_type": "code",
   "execution_count": null,
   "id": "d57b824c-a9e0-4853-9047-9b5ecc35f09d",
   "metadata": {},
   "outputs": [],
   "source": [
    "cashflow['isBad'] = ~cashflow.user_id.str.lower().str.startswith('u')"
   ]
  },
  {
   "cell_type": "code",
   "execution_count": null,
   "id": "abf2cdf8-8c9b-4df1-b5af-936139c22de5",
   "metadata": {},
   "outputs": [],
   "source": [
    "cashflow.groupby('isBad').size()"
   ]
  },
  {
   "cell_type": "code",
   "execution_count": null,
   "id": "2cce88a9-99b2-4e8d-860f-19b996b686eb",
   "metadata": {
    "scrolled": true
   },
   "outputs": [],
   "source": [
    "cashflow[bad].describe()"
   ]
  },
  {
   "cell_type": "markdown",
   "id": "71856f25-391e-48a5-a851-7b1a019e9de5",
   "metadata": {},
   "source": [
    "Impute invalid `user_id`  \n",
    "Make sure they start with capital U"
   ]
  },
  {
   "cell_type": "code",
   "execution_count": null,
   "id": "81dd7534-6a43-421c-909f-18e076a87d3f",
   "metadata": {},
   "outputs": [],
   "source": [
    "cashflow.loc[~cashflow.isBad, 'user_id'] = cashflow[~cashflow.isBad]['user_id'].str.capitalize()"
   ]
  },
  {
   "cell_type": "code",
   "execution_count": null,
   "id": "15bf0b5b-dfb0-4282-8b24-87b4361b895f",
   "metadata": {},
   "outputs": [],
   "source": [
    "#save\n",
    "cashflow.to_feather('../data/cashflow_cleaned.feather')"
   ]
  },
  {
   "cell_type": "code",
   "execution_count": null,
   "id": "0faac71c-2991-41c1-ae42-3ad556b3b384",
   "metadata": {},
   "outputs": [],
   "source": []
  },
  {
   "cell_type": "markdown",
   "id": "bcbf7d4e-82f6-43e3-aebe-66b09d5e4ddc",
   "metadata": {},
   "source": [
    "# Tidy Dataset\n",
    "\n",
    "Let the final tidy dataset be `td`. Proceed with the data preparation as follow:"
   ]
  },
  {
   "cell_type": "code",
   "execution_count": null,
   "id": "4ee7f6d0-e946-416a-a248-4f5202bf7be2",
   "metadata": {},
   "outputs": [],
   "source": []
  },
  {
   "cell_type": "markdown",
   "id": "ab4db14d-4d11-4b40-bdd7-8288299b4c49",
   "metadata": {
    "editable": true,
    "slideshow": {
     "slide_type": ""
    },
    "tags": []
   },
   "source": [
    "## Bookkeepers: basic stats\n",
    "\n",
    "Based on acc_cashflow,\n",
    "`tenure` is defined as to begin when user submits first entry,\n",
    "and does not consider when a user first follows or adds LINE OA\n",
    "(offical account) since that timestamp is not recorded.\n",
    "\n",
    "`days_active` is the number of unique days that a user log any transaction.\n",
    "\n",
    "Transaction amounts 0 (zero) are dismissed.\n",
    "\n",
    "Transactions with invalid user_id are dismissed."
   ]
  },
  {
   "cell_type": "code",
   "execution_count": null,
   "id": "cf14b16c-99c9-4774-8a79-e0ba6d84e5d7",
   "metadata": {
    "editable": true,
    "slideshow": {
     "slide_type": ""
    },
    "tags": []
   },
   "outputs": [],
   "source": [
    "# user tenure, income and expense entry stats,\n",
    "# including group entries\n",
    "# excluding amount = 0\n",
    "\n",
    "bkp = cashflow[(cashflow.amt != 0) & ~cashflow.isBad] \\\n",
    "    .groupby('user_id') \\\n",
    "    .agg(tenure = ('ts', lambda x: x.max() - x.min()),\n",
    "         days_active = ('ts', lambda x: x.dt.date.nunique()),\n",
    "         pct_active = ('ts', 'min'), # place holder\n",
    "         first_entry = ('ts', 'min'),\n",
    "         last_entry = ('ts', 'max'),\n",
    "         nbr_entry = ('user_id', 'count'),\n",
    "         total_exp = ('amt', lambda x: x[x < 0].sum()),\n",
    "         nbr_exp = ('amt', lambda x: x[x < 0].count()),\n",
    "         total_inc = ('amt', lambda x: x[x > 0].sum()),\n",
    "         nbr_inc = ('amt', lambda x: x[x > 0].count())\n",
    "        )"
   ]
  },
  {
   "cell_type": "code",
   "execution_count": null,
   "id": "b9b9bc9e-2efe-452b-b153-3d2999881131",
   "metadata": {},
   "outputs": [],
   "source": [
    "#tenure.days_active / \n",
    "# x = (tenure.last_entry.dt.floor('d') - tenure.first_entry.dt.floor('d'))\n",
    "# x = (tenure.last_entry.dt.date - tenure.first_entry.dt.date)\n",
    "y = (bkp.last_entry.dt.floor('d') - bkp.first_entry.dt.floor('d')).dt.days + 1\n",
    "bkp['pct_active'] = round(bkp.days_active / y * 100, 2)"
   ]
  },
  {
   "cell_type": "code",
   "execution_count": null,
   "id": "a2429279-6dd0-452b-85d5-32a43b44dcfb",
   "metadata": {},
   "outputs": [],
   "source": [
    "bkp.tenure.describe()"
   ]
  },
  {
   "cell_type": "code",
   "execution_count": null,
   "id": "f6b326da-04c3-4a70-ac01-7e0f0dd82ca7",
   "metadata": {},
   "outputs": [],
   "source": [
    "# users who's been active for only 1 day but made more than 5 entries\n",
    "# name this type of users\n",
    "_ = bkp.loc[(bkp.days_active == 1) & (bkp.nbr_entry > 5), 'nbr_entry'].hist()"
   ]
  },
  {
   "cell_type": "code",
   "execution_count": null,
   "id": "c6ac4c93-44d9-4894-85da-1e8582c432ee",
   "metadata": {},
   "outputs": [],
   "source": []
  },
  {
   "cell_type": "code",
   "execution_count": null,
   "id": "6ebbfcbf-a0d3-41bd-9ddb-d5e7c4bd741e",
   "metadata": {
    "jupyter": {
     "source_hidden": true
    }
   },
   "outputs": [],
   "source": [
    "bkp.describe(percentiles=[.25, .5, .75, .9, .95, .97, .99])"
   ]
  },
  {
   "cell_type": "code",
   "execution_count": null,
   "id": "81a7f889-3763-4be8-98cf-508b9b8f1ecc",
   "metadata": {},
   "outputs": [],
   "source": [
    "tsl[1] - pd.to_datetime('2025-04-03 08:00')"
   ]
  },
  {
   "cell_type": "markdown",
   "id": "93860803-f8b5-496b-b581-2a9bd716b6d3",
   "metadata": {},
   "source": [
    "_**Initial observation:**_ Of the 400,831 users, 97% of which had **not** logged entries since 2024-12-08 (in the last 58 days"
   ]
  },
  {
   "cell_type": "code",
   "execution_count": null,
   "id": "f2995d5b-1654-4ba3-bdd1-b1bef69a9e10",
   "metadata": {},
   "outputs": [],
   "source": [
    "# to-do: churned vs non-churned\n",
    "bkp['duration'] = bkp.tenure.dt.total_seconds() / 24 / 3600\n",
    "_ = bkp.plot(kind='scatter', x='duration', y='pct_active', alpha=.3)"
   ]
  },
  {
   "cell_type": "code",
   "execution_count": null,
   "id": "7ba356de-c6a0-467b-891a-beaad0c0a0ee",
   "metadata": {},
   "outputs": [],
   "source": [
    "_ = bkp.plot(kind='scatter', x='duration', y='days_active', alpha=.3)"
   ]
  },
  {
   "cell_type": "code",
   "execution_count": null,
   "id": "041fd330-419a-419d-a106-60c8c53fe731",
   "metadata": {},
   "outputs": [],
   "source": [
    "bkp.drop(columns='duration', inplace=True)"
   ]
  },
  {
   "cell_type": "markdown",
   "id": "50405aef-9031-45b6-9f1e-5b24f6054a28",
   "metadata": {},
   "source": [
    "## WIP Transaction Category "
   ]
  },
  {
   "cell_type": "code",
   "execution_count": null,
   "id": "81729183-af36-4ee0-95ee-5a495534e9a0",
   "metadata": {},
   "outputs": [],
   "source": [
    "# WIP category count\n",
    "td_cat = cashflow[~cashflow.isBad].groupby(['user_id', 'is_expense'])['category_id'].nunique().unstack(level=1, fill_value=0)\n",
    "td_cat.describe()"
   ]
  },
  {
   "cell_type": "code",
   "execution_count": null,
   "id": "1af59674-0c23-4376-a7cc-0fe88a0b29b8",
   "metadata": {
    "scrolled": true
   },
   "outputs": [],
   "source": [
    "cashflow[~cashflow.isBad & ~cashflow.is_expense].groupby(['user_id'])['category_id'].nunique().describe(percentiles=[.25, .5, .54, .55, .8, .9, .95])"
   ]
  },
  {
   "cell_type": "code",
   "execution_count": null,
   "id": "c3610b8b-cae3-4416-aae7-69d323b26c59",
   "metadata": {},
   "outputs": [],
   "source": [
    "cashflow[~cashflow.isBad & cashflow.is_expense].groupby(['user_id'])['category_id'].nunique().describe(percentiles=[.25, .60, .70, .75, .8, .85, .9, .95])"
   ]
  },
  {
   "cell_type": "markdown",
   "id": "787b9a66-f74e-4c75-b702-b4d2d52037ce",
   "metadata": {},
   "source": [
    "_**Initial observation:**_ \n",
    "- 50% or more did not track income\n",
    "- 54% of who did track used one cateogry\n",
    "- 60% of who tracked expenses utilized 3 or less categories"
   ]
  },
  {
   "cell_type": "markdown",
   "id": "e745e6af-298f-4e75-98eb-90fb71ad3355",
   "metadata": {},
   "source": [
    "## Group Bookkeepers\n",
    "\n",
    "_to-do:_ add count of categories"
   ]
  },
  {
   "cell_type": "code",
   "execution_count": null,
   "id": "9b95ee47-6071-4921-9409-762c33915088",
   "metadata": {},
   "outputs": [],
   "source": [
    "# user group expense and income entry stat per user\n",
    "\n",
    "td_grp = cashflow[cashflow.is_group & (cashflow.amt != 0) & ~cashflow.isBad] \\\n",
    "    .groupby('user_id') \\\n",
    "    .agg(n_grp = ('group_id', 'nunique'),\n",
    "         first_grp_entry = ('ts', 'min'),\n",
    "         last_grp_entry = ('ts', 'max'),\n",
    "         nbr_grp_exp = ('amt', lambda x: x[x < 0].count()),\n",
    "         grp_exp = ('amt', lambda x: x[x < 0].sum()),\n",
    "         nbr_grp_inc = ('amt', lambda x: x[x > 0].count()),\n",
    "         grp_inc = ('amt', lambda x: x[x > 0].sum())\n",
    "        )\n",
    "# td_grp.info()"
   ]
  },
  {
   "cell_type": "code",
   "execution_count": null,
   "id": "e6d112ab-4d0b-436d-9e66-19ae2ebb0697",
   "metadata": {
    "scrolled": true
   },
   "outputs": [],
   "source": [
    "td_grp.describe()"
   ]
  },
  {
   "cell_type": "markdown",
   "id": "5400b90f-b5b4-4fee-8a5c-fa37a0f5cc4e",
   "metadata": {
    "editable": true,
    "slideshow": {
     "slide_type": ""
    },
    "tags": []
   },
   "source": [
    "## Frequency\n",
    "\n",
    "What is the typical frequency of logging financial transactions?  \n",
    "- number of times per week\n",
    "- interval (or elapsed time) between events (logging transactions)"
   ]
  },
  {
   "cell_type": "code",
   "execution_count": null,
   "id": "a2bfd53b-4efa-49c8-9b2f-dd1465288a1b",
   "metadata": {},
   "outputs": [],
   "source": [
    "# set datetime index in order to resample frequency of event\n",
    "# cashflow.reset_index(inplace=True)\n",
    "cashflow = cashflow.set_index('ts').sort_index()"
   ]
  },
  {
   "cell_type": "code",
   "execution_count": null,
   "id": "e3966b01-4be4-4719-8b58-f606ef5bfcf5",
   "metadata": {},
   "outputs": [],
   "source": [
    "weekly_counts = cashflow[~cashflow.isBad].groupby(['user_id', pd.Grouper(freq='W')])['user_id'].size()"
   ]
  },
  {
   "cell_type": "code",
   "execution_count": null,
   "id": "fc96b590-afce-497f-8c56-0a7e7a7f8816",
   "metadata": {},
   "outputs": [],
   "source": [
    "fq = weekly_counts.groupby('user_id').agg({'count', 'median', 'mean'})\n",
    "fq.columns = ['nbr_wks', 'fq_median', 'fq_mean']\n",
    "fq.info()"
   ]
  },
  {
   "cell_type": "code",
   "execution_count": null,
   "id": "0947d899-bf81-48bb-b2e0-a8b884792fa9",
   "metadata": {},
   "outputs": [],
   "source": [
    "fq.describe(percentiles=[.25, .5, .6, .7, .75, .8, .9, .95, .99])"
   ]
  },
  {
   "cell_type": "markdown",
   "id": "28baba6a-374b-4f3e-91fa-05ecd134c253",
   "metadata": {},
   "source": [
    "calcuate interval"
   ]
  },
  {
   "cell_type": "code",
   "execution_count": null,
   "id": "35e8bec2-27f6-4e54-b7ba-7cb404d49a29",
   "metadata": {},
   "outputs": [],
   "source": [
    "# if we just want to know how frequent users records their personal finance,\n",
    "# it is not important to separate income from expense entries\n",
    "\n",
    "cashflow.reset_index(inplace=True)\n",
    "y_sorted = cashflow[~cashflow.isBad].sort_values(['user_id', 'ts'])\n",
    "y_sorted['time_elapsed'] = y_sorted.groupby('user_id')['ts'].diff()"
   ]
  },
  {
   "cell_type": "code",
   "execution_count": null,
   "id": "b52cd382-4ca6-4f4f-9bca-ec5595a666c6",
   "metadata": {},
   "outputs": [],
   "source": [
    "# y_sorted[['user_id', 'ts', 'time_elapsed']].tail(30)"
   ]
  },
  {
   "cell_type": "code",
   "execution_count": null,
   "id": "d80edd79-0ddf-4a8c-a924-418a62a2164a",
   "metadata": {},
   "outputs": [],
   "source": [
    "# intervals = y_sorted.groupby('user_id').agg({'days_elapsed':['median', 'mean', 'max']})\n",
    "# n.b. a known bug with median, use quantile(0.5) workaround\n",
    "#      workaround also includes renaming the columns <lambda_0>\n",
    "intervals = y_sorted.groupby('user_id').agg({'time_elapsed':[lambda x: x.quantile(0.5), 'mean', 'max']})\n",
    "intervals.columns = intervals.columns.set_levels(['median', 'mean', 'max'], level=1)\n",
    "intervals.describe()"
   ]
  },
  {
   "cell_type": "code",
   "execution_count": null,
   "id": "3c3f3b43-fb39-4067-a25b-0e81cc0c0d99",
   "metadata": {},
   "outputs": [],
   "source": [
    "# flatten multilevel column index\n",
    "# intervals.columns = intervals.columns.to_flat_index()\n",
    "intervals.columns = ['_'.join(col) for col in intervals.columns]"
   ]
  },
  {
   "cell_type": "code",
   "execution_count": null,
   "id": "30e04caa-115d-4a09-95a5-2552c328ee2c",
   "metadata": {},
   "outputs": [],
   "source": [
    "# intervals.head(30)"
   ]
  },
  {
   "cell_type": "code",
   "execution_count": null,
   "id": "260e110b-f3fe-41ec-bf74-5682d2bfa14c",
   "metadata": {},
   "outputs": [],
   "source": [
    "fq.info()"
   ]
  },
  {
   "cell_type": "code",
   "execution_count": null,
   "id": "8f7efe72-04ed-4e3a-a78b-502c8c77c254",
   "metadata": {},
   "outputs": [],
   "source": [
    "intervals.info()"
   ]
  },
  {
   "cell_type": "code",
   "execution_count": null,
   "id": "070fe526-4620-443a-a060-915f10f0b0b4",
   "metadata": {},
   "outputs": [],
   "source": [
    "freq = fq.merge(intervals, on='user_id').convert_dtypes()"
   ]
  },
  {
   "cell_type": "code",
   "execution_count": null,
   "id": "4fd30e80-045d-4766-96e6-d09b2c4b7ff6",
   "metadata": {},
   "outputs": [],
   "source": [
    "freq.info()"
   ]
  },
  {
   "cell_type": "markdown",
   "id": "b06a1b6e-ea37-49b4-bb9a-7bc8754f90f3",
   "metadata": {},
   "source": [
    "### WIP"
   ]
  },
  {
   "cell_type": "code",
   "execution_count": null,
   "id": "e446dae1-3092-4bea-8ebe-46585d293bd0",
   "metadata": {},
   "outputs": [],
   "source": [
    "# \n",
    "x_sorted = cashflow.sort_values(['user_id', 'is_expense', 'ts'])\n",
    "x_sorted['days_elapsed'] = x_sorted.groupby(['user_id', 'is_expense'])['ts'].diff()"
   ]
  },
  {
   "cell_type": "code",
   "execution_count": null,
   "id": "f2902f0d-b332-42cf-bdb8-77c871d219a8",
   "metadata": {
    "scrolled": true
   },
   "outputs": [],
   "source": [
    "x_sorted[['user_id', 'is_expense', 'ts', 'days_elapsed']].tail(30)"
   ]
  },
  {
   "cell_type": "code",
   "execution_count": null,
   "id": "98d3abf5-6604-4d4d-b088-d3717b27b2b8",
   "metadata": {},
   "outputs": [],
   "source": [
    "fq_ = x_sorted.groupby(['user_id', 'is_expense']).agg({'days_elapsed':[lambda x: x.quantile(0.5), 'mean', 'max']})"
   ]
  },
  {
   "cell_type": "code",
   "execution_count": null,
   "id": "61d784ca-6758-4e68-9271-8cbad515399a",
   "metadata": {},
   "outputs": [],
   "source": [
    "fq_.query(\"is_expense\").describe()"
   ]
  },
  {
   "cell_type": "code",
   "execution_count": null,
   "id": "73b281bc-ec27-4069-805b-4b12c4fc3d96",
   "metadata": {},
   "outputs": [],
   "source": [
    "#fq =\n",
    "fq_.groupby(['is_expense']).agg(['min', 'median', 'mean', 'max'])\n",
    "# fq"
   ]
  },
  {
   "cell_type": "code",
   "execution_count": null,
   "id": "3740e236-f83d-45eb-bc00-8d257b74996a",
   "metadata": {
    "scrolled": true
   },
   "outputs": [],
   "source": [
    "fq_.xs('Uffffed94576a41cb306b899c40719ed9', level='user_id')"
   ]
  },
  {
   "cell_type": "code",
   "execution_count": null,
   "id": "871c7430-099f-4858-87e0-185dfa6fe8d9",
   "metadata": {},
   "outputs": [],
   "source": [
    "fq_.xs(False, level='is_expense').agg(['min','mean','median'])\n",
    "# fq.index"
   ]
  },
  {
   "cell_type": "markdown",
   "id": "93303b48-0e30-45f4-a2d6-4790bfb25b44",
   "metadata": {
    "editable": true,
    "slideshow": {
     "slide_type": ""
    },
    "tags": []
   },
   "source": [
    "## Merge and Impute"
   ]
  },
  {
   "cell_type": "code",
   "execution_count": null,
   "id": "7ab13ce0-597a-4960-9ceb-cfca3142ec3a",
   "metadata": {},
   "outputs": [],
   "source": [
    "td = users[['user_id', 'is_agree', 'ts']].rename(columns={'ts':'user_ts'}) \\\n",
    "    .merge(bkp, on='user_id', how='right') \\\n",
    "    .merge(freq, on='user_id', how='left') \\\n",
    "    .merge(cnx, on='user_id', how='left') \\\n",
    "    .merge(td_grp, on='user_id', how='left', suffixes=('', '_activated')) \\\n",
    "    .convert_dtypes()\n",
    "# td.info()"
   ]
  },
  {
   "cell_type": "code",
   "execution_count": null,
   "id": "f85777cc-9445-4b01-86c4-e849e4fece43",
   "metadata": {},
   "outputs": [],
   "source": [
    "values = {'is_agree':False,\n",
    "          'n_grp':0, 'n_connection':0, 'n_agree':0,\n",
    "          'n_grp_activated':0,\n",
    "          'grp_exp':0, 'nbr_grp_exp':0,\n",
    "          'grp_inc':0, 'nbr_grp_inc':0}\n",
    "td.fillna(value=values, inplace=True)"
   ]
  },
  {
   "cell_type": "code",
   "execution_count": null,
   "id": "699c11d0-cf14-4404-9acb-2124893d14f3",
   "metadata": {},
   "outputs": [],
   "source": [
    "td.describe()"
   ]
  },
  {
   "cell_type": "code",
   "execution_count": null,
   "id": "395ad474-70a2-484b-8a5b-502ac79a50cd",
   "metadata": {},
   "outputs": [],
   "source": [
    "td.info()"
   ]
  },
  {
   "cell_type": "code",
   "execution_count": null,
   "id": "831c02e8-e2c1-420e-9a64-9511248900bd",
   "metadata": {
    "editable": true,
    "scrolled": true,
    "slideshow": {
     "slide_type": ""
    },
    "tags": [
     "raises-exception"
    ]
   },
   "outputs": [],
   "source": [
    "# raise exception if file already exists but allows the run to proceed\n",
    "# to-do: convert user tenure from timedelta days to int before .to_csv\n",
    "td.to_feather('../data/tidy.feather')\n",
    "# td.drop(columns=['user_ts']).to_csv('../reports/tidy.csv', mode='x')"
   ]
  },
  {
   "cell_type": "code",
   "execution_count": null,
   "id": "a6237b27-45fc-4824-a27d-4978e3da5b46",
   "metadata": {
    "scrolled": true
   },
   "outputs": [],
   "source": [
    "# interesting example\n",
    "td[td.user_id=='Uffffed94576a41cb306b899c40719ed9']"
   ]
  },
  {
   "cell_type": "code",
   "execution_count": null,
   "id": "cfbb3b4b-9ca1-47de-a73e-812a598f8947",
   "metadata": {
    "scrolled": true
   },
   "outputs": [],
   "source": [
    "# which users has big gaps between logging\n",
    "td[td.time_elapsed_max.dt.days > 106].groupby('is_agree')[['days_active', 'tenure', 'nbr_entry']].median()"
   ]
  },
  {
   "cell_type": "markdown",
   "id": "a3e3d143-04d7-4bd5-a4ee-e6fe68270b39",
   "metadata": {},
   "source": [
    "# Supplemental"
   ]
  },
  {
   "cell_type": "markdown",
   "id": "50ff137c-c8a4-476b-95cd-0066efc26632",
   "metadata": {
    "editable": true,
    "slideshow": {
     "slide_type": ""
    },
    "tags": []
   },
   "source": [
    "```sql\n",
    "-- consolidate expense and income entry to simplify analysis\n",
    "\n",
    "USE checkchick;\n",
    "\n",
    "DROP TABLE IF EXISTS acc_cashflow;\n",
    "\n",
    "CREATE TABLE acc_cashflow (\n",
    "  user_id VARCHAR(100) NOT NULL,\n",
    "  ts DATETIME NOT NULL,\n",
    "  amt DOUBLE NOT NULL,\n",
    "  is_expense BOOLEAN,\n",
    "  is_group BOOLEAN,\n",
    "  group_id VARCHAR(100),\n",
    "  category_id INT,\n",
    "  note VARCHAR(160)\n",
    ") COMMENT = 'consolidated expense and income entries'\n",
    ";\n",
    "\n",
    "-- insert personal expense\n",
    "INSERT INTO acc_cashflow\n",
    "SELECT\n",
    "  USER_ID user_id,\n",
    "  CREDTM ts,\n",
    "  -AMOUNT amt,\n",
    "  TRUE is_expense,\n",
    "  FALSE is_group,\n",
    "  NULL group_id,\n",
    "  CATEGORY category_id,\n",
    "  NOTE note\n",
    "FROM ACC_USER_DETAIL\n",
    ";\n",
    "\n",
    "-- insert group expense\n",
    "INSERT INTO acc_cashflow\n",
    "SELECT\n",
    "  USER_ID user_id,\n",
    "  CREDTM ts,\n",
    "  -AMOUNT amt,\n",
    "  TRUE is_expense,\n",
    "  TRUE is_group,\n",
    "  GROUP_ID group_id,\n",
    "  CATEGORY category_id,\n",
    "  NOTE note\n",
    "FROM ACC_GROUP_DETAIL\n",
    ";\n",
    "\n",
    "-- insert personal income\n",
    "INSERT INTO acc_cashflow\n",
    "SELECT\n",
    "  USER_ID user_id,\n",
    "  CREDTM ts,\n",
    "  AMOUNT amt,\n",
    "  FALSE is_expense,\n",
    "  FALSE is_group,\n",
    "  NULL group_id,\n",
    "  CATEGORY category_id,\n",
    "  NOTE note\n",
    "FROM ACC_USER_DETAIL_INCOME\n",
    ";\n",
    "\n",
    "-- insert group income\n",
    "INSERT INTO acc_cashflow\n",
    "SELECT\n",
    "  USER_ID user_id,\n",
    "  CREDTM ts,\n",
    "  AMOUNT amt,\n",
    "  FALSE is_expense,\n",
    "  TRUE is_group,\n",
    "  GROUP_ID group_id,\n",
    "  CATEGORY category_id,\n",
    "  NOTE note\n",
    "FROM ACC_GROUP_DETAIL_INCOME\n",
    ";```"
   ]
  }
 ],
 "metadata": {
  "kernelspec": {
   "display_name": "Python 3 (ipykernel)",
   "language": "python",
   "name": "python3"
  },
  "language_info": {
   "codemirror_mode": {
    "name": "ipython",
    "version": 3
   },
   "file_extension": ".py",
   "mimetype": "text/x-python",
   "name": "python",
   "nbconvert_exporter": "python",
   "pygments_lexer": "ipython3",
   "version": "3.13.2"
  }
 },
 "nbformat": 4,
 "nbformat_minor": 5
}
