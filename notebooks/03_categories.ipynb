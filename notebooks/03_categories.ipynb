{
 "cells": [
  {
   "cell_type": "markdown",
   "id": "1d0a1b05-41f8-4006-b406-f681dc374474",
   "metadata": {},
   "source": [
    "# Reducing of Sparse Cash Flow Category\n",
    "What is the motivation?  \n",
    "To effectively model or classify user behavior using cash flow categories, it’s important to tackle the issue of sparsely populated or rarely used categories in the dataset. These categories can introduce noise, complicate behavior classification, and diminish the model’s clarity and interpretability. To address this challenge, grouping them into higher-order, more logically clustered categories can improve the analysis and interpretation of user financial behavior.\n",
    "\n",
    "\n"
   ]
  },
  {
   "cell_type": "code",
   "execution_count": null,
   "id": "43c79ca2-be3e-46fc-b48b-2e3038301d42",
   "metadata": {
    "ExecuteTime": {
     "end_time": "2025-06-20T12:57:31.603Z",
     "start_time": "2025-06-20T12:57:31.218935Z"
    }
   },
   "outputs": [],
   "source": [
    "import pandas as pd\n",
    "\n",
    "category = pd.read_feather('../data/category_stat.feather')\n",
    "category.groupby('is_expense').size()"
   ]
  },
  {
   "cell_type": "code",
   "execution_count": null,
   "id": "3399c4c9-542a-4d39-9100-7e9641eaba11",
   "metadata": {
    "ExecuteTime": {
     "end_time": "2025-06-20T12:57:32.917148Z",
     "start_time": "2025-06-20T12:57:32.902551Z"
    }
   },
   "outputs": [],
   "source": [
    "category[category.is_expense].sort_values(['n_user','count']).tail(20)"
   ]
  },
  {
   "cell_type": "code",
   "execution_count": null,
   "id": "f5831213-7668-49a1-965b-c3d7ce560061",
   "metadata": {},
   "outputs": [],
   "source": [
    "_ = category[category.is_expense].plot(x='count', y='n_user', kind='scatter', alpha=.5)"
   ]
  },
  {
   "cell_type": "code",
   "execution_count": null,
   "id": "ce84d648-7649-4e68-8d5c-82b839b8fb41",
   "metadata": {},
   "outputs": [],
   "source": [
    "_ = category[category.is_expense & (category.n_user < 1000)].plot(x='count', y='n_user', kind='scatter', alpha=.5)"
   ]
  },
  {
   "cell_type": "code",
   "execution_count": null,
   "id": "2493a857-678f-4472-a84c-27c50bc63ea2",
   "metadata": {},
   "outputs": [],
   "source": [
    "category.query(\"is_expense == True and n_user < 1000\").sort_values(['n_user','count']).tail(40)"
   ]
  },
  {
   "cell_type": "code",
   "execution_count": null,
   "id": "0c94327a-863a-4c4d-859f-8a8e08df1174",
   "metadata": {
    "ExecuteTime": {
     "end_time": "2025-06-20T12:57:52.147024Z",
     "start_time": "2025-06-20T12:57:52.140353Z"
    }
   },
   "outputs": [],
   "source": [
    "category[~category.is_expense].sort_values('count').head(20)"
   ]
  },
  {
   "cell_type": "code",
   "execution_count": null,
   "id": "a8bc8183-c686-447f-99ff-52e84b06f045",
   "metadata": {},
   "outputs": [],
   "source": [
    "_ = category[~category.is_expense].plot(x='count', y='n_user', kind='scatter', alpha=.5)"
   ]
  },
  {
   "cell_type": "code",
   "execution_count": null,
   "id": "8776ce7c-8903-4d81-94d3-7d7a5cf35c05",
   "metadata": {},
   "outputs": [],
   "source": []
  },
  {
   "cell_type": "code",
   "execution_count": null,
   "id": "f83982ec-5143-4be2-be9f-c3680bf32773",
   "metadata": {},
   "outputs": [],
   "source": [
    "import jieba\n",
    "from gensim.models import Word2Vec\n",
    "from sklearn.cluster import KMeans\n",
    "import numpy as np\n",
    "\n",
    "# Sample Traditional Chinese text\n",
    "text = [\"今天天氣很好\", \"外面下雨了\", \"我喜歡吃蘋果\", \"他討厭香蕉\", \"天氣冷了，要穿厚一點\"]\n",
    "\n",
    "# Tokenize using Jieba\n",
    "tokenized_text = [jieba.lcut(sentence) for sentence in text]\n",
    "\n",
    "# Train Word2Vec model\n",
    "model = Word2Vec(sentences=tokenized_text, vector_size=50, window=3, min_count=1, sg=1)\n",
    "\n",
    "# Extract word embeddings\n",
    "words = list(model.wv.key_to_index.keys())\n",
    "word_vectors = np.array([model.wv[word] for word in words])\n",
    "\n",
    "# Apply K-Means clustering\n",
    "num_clusters = 3  # Adjust based on your needs\n",
    "kmeans = KMeans(n_clusters=num_clusters, random_state=42)\n",
    "kmeans.fit(word_vectors)\n",
    "\n",
    "# Output clusters\n",
    "clusters = {i: [] for i in range(num_clusters)}\n",
    "for word, label in zip(words, kmeans.labels_):\n",
    "    clusters[label].append(word)\n",
    "\n",
    "print(clusters)\n"
   ]
  },
  {
   "cell_type": "code",
   "execution_count": null,
   "id": "82f8f30b-32ed-4eb2-b1d0-cc9aa9253523",
   "metadata": {},
   "outputs": [],
   "source": []
  },
  {
   "cell_type": "code",
   "execution_count": null,
   "id": "01ceab74-f6fb-42d1-9f33-a231630a865a",
   "metadata": {
    "ExecuteTime": {
     "end_time": "2025-06-20T13:05:34.006713Z",
     "start_time": "2025-06-20T13:05:07.473450Z"
    }
   },
   "outputs": [],
   "source": [
    "from sentence_transformers import SentenceTransformer\n",
    "from sklearn.cluster import AgglomerativeClustering\n",
    "from sklearn.metrics.pairwise import cosine_similarity\n",
    "import numpy as np\n",
    "import pandas as pd\n",
    "\n",
    "# Load pretrained SBERT model\n",
    "# model = SentenceTransformer(\"uer/sbert-base-chinese-nli\")\n",
    "model = SentenceTransformer(\"shibing624/text2vec-base-chinese\")\n",
    "\n",
    "\n",
    "# Example Traditional Chinese phrases\n",
    "phrases = [\"飲食\", \"三餐\", \"早餐\", \"晚餐\", \"宵夜\", \"咖啡\", \"食材\", \"加油\", \"生活用品\", \"飲料\", \"日用品\", \"日常用品\"]\n",
    "\n",
    "# Encode phrases into embeddings\n",
    "embeddings = model.encode(phrases)\n",
    "\n",
    "# Compute cosine similarity matrix\n",
    "similarity_matrix = cosine_similarity(embeddings)\n",
    "\n",
    "# Convert similarity matrix to 1D feature space\n",
    "X = np.array(similarity_matrix)\n",
    "\n",
    "# Apply Hierarchical Clustering\n",
    "cluster_model = AgglomerativeClustering(n_clusters=None, distance_threshold=0.5, linkage=\"ward\")\n",
    "labels = cluster_model.fit_predict(X)\n",
    "\n",
    "# Display clustered results\n",
    "df = pd.DataFrame({\"Phrase\": phrases, \"Cluster\": labels})\n",
    "print(df.sort_values(\"Cluster\"))\n"
   ]
  },
  {
   "cell_type": "code",
   "execution_count": null,
   "id": "52c79f8e-4719-4abf-bdb7-3c6d38311793",
   "metadata": {},
   "outputs": [],
   "source": []
  }
 ],
 "metadata": {
  "kernelspec": {
   "display_name": "Python 3 (ipykernel)",
   "language": "python",
   "name": "python3"
  },
  "language_info": {
   "codemirror_mode": {
    "name": "ipython",
    "version": 3
   },
   "file_extension": ".py",
   "mimetype": "text/x-python",
   "name": "python",
   "nbconvert_exporter": "python",
   "pygments_lexer": "ipython3",
   "version": "3.12.2"
  }
 },
 "nbformat": 4,
 "nbformat_minor": 5
}
